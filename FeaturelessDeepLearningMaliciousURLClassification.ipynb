{
 "cells": [
  {
   "cell_type": "code",
   "execution_count": 7,
   "metadata": {
    "colab": {
     "base_uri": "https://localhost:8080/"
    },
    "executionInfo": {
     "elapsed": 5211,
     "status": "ok",
     "timestamp": 1652096215163,
     "user": {
      "displayName": "金磊",
      "userId": "00615052284365786707"
     },
     "user_tz": -480
    },
    "id": "-YECTMlfLXVr",
    "outputId": "cdb5ae38-5ba5-4034-9bcf-1c28fe01e77f"
   },
   "outputs": [],
   "source": [
    "# Load Libraries - Make sure to run this cell!\n",
    "import pandas as pd\n",
    "import numpy as np\n",
    "import re, os\n",
    "from string import printable\n",
    "from sklearn import model_selection\n",
    "\n",
    "#import gensim\n",
    "import tensorflow as tf\n",
    "from tensorflow.keras.models import Sequential, Model, model_from_json, load_model\n",
    "from tensorflow.keras import regularizers\n",
    "from tensorflow.keras.layers import Dense, Dropout, Activation, Lambda, Flatten\n",
    "from tensorflow.keras.layers import Input, ELU, LSTM, Embedding, Conv2D, MaxPooling2D, \\\n",
    "BatchNormalization, Conv1D, MaxPooling1D, concatenate\n",
    "from tensorflow.keras.preprocessing import sequence\n",
    "from tensorflow.keras.optimizers import SGD, Adam, RMSprop\n",
    "# from keras.utils import np_utils\n",
    "from tensorflow.keras import backend as K\n",
    "import keras\n",
    "from sklearn.preprocessing import LabelEncoder\n",
    "from sklearn.metrics import f1_score\n",
    "from pathlib import Path\n",
    "import json\n",
    "from itertools import groupby\n",
    "import warnings\n",
    "warnings.filterwarnings(\"ignore\")"
   ]
  },
  {
   "cell_type": "markdown",
   "metadata": {
    "id": "sdu831H_LXVv"
   },
   "source": [
    "## Preprocess raw URLs"
   ]
  },
  {
   "cell_type": "code",
   "execution_count": 2,
   "metadata": {
    "colab": {
     "base_uri": "https://localhost:8080/",
     "height": 833
    },
    "executionInfo": {
     "elapsed": 1118,
     "status": "ok",
     "timestamp": 1652096217896,
     "user": {
      "displayName": "金磊",
      "userId": "00615052284365786707"
     },
     "user_tz": -480
    },
    "id": "TL2vQOGsLXVv",
    "outputId": "ce218f52-ee5a-45c6-d6fe-89031be0572d"
   },
   "outputs": [
    {
     "data": {
      "text/html": [
       "<div>\n",
       "<style scoped>\n",
       "    .dataframe tbody tr th:only-of-type {\n",
       "        vertical-align: middle;\n",
       "    }\n",
       "\n",
       "    .dataframe tbody tr th {\n",
       "        vertical-align: top;\n",
       "    }\n",
       "\n",
       "    .dataframe thead th {\n",
       "        text-align: right;\n",
       "    }\n",
       "</style>\n",
       "<table border=\"1\" class=\"dataframe\">\n",
       "  <thead>\n",
       "    <tr style=\"text-align: right;\">\n",
       "      <th></th>\n",
       "      <th>url</th>\n",
       "      <th>isMalicious</th>\n",
       "    </tr>\n",
       "  </thead>\n",
       "  <tbody>\n",
       "    <tr>\n",
       "      <th>2499</th>\n",
       "      <td>https://www.rams.com.au/</td>\n",
       "      <td>0</td>\n",
       "    </tr>\n",
       "    <tr>\n",
       "      <th>1576</th>\n",
       "      <td>https://www.mcmakler.de/</td>\n",
       "      <td>0</td>\n",
       "    </tr>\n",
       "  </tbody>\n",
       "</table>\n",
       "</div>"
      ],
      "text/plain": [
       "                           url  isMalicious\n",
       "2499  https://www.rams.com.au/            0\n",
       "1576  https://www.mcmakler.de/            0"
      ]
     },
     "execution_count": 2,
     "metadata": {},
     "output_type": "execute_result"
    }
   ],
   "source": [
    "## Load data URL\n",
    "# DATA_HOME = 'data/'\n",
    "# df = pd.read_csv(DATA_HOME + 'url_data_mega_deep_learning.csv')\n",
    "DATA_HOME = '../URLphishing/data/'\n",
    "df = pd.read_csv(DATA_HOME + 'URLdatasetX2_1.csv')\n",
    "labels = df.iloc[:,-1].values\n",
    "label_encoder = LabelEncoder()\n",
    "labels = label_encoder.fit_transform(labels)\n",
    "df = pd.DataFrame({'url': df['url'], 'isMalicious': labels})\n",
    "# df = df.sample(n=1000)\n",
    "df.sample(n=25).head(2) "
   ]
  },
  {
   "cell_type": "code",
   "execution_count": 3,
   "metadata": {
    "colab": {
     "base_uri": "https://localhost:8080/"
    },
    "executionInfo": {
     "elapsed": 12389,
     "status": "ok",
     "timestamp": 1652096233982,
     "user": {
      "displayName": "金磊",
      "userId": "00615052284365786707"
     },
     "user_tz": -480
    },
    "id": "b_-oaYQELXVw",
    "outputId": "107e34a9-3c6a-4106-b76b-2639a18f2bf5"
   },
   "outputs": [
    {
     "name": "stdout",
     "output_type": "stream",
     "text": [
      "Matrix dimensions of X:  (2802, 75) Vector dimension of target:  (2802,)\n"
     ]
    }
   ],
   "source": [
    "# Initial Data Preparation URL\n",
    "\n",
    "# Step 1: Convert raw URL string in list of lists where characters that are contained in \"printable\" are stored encoded as integer \n",
    "url_int_tokens = [[printable.index(x) + 1 for x in url if x in printable] for url in df.url]\n",
    "\n",
    "# Step 2: Cut URL string at max_len or pad with zeros if shorter\n",
    "max_len=75\n",
    "X = sequence.pad_sequences(url_int_tokens, maxlen=max_len)\n",
    " \n",
    "# Step 3: Extract labels form df to numpy array\n",
    "target = np.array(df.isMalicious)\n",
    "\n",
    "print('Matrix dimensions of X: ', X.shape, 'Vector dimension of target: ', target.shape)"
   ]
  },
  {
   "cell_type": "code",
   "execution_count": 4,
   "metadata": {
    "colab": {
     "base_uri": "https://localhost:8080/"
    },
    "executionInfo": {
     "elapsed": 12389,
     "status": "ok",
     "timestamp": 1652096233982,
     "user": {
      "displayName": "金磊",
      "userId": "00615052284365786707"
     },
     "user_tz": -480
    },
    "id": "b_-oaYQELXVw",
    "outputId": "107e34a9-3c6a-4106-b76b-2639a18f2bf5"
   },
   "outputs": [],
   "source": [
    "# X"
   ]
  },
  {
   "cell_type": "code",
   "execution_count": 5,
   "metadata": {
    "executionInfo": {
     "elapsed": 300,
     "status": "ok",
     "timestamp": 1652096235586,
     "user": {
      "displayName": "金磊",
      "userId": "00615052284365786707"
     },
     "user_tz": -480
    },
    "id": "9vCyc_SvLXVw"
   },
   "outputs": [],
   "source": [
    "# Simple Cross-Validation: Split the data set into training and test data\n",
    "# X_train, X_test, target_train, target_test = model_selection.train_test_split(X, target, test_size=0.25, random_state=33)\n",
    "n_samples = len(df.index)\n",
    "np.random.seed(0)\n",
    "train_idx = list(np.random.choice(list(range(n_samples)), int(0.8*n_samples), replace=False))\n",
    "test_idx = list(set(list(range(n_samples))).difference(set(train_idx)))\n",
    "X_train = X[train_idx]; X_test = X[test_idx]; target_train = target[train_idx]; target_test = target[test_idx]"
   ]
  },
  {
   "cell_type": "code",
   "execution_count": 8,
   "metadata": {
    "executionInfo": {
     "elapsed": 300,
     "status": "ok",
     "timestamp": 1652096235586,
     "user": {
      "displayName": "金磊",
      "userId": "00615052284365786707"
     },
     "user_tz": -480
    },
    "id": "9vCyc_SvLXVw"
   },
   "outputs": [
    {
     "name": "stdout",
     "output_type": "stream",
     "text": [
      "Train freq:  [1622, 619]\n"
     ]
    }
   ],
   "source": [
    "print(\"Train freq: \", [len(list(group)) for key, group in groupby(sorted(target_train))])"
   ]
  },
  {
   "cell_type": "markdown",
   "metadata": {
    "id": "ucimrZZiLXVx"
   },
   "source": [
    "## Architecture 1 - Simple LSTM"
   ]
  },
  {
   "cell_type": "code",
   "execution_count": 9,
   "metadata": {
    "executionInfo": {
     "elapsed": 303,
     "status": "ok",
     "timestamp": 1652094980286,
     "user": {
      "displayName": "金磊",
      "userId": "00615052284365786707"
     },
     "user_tz": -480
    },
    "id": "ok3tamw9LXVx"
   },
   "outputs": [],
   "source": [
    "## Deep Learning model Definition --- A --- (Simple LSTM)\n",
    "\n",
    "\n",
    "def simple_lstm(max_len=75, emb_dim=32, max_vocab_len=100, lstm_output_size=32, W_reg=regularizers.l2(1e-4)):\n",
    "    # Input\n",
    "    main_input = Input(shape=(max_len,), dtype='int32', name='main_input')\n",
    "    # Embedding layer\n",
    "    emb = Embedding(input_dim=max_vocab_len, output_dim=emb_dim, input_length=max_len, embeddings_regularizer=W_reg)(main_input) \n",
    "    emb = Dropout(0.2)(emb)\n",
    "    # LSTM layer\n",
    "    lstm = LSTM(lstm_output_size)(emb)\n",
    "    lstm = Dropout(0.5)(lstm)\n",
    "    \n",
    "    # Output layer (last fully connected layer)\n",
    "    output = Dense(1, activation='sigmoid', name='output')(lstm)\n",
    "\n",
    "    # Compile model and define optimizer\n",
    "    model = Model(inputs=main_input, outputs=output)\n",
    "    # adam = Adam(lr=1e-4, beta_1=0.9, beta_2=0.999, epsilon=1e-08)\n",
    "    model.compile(optimizer='adam', loss='binary_crossentropy', metrics=[\"accuracy\"])\n",
    "    \n",
    "    return model"
   ]
  },
  {
   "cell_type": "code",
   "execution_count": 10,
   "metadata": {
    "colab": {
     "base_uri": "https://localhost:8080/"
    },
    "executionInfo": {
     "elapsed": 648049,
     "status": "ok",
     "timestamp": 1652095633879,
     "user": {
      "displayName": "金磊",
      "userId": "00615052284365786707"
     },
     "user_tz": -480
    },
    "id": "xFdIIFJnLXVy",
    "outputId": "7f6e03be-eee3-484f-c6f1-d56d90222512"
   },
   "outputs": [
    {
     "name": "stdout",
     "output_type": "stream",
     "text": [
      "Epoch 1/3\n",
      "71/71 [==============================] - 4s 25ms/step - loss: 0.5863 - accuracy: 0.7193\n",
      "Epoch 2/3\n",
      "71/71 [==============================] - 2s 25ms/step - loss: 0.4633 - accuracy: 0.7916\n",
      "Epoch 3/3\n",
      "71/71 [==============================] - 2s 26ms/step - loss: 0.3981 - accuracy: 0.8215\n",
      "18/18 [==============================] - 1s 9ms/step - loss: 0.4123 - accuracy: 0.8004\n",
      "\n",
      "Final Cross-Validation Accuracy 0.8003565073013306 \n",
      "\n"
     ]
    }
   ],
   "source": [
    "# Fit model and Cross-Validation, ARCHITECTURE 1 SIMPLE LSTM\n",
    "epochs = 3\n",
    "batch_size = 32\n",
    "\n",
    "model = simple_lstm()\n",
    "model.fit(X_train, target_train, epochs=epochs, batch_size=batch_size)\n",
    "loss, accuracy = model.evaluate(X_test, target_test, verbose=1)\n",
    "\n",
    "print('\\nFinal Cross-Validation Accuracy', accuracy, '\\n')\n",
    "# print_layers_dims(model)"
   ]
  },
  {
   "cell_type": "code",
   "execution_count": 11,
   "metadata": {
    "colab": {
     "base_uri": "https://localhost:8080/"
    },
    "executionInfo": {
     "elapsed": 648049,
     "status": "ok",
     "timestamp": 1652095633879,
     "user": {
      "displayName": "金磊",
      "userId": "00615052284365786707"
     },
     "user_tz": -480
    },
    "id": "xFdIIFJnLXVy",
    "outputId": "7f6e03be-eee3-484f-c6f1-d56d90222512"
   },
   "outputs": [
    {
     "name": "stdout",
     "output_type": "stream",
     "text": [
      "18/18 [==============================] - 1s 9ms/step\n",
      "F1 score:  0.0\n"
     ]
    }
   ],
   "source": [
    "y_pred = tf.argmax(model.predict(X_test), axis=-1)\n",
    "print(\"F1 score: \", f1_score(y_pred, target_test))"
   ]
  },
  {
   "cell_type": "code",
   "execution_count": 12,
   "metadata": {
    "executionInfo": {
     "elapsed": 1034,
     "status": "ok",
     "timestamp": 1652095776977,
     "user": {
      "displayName": "金磊",
      "userId": "00615052284365786707"
     },
     "user_tz": -480
    },
    "id": "opi7uHwyLXVz",
    "tags": []
   },
   "outputs": [],
   "source": [
    "model_name = \"deeplearning_LSTM\"\n",
    "# save_model(DATA_HOME + model_name + \".json\", DATA_HOME + model_name + \".h5\")\n",
    "# model = load_model(DATA_HOME + model_name + \".json\", DATA_HOME + model_name + \".h5\")\n",
    "model.save(DATA_HOME + model_name + \".keras\")\n",
    "model = keras.models.load_model(DATA_HOME + model_name + \".keras\")"
   ]
  },
  {
   "cell_type": "markdown",
   "metadata": {
    "id": "seHKI0fdLXVz"
   },
   "source": [
    "## Architecture 2 - 1D Convolution and LSTM"
   ]
  },
  {
   "cell_type": "code",
   "execution_count": 15,
   "metadata": {
    "id": "LNBmTYAXLXVz"
   },
   "outputs": [],
   "source": [
    "## Deep Learning model Definition --- B --- (1D Convolution and LSTM)\n",
    "\n",
    "def lstm_conv(max_len=75, emb_dim=32, max_vocab_len=100, lstm_output_size=32, W_reg=regularizers.l2(1e-4)):\n",
    "    # Input\n",
    "    main_input = Input(shape=(max_len,), dtype='int32', name='main_input')\n",
    "    # Embedding layer\n",
    "    emb = Embedding(input_dim=max_vocab_len, output_dim=emb_dim, input_length=max_len,\n",
    "                embeddings_regularizer=W_reg)(main_input) \n",
    "    emb = Dropout(0.25)(emb)\n",
    "\n",
    "    # Conv layer\n",
    "    conv = Conv1D(kernel_size=5, filters=256, \\\n",
    "                     padding ='same')(emb)\n",
    "    conv = ELU()(conv)\n",
    "\n",
    "    conv = MaxPooling1D(pool_size=4)(conv)\n",
    "    conv = Dropout(0.5)(conv)\n",
    "\n",
    "    # LSTM layer\n",
    "    lstm = LSTM(lstm_output_size)(conv)\n",
    "    lstm = Dropout(0.5)(lstm)\n",
    "    \n",
    "    # Output layer (last fully connected layer)\n",
    "    output = Dense(1, activation='sigmoid', name='output')(lstm)\n",
    "\n",
    "    # Compile model and define optimizer\n",
    "    model = Model(inputs=main_input, outputs=output)\n",
    "    adam = Adam(learning_rate=1e-4, beta_1=0.9, beta_2=0.999, epsilon=1e-08)\n",
    "    model.compile(optimizer=adam, loss='binary_crossentropy', metrics=['accuracy'])\n",
    "    return model"
   ]
  },
  {
   "cell_type": "code",
   "execution_count": 16,
   "metadata": {
    "id": "gbnZRX6HLXVz"
   },
   "outputs": [
    {
     "name": "stdout",
     "output_type": "stream",
     "text": [
      "Epoch 1/5\n",
      "71/71 [==============================] - 4s 14ms/step - loss: 0.6412 - accuracy: 0.7144\n",
      "Epoch 2/5\n",
      "71/71 [==============================] - 1s 14ms/step - loss: 0.5802 - accuracy: 0.7238\n",
      "Epoch 3/5\n",
      "71/71 [==============================] - 1s 14ms/step - loss: 0.5612 - accuracy: 0.7238\n",
      "Epoch 4/5\n",
      "71/71 [==============================] - 1s 14ms/step - loss: 0.5351 - accuracy: 0.7390\n",
      "Epoch 5/5\n",
      "71/71 [==============================] - 1s 14ms/step - loss: 0.5065 - accuracy: 0.7764\n",
      "18/18 [==============================] - 1s 5ms/step - loss: 0.4832 - accuracy: 0.7807\n",
      "\n",
      "Final Cross-Validation Accuracy 0.7807486653327942 \n",
      "\n"
     ]
    }
   ],
   "source": [
    "# Fit model and Cross-Validation, ARCHITECTURE 2 CONV + LSTM\n",
    "epochs = 5\n",
    "batch_size = 32\n",
    "\n",
    "model = lstm_conv()\n",
    "model.fit(X_train, target_train, epochs=epochs, batch_size=batch_size)\n",
    "loss, accuracy = model.evaluate(X_test, target_test, verbose=1)\n",
    "\n",
    "print('\\nFinal Cross-Validation Accuracy', accuracy, '\\n')\n",
    "# print_layers_dims(model)"
   ]
  },
  {
   "cell_type": "code",
   "execution_count": 17,
   "metadata": {
    "id": "gbnZRX6HLXVz"
   },
   "outputs": [
    {
     "name": "stdout",
     "output_type": "stream",
     "text": [
      "18/18 [==============================] - 1s 5ms/step\n",
      "F1 score:  0.0\n"
     ]
    }
   ],
   "source": [
    "y_pred = tf.argmax(model.predict(X_test), axis=-1)\n",
    "print(\"F1 score: \", f1_score(y_pred, target_test))"
   ]
  },
  {
   "cell_type": "code",
   "execution_count": 18,
   "metadata": {
    "id": "TNbU78F1LXV0",
    "tags": []
   },
   "outputs": [],
   "source": [
    "model_name = \"deeplearning_1DConvLSTM\"\n",
    "# save_model(DATA_HOME + model_name + \".json\", DATA_HOME + model_name + \".h5\")\n",
    "# model = load_model(DATA_HOME + model_name + \".json\", DATA_HOME + model_name + \".h5\")\n",
    "# #print_layers_dims(model)\n",
    "model.save(DATA_HOME + model_name + \".keras\")\n",
    "model = keras.models.load_model(DATA_HOME + model_name + \".keras\")"
   ]
  },
  {
   "cell_type": "markdown",
   "metadata": {
    "id": "NTr5uA7nLXV0"
   },
   "source": [
    "## Architecture 3 - 1D Convolutions and Fully Connected Layers"
   ]
  },
  {
   "cell_type": "code",
   "execution_count": 19,
   "metadata": {
    "executionInfo": {
     "elapsed": 374,
     "status": "ok",
     "timestamp": 1652096276693,
     "user": {
      "displayName": "金磊",
      "userId": "00615052284365786707"
     },
     "user_tz": -480
    },
    "id": "IRgRLcCMLXV0"
   },
   "outputs": [],
   "source": [
    "## Deep Learning model Definition --- C --- (1D Convolutions and Fully Connected Layers)\n",
    "\n",
    "def conv_fully(max_len=75, emb_dim=32, max_vocab_len=100, W_reg=regularizers.l2(1e-4)):\n",
    "    # Input\n",
    "    main_input = Input(shape=(max_len,), dtype='int32', name='main_input')\n",
    "    # Embedding layer\n",
    "    emb = Embedding(input_dim=max_vocab_len, output_dim=emb_dim, input_length=max_len,\n",
    "                embeddings_regularizer=W_reg)(main_input) \n",
    "    emb = Dropout(0.25)(emb)\n",
    "\n",
    "    \n",
    "    def sum_1d(X):\n",
    "        return K.sum(X, axis=1)\n",
    "    \n",
    "    def get_conv_layer(emb, kernel_size=5, filters=256):\n",
    "        # Conv layer\n",
    "        conv = Conv1D(kernel_size=kernel_size, filters=filters, \\\n",
    "                     padding='same')(emb)\n",
    "        conv = ELU()(conv)\n",
    "\n",
    "        conv = Lambda(sum_1d, output_shape=(filters,))(conv)\n",
    "        #conv = BatchNormalization(mode=0)(conv)\n",
    "        conv = Dropout(0.5)(conv)\n",
    "        return conv\n",
    "        \n",
    "    # Multiple Conv Layers\n",
    "    \n",
    "    # calling custom conv function from above\n",
    "    conv1 = get_conv_layer(emb, kernel_size=2, filters=256)\n",
    "    conv2 = get_conv_layer(emb, kernel_size=3, filters=256)\n",
    "    conv3 = get_conv_layer(emb, kernel_size=4, filters=256)\n",
    "    conv4 = get_conv_layer(emb, kernel_size=5, filters=256)\n",
    "\n",
    "    # Fully Connected Layers\n",
    "    merged = concatenate([conv1,conv2,conv3,conv4], axis=1)\n",
    "\n",
    "    hidden1 = Dense(1024)(merged)\n",
    "    hidden1 = ELU()(hidden1)\n",
    "    # hidden1 = BatchNormalization()(hidden1)\n",
    "    hidden1 = Dropout(0.5)(hidden1)\n",
    "\n",
    "    hidden2 = Dense(1024)(hidden1)\n",
    "    hidden2 = ELU()(hidden2)\n",
    "    # hidden2 = BatchNormalization()(hidden2)\n",
    "    hidden2 = Dropout(0.5)(hidden2)\n",
    "    \n",
    "    # Output layer (last fully connected layer)\n",
    "    output = Dense(1, activation='sigmoid', name='output')(hidden2)\n",
    "\n",
    "    # Compile model and define optimizer\n",
    "    model = Model(inputs=main_input, outputs=output)\n",
    "    adam = Adam(learning_rate=1e-4, beta_1=0.9, beta_2=0.999, epsilon=1e-08)\n",
    "    model.compile(optimizer=adam, loss='binary_crossentropy', metrics=['accuracy'])\n",
    "    return model"
   ]
  },
  {
   "cell_type": "code",
   "execution_count": 20,
   "metadata": {
    "colab": {
     "base_uri": "https://localhost:8080/"
    },
    "executionInfo": {
     "elapsed": 561766,
     "status": "ok",
     "timestamp": 1652096913593,
     "user": {
      "displayName": "金磊",
      "userId": "00615052284365786707"
     },
     "user_tz": -480
    },
    "id": "Y_-WAybQLXV0",
    "outputId": "0c4d88c9-416c-40ab-8db9-bcf4ce7104bf"
   },
   "outputs": [
    {
     "name": "stdout",
     "output_type": "stream",
     "text": [
      "36/36 [==============================] - 3s 23ms/step - loss: 0.6816 - accuracy: 0.7073\n",
      "18/18 [==============================] - 0s 5ms/step - loss: 0.4873 - accuracy: 0.7843\n",
      "\n",
      "Final Cross-Validation Accuracy 0.7843137383460999 \n",
      "\n"
     ]
    }
   ],
   "source": [
    "# Fit model and Cross-Validation, ARCHITECTURE 3 CONV + FULLY CONNECTED\n",
    "epochs = 1\n",
    "batch_size = 64\n",
    "\n",
    "model = conv_fully()\n",
    "model.fit(X_train, target_train, epochs=epochs, batch_size=batch_size)\n",
    "loss, accuracy = model.evaluate(X_test, target_test, verbose=1)\n",
    "\n",
    "print('\\nFinal Cross-Validation Accuracy', accuracy, '\\n')\n",
    "# print_layers_dims(model)"
   ]
  },
  {
   "cell_type": "code",
   "execution_count": 21,
   "metadata": {
    "id": "xLHWxsBNLXV1",
    "tags": []
   },
   "outputs": [
    {
     "name": "stdout",
     "output_type": "stream",
     "text": [
      "18/18 [==============================] - 0s 5ms/step\n",
      "F1 score:  0.0\n"
     ]
    }
   ],
   "source": [
    "y_pred = tf.argmax(model.predict(X_test), axis=-1)\n",
    "print(\"F1 score: \", f1_score(y_pred, target_test))"
   ]
  },
  {
   "cell_type": "code",
   "execution_count": 24,
   "metadata": {
    "executionInfo": {
     "elapsed": 2041,
     "status": "ok",
     "timestamp": 1652096931301,
     "user": {
      "displayName": "金磊",
      "userId": "00615052284365786707"
     },
     "user_tz": -480
    },
    "id": "foJ-Q_EjLXV1"
   },
   "outputs": [],
   "source": [
    "model_name = \"deeplearning_1DConv\"\n",
    "# save_model(DATA_HOME + model_name + \".json\", DATA_HOME + model_name + \".h5\")\n",
    "# model = load_model(DATA_HOME + model_name + \".json\", DATA_HOME + model_name + \".h5\")\n",
    "#print_layers_dims(model)\n",
    "# model.save(DATA_HOME + model_name + \".keras\")\n",
    "# model = keras.models.load_model(DATA_HOME + model_name + \".keras\")"
   ]
  },
  {
   "cell_type": "markdown",
   "metadata": {
    "id": "7p64ZH_CLXV1",
    "tags": []
   },
   "source": [
    "## Making a new prediction"
   ]
  },
  {
   "cell_type": "code",
   "execution_count": 26,
   "metadata": {
    "executionInfo": {
     "elapsed": 325,
     "status": "ok",
     "timestamp": 1652096940156,
     "user": {
      "displayName": "金磊",
      "userId": "00615052284365786707"
     },
     "user_tz": -480
    },
    "id": "_Xr7icY_LXV2",
    "tags": []
   },
   "outputs": [],
   "source": [
    "test_url_mal = \"naureen.net/etisalat.ae/index2.php\"\n",
    "test_url_benign = \"sixt.com/php/reservation?language=en_US\"\n",
    "\n",
    "url = test_url_mal"
   ]
  },
  {
   "cell_type": "code",
   "execution_count": 27,
   "metadata": {
    "executionInfo": {
     "elapsed": 309,
     "status": "ok",
     "timestamp": 1652096942563,
     "user": {
      "displayName": "金磊",
      "userId": "00615052284365786707"
     },
     "user_tz": -480
    },
    "id": "PD9K99KNLXV2"
   },
   "outputs": [],
   "source": [
    "# Step 1: Convert raw URL string in list of lists where characters that are contained in \"printable\" are stored encoded as integer \n",
    "url_int_tokens = [[printable.index(x) + 1 for x in url if x in printable]]\n",
    "\n",
    "# Step 2: Cut URL string at max_len or pad with zeros if shorter\n",
    "max_len=75\n",
    "XY = sequence.pad_sequences(url_int_tokens, maxlen=max_len)"
   ]
  },
  {
   "cell_type": "code",
   "execution_count": 28,
   "metadata": {
    "colab": {
     "base_uri": "https://localhost:8080/"
    },
    "executionInfo": {
     "elapsed": 311,
     "status": "ok",
     "timestamp": 1652096944131,
     "user": {
      "displayName": "金磊",
      "userId": "00615052284365786707"
     },
     "user_tz": -480
    },
    "id": "L1Q_LS_3LXV2",
    "outputId": "f56bd37b-d8eb-4bd1-bdf4-9369c2987d6b"
   },
   "outputs": [
    {
     "name": "stdout",
     "output_type": "stream",
     "text": [
      "1/1 [==============================] - 0s 23ms/step\n",
      "Test URL: naureen.net/etisalat.ae/index2.php is benign\n"
     ]
    }
   ],
   "source": [
    "target_proba = model.predict(XY, batch_size=1)\n",
    "def print_result(proba):\n",
    "    if proba > 0.5:\n",
    "        return \"malicious\"\n",
    "    else:\n",
    "        return \"benign\"\n",
    "print(\"Test URL:\", url, \"is\", print_result(target_proba[0]))"
   ]
  },
  {
   "cell_type": "code",
   "execution_count": null,
   "metadata": {
    "collapsed": true,
    "id": "14sCndoJLXV2",
    "jupyter": {
     "outputs_hidden": true
    }
   },
   "outputs": [],
   "source": []
  },
  {
   "cell_type": "code",
   "execution_count": null,
   "metadata": {},
   "outputs": [],
   "source": []
  }
 ],
 "metadata": {
  "colab": {
   "collapsed_sections": [],
   "name": "FeaturelessDeepLearningMaliciousURLClassification.ipynb",
   "provenance": []
  },
  "kernelspec": {
   "display_name": "Python 3.9",
   "language": "python",
   "name": "py39"
  },
  "language_info": {
   "codemirror_mode": {
    "name": "ipython",
    "version": 3
   },
   "file_extension": ".py",
   "mimetype": "text/x-python",
   "name": "python",
   "nbconvert_exporter": "python",
   "pygments_lexer": "ipython3",
   "version": "3.9.19"
  }
 },
 "nbformat": 4,
 "nbformat_minor": 4
}
