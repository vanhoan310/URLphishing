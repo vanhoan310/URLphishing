{
 "cells": [
  {
   "cell_type": "code",
   "execution_count": 1,
   "metadata": {
    "id": "LHs7_cI2MOtd",
    "outputId": "e6429a70-c404-4aed-fc25-c21b9fa4f584"
   },
   "outputs": [
    {
     "name": "stdout",
     "output_type": "stream",
     "text": [
      "2.3.0+cu121\n"
     ]
    }
   ],
   "source": [
    "import os\n",
    "import torch\n",
    "os.environ['TORCH'] = torch.__version__\n",
    "print(torch.__version__)"
   ]
  },
  {
   "cell_type": "code",
   "execution_count": 2,
   "metadata": {
    "id": "wrv9G513MOth"
   },
   "outputs": [],
   "source": [
    "import torch\n",
    "from torch_geometric.datasets import Planetoid\n",
    "import torch_geometric.transforms as T\n",
    "from torch_geometric.nn import GCNConv\n",
    "from torch_geometric.utils import train_test_split_edges"
   ]
  },
  {
   "cell_type": "markdown",
   "metadata": {
    "id": "ZCdRIpmoMOti"
   },
   "source": [
    "# Tutorial 6  \n",
    "Graph AutoEncoders GAE &  \n",
    "Variational Graph Autoencoders VGAE    \n",
    "\n",
    "[paper](https://arxiv.org/pdf/1611.07308.pdf)  \n",
    "[code](https://github.com/rusty1s/pytorch_geometric/blob/master/examples/autoencoder.py)"
   ]
  },
  {
   "cell_type": "markdown",
   "metadata": {
    "id": "Xmt3-U0GMOtj"
   },
   "source": [
    "## Graph AutoEncoder GAE"
   ]
  },
  {
   "cell_type": "markdown",
   "metadata": {
    "id": "yCbX0UB3MOtk"
   },
   "source": [
    "### Load the data"
   ]
  },
  {
   "cell_type": "code",
   "execution_count": 3,
   "metadata": {
    "id": "7hR63fzvMOtk",
    "outputId": "94b3072d-3a17-488c-b45f-471e9599bced"
   },
   "outputs": [],
   "source": [
    "# dataset = Planetoid(\"data/\", \"CiteSeer\", transform=T.NormalizeFeatures())\n",
    "# dataset.data\n",
    "\n",
    "from torch_geometric.datasets import TUDataset\n",
    "\n",
    "dataset = TUDataset(root='data/TUDataset', name='MUTAG')"
   ]
  },
  {
   "cell_type": "code",
   "execution_count": 4,
   "metadata": {
    "id": "mOHLvHZyMOtl",
    "outputId": "0d9769f4-e540-4d0d-82ad-57f1328cd29f"
   },
   "outputs": [
    {
     "data": {
      "text/plain": [
       "Data(edge_index=[2, 38], x=[17, 7], edge_attr=[38, 4], y=[1])"
      ]
     },
     "execution_count": 4,
     "metadata": {},
     "output_type": "execute_result"
    }
   ],
   "source": [
    "data = dataset[0]\n",
    "data.train_mask = data.val_mask = data.test_mask = None\n",
    "data"
   ]
  },
  {
   "cell_type": "code",
   "execution_count": 5,
   "metadata": {
    "id": "pMmI4pPrMOtl",
    "outputId": "e865bf76-3dac-45a0-b693-ccee40c9d4e8"
   },
   "outputs": [
    {
     "name": "stderr",
     "output_type": "stream",
     "text": [
      "/home/vanhoan310/miniconda3/envs/py38/lib/python3.8/site-packages/torch_geometric/deprecation.py:26: UserWarning: 'train_test_split_edges' is deprecated, use 'transforms.RandomLinkSplit' instead\n",
      "  warnings.warn(out)\n"
     ]
    }
   ],
   "source": [
    "data = train_test_split_edges(data)"
   ]
  },
  {
   "cell_type": "code",
   "execution_count": 6,
   "metadata": {
    "id": "ybA2SfuMMOtm",
    "outputId": "27f72353-9543-4860-8817-02cc4a95a536"
   },
   "outputs": [
    {
     "data": {
      "text/plain": [
       "Data(x=[17, 7], y=[1], val_pos_edge_index=[2, 0], val_pos_edge_attr=[0, 4], test_pos_edge_index=[2, 1], test_pos_edge_attr=[1, 4], train_pos_edge_index=[2, 36], train_pos_edge_attr=[36, 4], train_neg_adj_mask=[17, 17], val_neg_edge_index=[2, 0], test_neg_edge_index=[2, 1])"
      ]
     },
     "execution_count": 6,
     "metadata": {},
     "output_type": "execute_result"
    }
   ],
   "source": [
    "data"
   ]
  },
  {
   "cell_type": "code",
   "execution_count": null,
   "metadata": {
    "id": "33d5CEMGMOtn"
   },
   "outputs": [],
   "source": []
  },
  {
   "cell_type": "markdown",
   "metadata": {
    "id": "HVuTvLI5MOtn"
   },
   "source": [
    "### Define the Encoder"
   ]
  },
  {
   "cell_type": "code",
   "execution_count": 7,
   "metadata": {
    "id": "TC-_r5A6MOtn"
   },
   "outputs": [],
   "source": [
    "class GCNEncoder(torch.nn.Module):\n",
    "    def __init__(self, in_channels, out_channels):\n",
    "        super(GCNEncoder, self).__init__()\n",
    "        self.conv1 = GCNConv(in_channels, 2 * out_channels, cached=True) # cached only for transductive learning\n",
    "        self.conv2 = GCNConv(2 * out_channels, out_channels, cached=True) # cached only for transductive learning\n",
    "\n",
    "    def forward(self, x, edge_index):\n",
    "        x = self.conv1(x, edge_index).relu()\n",
    "        return self.conv2(x, edge_index)\n"
   ]
  },
  {
   "cell_type": "markdown",
   "metadata": {
    "id": "35CkkmCsMOto"
   },
   "source": [
    "### Define the Autoencoder"
   ]
  },
  {
   "cell_type": "code",
   "execution_count": 8,
   "metadata": {
    "id": "-gx8wbkaMOto"
   },
   "outputs": [],
   "source": [
    "from torch_geometric.nn import GAE"
   ]
  },
  {
   "cell_type": "code",
   "execution_count": 9,
   "metadata": {
    "id": "V-vqknoVMOto"
   },
   "outputs": [],
   "source": [
    "# parameters\n",
    "out_channels = 2\n",
    "num_features = dataset.num_features\n",
    "epochs = 100\n",
    "\n",
    "# model\n",
    "model = GAE(GCNEncoder(num_features, out_channels))\n",
    "\n",
    "# move to GPU (if available)\n",
    "device = torch.device('cuda' if torch.cuda.is_available() else 'cpu')\n",
    "model = model.to(device)\n",
    "x = data.x.to(device)\n",
    "train_pos_edge_index = data.train_pos_edge_index.to(device)\n",
    "\n",
    "# inizialize the optimizer\n",
    "optimizer = torch.optim.Adam(model.parameters(), lr=0.01)"
   ]
  },
  {
   "cell_type": "code",
   "execution_count": 10,
   "metadata": {
    "id": "QG4rdY4lMOtp"
   },
   "outputs": [],
   "source": [
    "def train():\n",
    "    model.train()\n",
    "    optimizer.zero_grad()\n",
    "    z = model.encode(x, train_pos_edge_index)\n",
    "    loss = model.recon_loss(z, train_pos_edge_index)\n",
    "    #if args.variational:\n",
    "    #   loss = loss + (1 / data.num_nodes) * model.kl_loss()\n",
    "    loss.backward()\n",
    "    optimizer.step()\n",
    "    return float(loss)\n",
    "\n",
    "\n",
    "def test(pos_edge_index, neg_edge_index):\n",
    "    model.eval()\n",
    "    with torch.no_grad():\n",
    "        z = model.encode(x, train_pos_edge_index)\n",
    "    return model.test(z, pos_edge_index, neg_edge_index)\n",
    "\n"
   ]
  },
  {
   "cell_type": "code",
   "execution_count": 11,
   "metadata": {
    "id": "WmCyVWJ_MOtp",
    "outputId": "5a30d2a5-fa4a-41f8-8d33-b907a33a645b",
    "scrolled": true
   },
   "outputs": [
    {
     "name": "stdout",
     "output_type": "stream",
     "text": [
      "Epoch: 001, AUC: 0.0000, AP: 0.5000\n",
      "Epoch: 002, AUC: 0.0000, AP: 0.5000\n",
      "Epoch: 003, AUC: 0.0000, AP: 0.5000\n",
      "Epoch: 004, AUC: 0.0000, AP: 0.5000\n",
      "Epoch: 005, AUC: 0.0000, AP: 0.5000\n",
      "Epoch: 006, AUC: 0.0000, AP: 0.5000\n",
      "Epoch: 007, AUC: 0.0000, AP: 0.5000\n",
      "Epoch: 008, AUC: 0.0000, AP: 0.5000\n",
      "Epoch: 009, AUC: 0.0000, AP: 0.5000\n",
      "Epoch: 010, AUC: 0.0000, AP: 0.5000\n",
      "Epoch: 011, AUC: 0.0000, AP: 0.5000\n",
      "Epoch: 012, AUC: 0.0000, AP: 0.5000\n",
      "Epoch: 013, AUC: 0.0000, AP: 0.5000\n",
      "Epoch: 014, AUC: 0.0000, AP: 0.5000\n",
      "Epoch: 015, AUC: 0.0000, AP: 0.5000\n",
      "Epoch: 016, AUC: 0.0000, AP: 0.5000\n",
      "Epoch: 017, AUC: 0.0000, AP: 0.5000\n",
      "Epoch: 018, AUC: 0.0000, AP: 0.5000\n",
      "Epoch: 019, AUC: 0.0000, AP: 0.5000\n",
      "Epoch: 020, AUC: 0.0000, AP: 0.5000\n",
      "Epoch: 021, AUC: 0.0000, AP: 0.5000\n",
      "Epoch: 022, AUC: 0.0000, AP: 0.5000\n",
      "Epoch: 023, AUC: 0.0000, AP: 0.5000\n",
      "Epoch: 024, AUC: 0.0000, AP: 0.5000\n",
      "Epoch: 025, AUC: 0.0000, AP: 0.5000\n",
      "Epoch: 026, AUC: 0.0000, AP: 0.5000\n",
      "Epoch: 027, AUC: 0.0000, AP: 0.5000\n",
      "Epoch: 028, AUC: 0.0000, AP: 0.5000\n",
      "Epoch: 029, AUC: 0.0000, AP: 0.5000\n",
      "Epoch: 030, AUC: 0.0000, AP: 0.5000\n",
      "Epoch: 031, AUC: 0.0000, AP: 0.5000\n",
      "Epoch: 032, AUC: 0.0000, AP: 0.5000\n",
      "Epoch: 033, AUC: 0.0000, AP: 0.5000\n",
      "Epoch: 034, AUC: 0.0000, AP: 0.5000\n",
      "Epoch: 035, AUC: 0.0000, AP: 0.5000\n",
      "Epoch: 036, AUC: 0.0000, AP: 0.5000\n",
      "Epoch: 037, AUC: 0.0000, AP: 0.5000\n",
      "Epoch: 038, AUC: 0.0000, AP: 0.5000\n",
      "Epoch: 039, AUC: 0.0000, AP: 0.5000\n",
      "Epoch: 040, AUC: 0.0000, AP: 0.5000\n",
      "Epoch: 041, AUC: 0.0000, AP: 0.5000\n",
      "Epoch: 042, AUC: 0.0000, AP: 0.5000\n",
      "Epoch: 043, AUC: 0.0000, AP: 0.5000\n",
      "Epoch: 044, AUC: 0.0000, AP: 0.5000\n",
      "Epoch: 045, AUC: 0.0000, AP: 0.5000\n",
      "Epoch: 046, AUC: 0.0000, AP: 0.5000\n",
      "Epoch: 047, AUC: 0.0000, AP: 0.5000\n",
      "Epoch: 048, AUC: 0.0000, AP: 0.5000\n",
      "Epoch: 049, AUC: 0.0000, AP: 0.5000\n",
      "Epoch: 050, AUC: 0.0000, AP: 0.5000\n",
      "Epoch: 051, AUC: 0.0000, AP: 0.5000\n",
      "Epoch: 052, AUC: 0.0000, AP: 0.5000\n",
      "Epoch: 053, AUC: 0.0000, AP: 0.5000\n",
      "Epoch: 054, AUC: 0.0000, AP: 0.5000\n",
      "Epoch: 055, AUC: 0.0000, AP: 0.5000\n",
      "Epoch: 056, AUC: 0.0000, AP: 0.5000\n",
      "Epoch: 057, AUC: 0.0000, AP: 0.5000\n",
      "Epoch: 058, AUC: 0.0000, AP: 0.5000\n",
      "Epoch: 059, AUC: 0.0000, AP: 0.5000\n",
      "Epoch: 060, AUC: 0.0000, AP: 0.5000\n",
      "Epoch: 061, AUC: 0.0000, AP: 0.5000\n",
      "Epoch: 062, AUC: 0.0000, AP: 0.5000\n",
      "Epoch: 063, AUC: 0.0000, AP: 0.5000\n",
      "Epoch: 064, AUC: 0.0000, AP: 0.5000\n",
      "Epoch: 065, AUC: 0.0000, AP: 0.5000\n",
      "Epoch: 066, AUC: 0.0000, AP: 0.5000\n",
      "Epoch: 067, AUC: 0.0000, AP: 0.5000\n",
      "Epoch: 068, AUC: 0.0000, AP: 0.5000\n",
      "Epoch: 069, AUC: 0.0000, AP: 0.5000\n",
      "Epoch: 070, AUC: 0.0000, AP: 0.5000\n",
      "Epoch: 071, AUC: 0.0000, AP: 0.5000\n",
      "Epoch: 072, AUC: 0.0000, AP: 0.5000\n",
      "Epoch: 073, AUC: 0.0000, AP: 0.5000\n",
      "Epoch: 074, AUC: 0.0000, AP: 0.5000\n",
      "Epoch: 075, AUC: 0.0000, AP: 0.5000\n",
      "Epoch: 076, AUC: 0.0000, AP: 0.5000\n",
      "Epoch: 077, AUC: 0.0000, AP: 0.5000\n",
      "Epoch: 078, AUC: 0.0000, AP: 0.5000\n",
      "Epoch: 079, AUC: 0.0000, AP: 0.5000\n",
      "Epoch: 080, AUC: 0.0000, AP: 0.5000\n",
      "Epoch: 081, AUC: 0.0000, AP: 0.5000\n",
      "Epoch: 082, AUC: 0.0000, AP: 0.5000\n",
      "Epoch: 083, AUC: 0.0000, AP: 0.5000\n",
      "Epoch: 084, AUC: 0.0000, AP: 0.5000\n",
      "Epoch: 085, AUC: 0.0000, AP: 0.5000\n",
      "Epoch: 086, AUC: 0.0000, AP: 0.5000\n",
      "Epoch: 087, AUC: 0.0000, AP: 0.5000\n",
      "Epoch: 088, AUC: 0.0000, AP: 0.5000\n",
      "Epoch: 089, AUC: 0.0000, AP: 0.5000\n",
      "Epoch: 090, AUC: 0.0000, AP: 0.5000\n",
      "Epoch: 091, AUC: 0.0000, AP: 0.5000\n",
      "Epoch: 092, AUC: 0.0000, AP: 0.5000\n",
      "Epoch: 093, AUC: 0.0000, AP: 0.5000\n",
      "Epoch: 094, AUC: 0.0000, AP: 0.5000\n",
      "Epoch: 095, AUC: 0.0000, AP: 0.5000\n",
      "Epoch: 096, AUC: 0.0000, AP: 0.5000\n",
      "Epoch: 097, AUC: 0.0000, AP: 0.5000\n",
      "Epoch: 098, AUC: 0.0000, AP: 0.5000\n",
      "Epoch: 099, AUC: 0.0000, AP: 0.5000\n",
      "Epoch: 100, AUC: 0.0000, AP: 0.5000\n"
     ]
    }
   ],
   "source": [
    "for epoch in range(1, epochs + 1):\n",
    "    loss = train()\n",
    "\n",
    "    auc, ap = test(data.test_pos_edge_index, data.test_neg_edge_index)\n",
    "    print('Epoch: {:03d}, AUC: {:.4f}, AP: {:.4f}'.format(epoch, auc, ap))"
   ]
  },
  {
   "cell_type": "code",
   "execution_count": 34,
   "metadata": {
    "id": "lefzxBgXMOtp",
    "outputId": "58c76a6e-2aea-440a-a69e-d531260fef20"
   },
   "outputs": [
    {
     "data": {
      "text/plain": [
       "tensor([[ 0.4601, -0.6305],\n",
       "        [ 0.4819, -0.6842],\n",
       "        [ 0.3945, -0.5024],\n",
       "        [ 0.4260, -0.5537],\n",
       "        [ 0.4956, -0.7163],\n",
       "        [ 0.4434, -0.5928],\n",
       "        [ 0.4325, -0.5752],\n",
       "        [ 0.4244, -0.5621],\n",
       "        [ 0.4923, -0.7015],\n",
       "        [ 0.4923, -0.7015],\n",
       "        [ 0.4244, -0.5621],\n",
       "        [ 0.2463, -0.3203],\n",
       "        [-0.2387,  0.2639],\n",
       "        [ 0.2397, -0.2988],\n",
       "        [-1.6152,  2.0249],\n",
       "        [-1.4582,  1.9508],\n",
       "        [-1.4582,  1.9508]], grad_fn=<AddBackward0>)"
      ]
     },
     "execution_count": 34,
     "metadata": {},
     "output_type": "execute_result"
    }
   ],
   "source": [
    "Z = model.encode(x, train_pos_edge_index)\n",
    "Z"
   ]
  },
  {
   "cell_type": "code",
   "execution_count": null,
   "metadata": {
    "id": "50TaIxLnMOtq"
   },
   "outputs": [],
   "source": []
  },
  {
   "cell_type": "code",
   "execution_count": null,
   "metadata": {
    "id": "-pgKfEB4MOtq"
   },
   "outputs": [],
   "source": []
  },
  {
   "cell_type": "code",
   "execution_count": null,
   "metadata": {
    "id": "uKL9C4hGMOtq"
   },
   "outputs": [],
   "source": []
  },
  {
   "cell_type": "markdown",
   "metadata": {
    "id": "nKWpGwiRMOtq"
   },
   "source": [
    "## Are the results (AUC) and (AP) easy to read and compare?"
   ]
  },
  {
   "cell_type": "markdown",
   "metadata": {
    "id": "MlCKMH6PMOtq"
   },
   "source": [
    "# Use Tensorboard"
   ]
  },
  {
   "cell_type": "code",
   "execution_count": 13,
   "metadata": {
    "id": "nermRvEIMOtq"
   },
   "outputs": [
    {
     "name": "stderr",
     "output_type": "stream",
     "text": [
      "2024-05-11 17:13:44.438697: I tensorflow/tsl/cuda/cudart_stub.cc:28] Could not find cuda drivers on your machine, GPU will not be used.\n",
      "2024-05-11 17:13:44.505487: I tensorflow/core/platform/cpu_feature_guard.cc:182] This TensorFlow binary is optimized to use available CPU instructions in performance-critical operations.\n",
      "To enable the following instructions: AVX2 FMA, in other operations, rebuild TensorFlow with the appropriate compiler flags.\n",
      "2024-05-11 17:13:45.507383: W tensorflow/compiler/tf2tensorrt/utils/py_utils.cc:38] TF-TRT Warning: Could not find TensorRT\n"
     ]
    }
   ],
   "source": [
    "from torch.utils.tensorboard import SummaryWriter"
   ]
  },
  {
   "cell_type": "code",
   "execution_count": 14,
   "metadata": {
    "id": "dsuU2GqNMOtq"
   },
   "outputs": [],
   "source": [
    "# parameters\n",
    "out_channels = 2\n",
    "num_features = dataset.num_features\n",
    "epochs = 100\n",
    "\n",
    "# model\n",
    "model = GAE(GCNEncoder(num_features, out_channels))\n",
    "\n",
    "# move to GPU (if available)\n",
    "device = torch.device('cuda' if torch.cuda.is_available() else 'cpu')\n",
    "model = model.to(device)\n",
    "x = data.x.to(device)\n",
    "train_pos_edge_index = data.train_pos_edge_index.to(device)\n",
    "\n",
    "# inizialize the optimizer\n",
    "optimizer = torch.optim.Adam(model.parameters(), lr=0.01)"
   ]
  },
  {
   "cell_type": "markdown",
   "metadata": {
    "id": "8YQr1eyHMOtq"
   },
   "source": [
    "### Import tensorboard\n",
    "\n",
    "#### Installation: (if needed) \"pip install tensorboard\""
   ]
  },
  {
   "cell_type": "code",
   "execution_count": 15,
   "metadata": {
    "id": "1o69uJmRMOtr"
   },
   "outputs": [],
   "source": [
    "writer = SummaryWriter('runs/GAE1_experiment_'+'2d_100_epochs')"
   ]
  },
  {
   "cell_type": "code",
   "execution_count": 16,
   "metadata": {
    "id": "ESnFAwKUMOtr",
    "outputId": "8b3bbe8f-1fbf-46c2-ee60-36a85833695f",
    "scrolled": true
   },
   "outputs": [
    {
     "name": "stdout",
     "output_type": "stream",
     "text": [
      "Epoch: 001, AUC: 0.5662, AP: 0.6025\n",
      "Epoch: 002, AUC: 0.6186, AP: 0.6618\n",
      "Epoch: 003, AUC: 0.6319, AP: 0.6710\n",
      "Epoch: 004, AUC: 0.6382, AP: 0.6772\n",
      "Epoch: 005, AUC: 0.6431, AP: 0.6822\n",
      "Epoch: 006, AUC: 0.6466, AP: 0.6855\n",
      "Epoch: 007, AUC: 0.6486, AP: 0.6879\n",
      "Epoch: 008, AUC: 0.6507, AP: 0.6901\n",
      "Epoch: 009, AUC: 0.6528, AP: 0.6922\n",
      "Epoch: 010, AUC: 0.6546, AP: 0.6944\n",
      "Epoch: 011, AUC: 0.6568, AP: 0.6966\n",
      "Epoch: 012, AUC: 0.6586, AP: 0.6988\n",
      "Epoch: 013, AUC: 0.6609, AP: 0.7016\n",
      "Epoch: 014, AUC: 0.6630, AP: 0.7048\n",
      "Epoch: 015, AUC: 0.6651, AP: 0.7081\n",
      "Epoch: 016, AUC: 0.6675, AP: 0.7115\n",
      "Epoch: 017, AUC: 0.6694, AP: 0.7145\n",
      "Epoch: 018, AUC: 0.6710, AP: 0.7175\n",
      "Epoch: 019, AUC: 0.6723, AP: 0.7200\n",
      "Epoch: 020, AUC: 0.6741, AP: 0.7227\n",
      "Epoch: 021, AUC: 0.6760, AP: 0.7253\n",
      "Epoch: 022, AUC: 0.6773, AP: 0.7275\n",
      "Epoch: 023, AUC: 0.6793, AP: 0.7303\n",
      "Epoch: 024, AUC: 0.6802, AP: 0.7323\n",
      "Epoch: 025, AUC: 0.6816, AP: 0.7342\n",
      "Epoch: 026, AUC: 0.6823, AP: 0.7351\n",
      "Epoch: 027, AUC: 0.6830, AP: 0.7360\n",
      "Epoch: 028, AUC: 0.6834, AP: 0.7365\n",
      "Epoch: 029, AUC: 0.6838, AP: 0.7371\n",
      "Epoch: 030, AUC: 0.6844, AP: 0.7376\n",
      "Epoch: 031, AUC: 0.6852, AP: 0.7385\n",
      "Epoch: 032, AUC: 0.6868, AP: 0.7399\n",
      "Epoch: 033, AUC: 0.6893, AP: 0.7416\n",
      "Epoch: 034, AUC: 0.6940, AP: 0.7440\n",
      "Epoch: 035, AUC: 0.7010, AP: 0.7475\n",
      "Epoch: 036, AUC: 0.7087, AP: 0.7514\n",
      "Epoch: 037, AUC: 0.7166, AP: 0.7552\n",
      "Epoch: 038, AUC: 0.7233, AP: 0.7587\n",
      "Epoch: 039, AUC: 0.7301, AP: 0.7621\n",
      "Epoch: 040, AUC: 0.7368, AP: 0.7655\n",
      "Epoch: 041, AUC: 0.7420, AP: 0.7684\n",
      "Epoch: 042, AUC: 0.7473, AP: 0.7717\n",
      "Epoch: 043, AUC: 0.7533, AP: 0.7753\n",
      "Epoch: 044, AUC: 0.7592, AP: 0.7787\n",
      "Epoch: 045, AUC: 0.7643, AP: 0.7822\n",
      "Epoch: 046, AUC: 0.7690, AP: 0.7857\n",
      "Epoch: 047, AUC: 0.7708, AP: 0.7879\n",
      "Epoch: 048, AUC: 0.7719, AP: 0.7897\n",
      "Epoch: 049, AUC: 0.7735, AP: 0.7913\n",
      "Epoch: 050, AUC: 0.7748, AP: 0.7921\n",
      "Epoch: 051, AUC: 0.7752, AP: 0.7925\n",
      "Epoch: 052, AUC: 0.7755, AP: 0.7929\n",
      "Epoch: 053, AUC: 0.7760, AP: 0.7933\n",
      "Epoch: 054, AUC: 0.7772, AP: 0.7939\n",
      "Epoch: 055, AUC: 0.7782, AP: 0.7941\n",
      "Epoch: 056, AUC: 0.7787, AP: 0.7935\n",
      "Epoch: 057, AUC: 0.7773, AP: 0.7919\n",
      "Epoch: 058, AUC: 0.7767, AP: 0.7911\n",
      "Epoch: 059, AUC: 0.7780, AP: 0.7922\n",
      "Epoch: 060, AUC: 0.7799, AP: 0.7936\n",
      "Epoch: 061, AUC: 0.7809, AP: 0.7941\n",
      "Epoch: 062, AUC: 0.7811, AP: 0.7941\n",
      "Epoch: 063, AUC: 0.7809, AP: 0.7935\n",
      "Epoch: 064, AUC: 0.7809, AP: 0.7931\n",
      "Epoch: 065, AUC: 0.7795, AP: 0.7917\n",
      "Epoch: 066, AUC: 0.7799, AP: 0.7917\n",
      "Epoch: 067, AUC: 0.7821, AP: 0.7938\n",
      "Epoch: 068, AUC: 0.7842, AP: 0.7956\n",
      "Epoch: 069, AUC: 0.7857, AP: 0.7968\n",
      "Epoch: 070, AUC: 0.7868, AP: 0.7976\n",
      "Epoch: 071, AUC: 0.7870, AP: 0.7979\n",
      "Epoch: 072, AUC: 0.7860, AP: 0.7968\n",
      "Epoch: 073, AUC: 0.7850, AP: 0.7960\n",
      "Epoch: 074, AUC: 0.7858, AP: 0.7968\n",
      "Epoch: 075, AUC: 0.7883, AP: 0.7987\n",
      "Epoch: 076, AUC: 0.7899, AP: 0.8003\n",
      "Epoch: 077, AUC: 0.7904, AP: 0.8006\n",
      "Epoch: 078, AUC: 0.7905, AP: 0.8006\n",
      "Epoch: 079, AUC: 0.7907, AP: 0.8008\n",
      "Epoch: 080, AUC: 0.7912, AP: 0.8012\n",
      "Epoch: 081, AUC: 0.7919, AP: 0.8015\n",
      "Epoch: 082, AUC: 0.7921, AP: 0.8018\n",
      "Epoch: 083, AUC: 0.7924, AP: 0.8021\n",
      "Epoch: 084, AUC: 0.7926, AP: 0.8022\n",
      "Epoch: 085, AUC: 0.7933, AP: 0.8028\n",
      "Epoch: 086, AUC: 0.7941, AP: 0.8033\n",
      "Epoch: 087, AUC: 0.7946, AP: 0.8037\n",
      "Epoch: 088, AUC: 0.7949, AP: 0.8039\n",
      "Epoch: 089, AUC: 0.7950, AP: 0.8038\n",
      "Epoch: 090, AUC: 0.7954, AP: 0.8041\n",
      "Epoch: 091, AUC: 0.7950, AP: 0.8037\n",
      "Epoch: 092, AUC: 0.7954, AP: 0.8038\n",
      "Epoch: 093, AUC: 0.7962, AP: 0.8045\n",
      "Epoch: 094, AUC: 0.7967, AP: 0.8047\n",
      "Epoch: 095, AUC: 0.7966, AP: 0.8045\n",
      "Epoch: 096, AUC: 0.7966, AP: 0.8043\n",
      "Epoch: 097, AUC: 0.7961, AP: 0.8039\n",
      "Epoch: 098, AUC: 0.7956, AP: 0.8033\n",
      "Epoch: 099, AUC: 0.7954, AP: 0.8031\n",
      "Epoch: 100, AUC: 0.7954, AP: 0.8031\n"
     ]
    }
   ],
   "source": [
    "for epoch in range(1, epochs + 1):\n",
    "    loss = train()\n",
    "    auc, ap = test(data.test_pos_edge_index, data.test_neg_edge_index)\n",
    "    print('Epoch: {:03d}, AUC: {:.4f}, AP: {:.4f}'.format(epoch, auc, ap))\n",
    "\n",
    "\n",
    "    writer.add_scalar('auc train',auc,epoch) # new line\n",
    "    writer.add_scalar('ap train',ap,epoch)   # new line"
   ]
  },
  {
   "cell_type": "code",
   "execution_count": null,
   "metadata": {
    "id": "rojqeGyNMOts"
   },
   "outputs": [],
   "source": []
  },
  {
   "cell_type": "markdown",
   "metadata": {
    "id": "8Na7IM3eMOts"
   },
   "source": [
    "## Graph Variational AutoEncoder (GVAE)"
   ]
  },
  {
   "cell_type": "code",
   "execution_count": 17,
   "metadata": {
    "id": "p2GwkqwRMOts"
   },
   "outputs": [],
   "source": [
    "from torch_geometric.nn import VGAE"
   ]
  },
  {
   "cell_type": "code",
   "execution_count": 18,
   "metadata": {
    "id": "mDCN_itqMOts",
    "outputId": "f389fdb2-3f9a-4453-caf3-8bf0b77ecf96"
   },
   "outputs": [
    {
     "name": "stderr",
     "output_type": "stream",
     "text": [
      "/home/vanhoan310/miniconda3/envs/py38/lib/python3.8/site-packages/torch_geometric/deprecation.py:26: UserWarning: 'train_test_split_edges' is deprecated, use 'transforms.RandomLinkSplit' instead\n",
      "  warnings.warn(out)\n"
     ]
    }
   ],
   "source": [
    "# dataset = Planetoid(\"\\..\", \"CiteSeer\", transform=T.NormalizeFeatures())\n",
    "data = dataset[0]\n",
    "data.train_mask = data.val_mask = data.test_mask = data.y = None\n",
    "data = train_test_split_edges(data)\n",
    "\n",
    "\n",
    "class VariationalGCNEncoder(torch.nn.Module):\n",
    "    def __init__(self, in_channels, out_channels):\n",
    "        super(VariationalGCNEncoder, self).__init__()\n",
    "        self.conv1 = GCNConv(in_channels, 2 * out_channels, cached=True) # cached only for transductive learning\n",
    "        self.conv_mu = GCNConv(2 * out_channels, out_channels, cached=True)\n",
    "        self.conv_logstd = GCNConv(2 * out_channels, out_channels, cached=True)\n",
    "\n",
    "    def forward(self, x, edge_index):\n",
    "        x = self.conv1(x, edge_index).relu()\n",
    "        return self.conv_mu(x, edge_index), self.conv_logstd(x, edge_index)"
   ]
  },
  {
   "cell_type": "code",
   "execution_count": 19,
   "metadata": {
    "id": "Y9JB-WqgMOts"
   },
   "outputs": [],
   "source": [
    "out_channels = 2\n",
    "num_features = dataset.num_features\n",
    "epochs = 300\n",
    "\n",
    "\n",
    "model = VGAE(VariationalGCNEncoder(num_features, out_channels))  # new line\n",
    "\n",
    "device = torch.device('cuda' if torch.cuda.is_available() else 'cpu')\n",
    "model = model.to(device)\n",
    "x = data.x.to(device)\n",
    "train_pos_edge_index = data.train_pos_edge_index.to(device)\n",
    "optimizer = torch.optim.Adam(model.parameters(), lr=0.01)"
   ]
  },
  {
   "cell_type": "code",
   "execution_count": 20,
   "metadata": {
    "id": "QJ51YmpHMOts"
   },
   "outputs": [],
   "source": [
    "def train():\n",
    "    model.train()\n",
    "    optimizer.zero_grad()\n",
    "    z = model.encode(x, train_pos_edge_index)\n",
    "    loss = model.recon_loss(z, train_pos_edge_index)\n",
    "\n",
    "    loss = loss + (1 / data.num_nodes) * model.kl_loss()  # new line\n",
    "    loss.backward()\n",
    "    optimizer.step()\n",
    "    return float(loss)\n",
    "\n",
    "\n",
    "def test(pos_edge_index, neg_edge_index):\n",
    "    model.eval()\n",
    "    with torch.no_grad():\n",
    "        z = model.encode(x, train_pos_edge_index)\n",
    "    return model.test(z, pos_edge_index, neg_edge_index)"
   ]
  },
  {
   "cell_type": "code",
   "execution_count": 21,
   "metadata": {
    "id": "Pd5oBVn2MOtt",
    "outputId": "cc38092f-c3d0-498d-e76e-161c4cd151e0",
    "scrolled": true
   },
   "outputs": [
    {
     "name": "stdout",
     "output_type": "stream",
     "text": [
      "Epoch: 001, AUC: 0.6285, AP: 0.6641\n",
      "Epoch: 002, AUC: 0.6372, AP: 0.6653\n",
      "Epoch: 003, AUC: 0.6358, AP: 0.6594\n",
      "Epoch: 004, AUC: 0.6337, AP: 0.6572\n",
      "Epoch: 005, AUC: 0.6323, AP: 0.6556\n",
      "Epoch: 006, AUC: 0.6313, AP: 0.6545\n",
      "Epoch: 007, AUC: 0.6304, AP: 0.6534\n",
      "Epoch: 008, AUC: 0.6298, AP: 0.6528\n",
      "Epoch: 009, AUC: 0.6288, AP: 0.6521\n",
      "Epoch: 010, AUC: 0.6285, AP: 0.6514\n",
      "Epoch: 011, AUC: 0.6281, AP: 0.6507\n",
      "Epoch: 012, AUC: 0.6274, AP: 0.6501\n",
      "Epoch: 013, AUC: 0.6268, AP: 0.6495\n",
      "Epoch: 014, AUC: 0.6262, AP: 0.6484\n",
      "Epoch: 015, AUC: 0.6254, AP: 0.6475\n",
      "Epoch: 016, AUC: 0.6248, AP: 0.6463\n",
      "Epoch: 017, AUC: 0.6242, AP: 0.6453\n",
      "Epoch: 018, AUC: 0.6231, AP: 0.6444\n",
      "Epoch: 019, AUC: 0.6221, AP: 0.6431\n",
      "Epoch: 020, AUC: 0.6216, AP: 0.6422\n",
      "Epoch: 021, AUC: 0.6214, AP: 0.6417\n",
      "Epoch: 022, AUC: 0.6218, AP: 0.6421\n",
      "Epoch: 023, AUC: 0.6220, AP: 0.6422\n",
      "Epoch: 024, AUC: 0.6220, AP: 0.6422\n",
      "Epoch: 025, AUC: 0.6221, AP: 0.6425\n",
      "Epoch: 026, AUC: 0.6230, AP: 0.6434\n",
      "Epoch: 027, AUC: 0.6239, AP: 0.6444\n",
      "Epoch: 028, AUC: 0.6245, AP: 0.6451\n",
      "Epoch: 029, AUC: 0.6250, AP: 0.6456\n",
      "Epoch: 030, AUC: 0.6259, AP: 0.6468\n",
      "Epoch: 031, AUC: 0.6275, AP: 0.6486\n",
      "Epoch: 032, AUC: 0.6284, AP: 0.6502\n",
      "Epoch: 033, AUC: 0.6290, AP: 0.6514\n",
      "Epoch: 034, AUC: 0.6294, AP: 0.6526\n",
      "Epoch: 035, AUC: 0.6293, AP: 0.6532\n",
      "Epoch: 036, AUC: 0.6297, AP: 0.6543\n",
      "Epoch: 037, AUC: 0.6301, AP: 0.6552\n",
      "Epoch: 038, AUC: 0.6303, AP: 0.6563\n",
      "Epoch: 039, AUC: 0.6305, AP: 0.6572\n",
      "Epoch: 040, AUC: 0.6305, AP: 0.6578\n",
      "Epoch: 041, AUC: 0.6302, AP: 0.6585\n",
      "Epoch: 042, AUC: 0.6299, AP: 0.6593\n",
      "Epoch: 043, AUC: 0.6299, AP: 0.6600\n",
      "Epoch: 044, AUC: 0.6293, AP: 0.6604\n",
      "Epoch: 045, AUC: 0.6286, AP: 0.6608\n",
      "Epoch: 046, AUC: 0.6280, AP: 0.6619\n",
      "Epoch: 047, AUC: 0.6269, AP: 0.6628\n",
      "Epoch: 048, AUC: 0.6259, AP: 0.6636\n",
      "Epoch: 049, AUC: 0.6250, AP: 0.6651\n",
      "Epoch: 050, AUC: 0.6238, AP: 0.6663\n",
      "Epoch: 051, AUC: 0.6225, AP: 0.6671\n",
      "Epoch: 052, AUC: 0.6212, AP: 0.6679\n",
      "Epoch: 053, AUC: 0.6194, AP: 0.6684\n",
      "Epoch: 054, AUC: 0.6179, AP: 0.6695\n",
      "Epoch: 055, AUC: 0.6163, AP: 0.6698\n",
      "Epoch: 056, AUC: 0.6158, AP: 0.6702\n",
      "Epoch: 057, AUC: 0.6146, AP: 0.6706\n",
      "Epoch: 058, AUC: 0.6136, AP: 0.6714\n",
      "Epoch: 059, AUC: 0.6129, AP: 0.6722\n",
      "Epoch: 060, AUC: 0.6120, AP: 0.6731\n",
      "Epoch: 061, AUC: 0.6115, AP: 0.6740\n",
      "Epoch: 062, AUC: 0.6112, AP: 0.6751\n",
      "Epoch: 063, AUC: 0.6105, AP: 0.6759\n",
      "Epoch: 064, AUC: 0.6105, AP: 0.6766\n",
      "Epoch: 065, AUC: 0.6105, AP: 0.6773\n",
      "Epoch: 066, AUC: 0.6105, AP: 0.6780\n",
      "Epoch: 067, AUC: 0.6108, AP: 0.6789\n",
      "Epoch: 068, AUC: 0.6111, AP: 0.6795\n",
      "Epoch: 069, AUC: 0.6115, AP: 0.6804\n",
      "Epoch: 070, AUC: 0.6122, AP: 0.6816\n",
      "Epoch: 071, AUC: 0.6131, AP: 0.6826\n",
      "Epoch: 072, AUC: 0.6142, AP: 0.6838\n",
      "Epoch: 073, AUC: 0.6158, AP: 0.6851\n",
      "Epoch: 074, AUC: 0.6182, AP: 0.6868\n",
      "Epoch: 075, AUC: 0.6203, AP: 0.6882\n",
      "Epoch: 076, AUC: 0.6226, AP: 0.6897\n",
      "Epoch: 077, AUC: 0.6247, AP: 0.6909\n",
      "Epoch: 078, AUC: 0.6274, AP: 0.6925\n",
      "Epoch: 079, AUC: 0.6306, AP: 0.6940\n",
      "Epoch: 080, AUC: 0.6343, AP: 0.6958\n",
      "Epoch: 081, AUC: 0.6390, AP: 0.6980\n",
      "Epoch: 082, AUC: 0.6441, AP: 0.7002\n",
      "Epoch: 083, AUC: 0.6502, AP: 0.7028\n",
      "Epoch: 084, AUC: 0.6555, AP: 0.7049\n",
      "Epoch: 085, AUC: 0.6612, AP: 0.7076\n",
      "Epoch: 086, AUC: 0.6660, AP: 0.7101\n",
      "Epoch: 087, AUC: 0.6718, AP: 0.7130\n",
      "Epoch: 088, AUC: 0.6779, AP: 0.7162\n",
      "Epoch: 089, AUC: 0.6861, AP: 0.7203\n",
      "Epoch: 090, AUC: 0.6923, AP: 0.7236\n",
      "Epoch: 091, AUC: 0.6987, AP: 0.7277\n",
      "Epoch: 092, AUC: 0.7038, AP: 0.7308\n",
      "Epoch: 093, AUC: 0.7092, AP: 0.7341\n",
      "Epoch: 094, AUC: 0.7144, AP: 0.7374\n",
      "Epoch: 095, AUC: 0.7206, AP: 0.7412\n",
      "Epoch: 096, AUC: 0.7275, AP: 0.7459\n",
      "Epoch: 097, AUC: 0.7339, AP: 0.7505\n",
      "Epoch: 098, AUC: 0.7399, AP: 0.7545\n",
      "Epoch: 099, AUC: 0.7437, AP: 0.7572\n",
      "Epoch: 100, AUC: 0.7473, AP: 0.7598\n",
      "Epoch: 101, AUC: 0.7501, AP: 0.7618\n",
      "Epoch: 102, AUC: 0.7537, AP: 0.7644\n",
      "Epoch: 103, AUC: 0.7576, AP: 0.7672\n",
      "Epoch: 104, AUC: 0.7607, AP: 0.7695\n",
      "Epoch: 105, AUC: 0.7641, AP: 0.7719\n",
      "Epoch: 106, AUC: 0.7672, AP: 0.7741\n",
      "Epoch: 107, AUC: 0.7702, AP: 0.7763\n",
      "Epoch: 108, AUC: 0.7725, AP: 0.7780\n",
      "Epoch: 109, AUC: 0.7744, AP: 0.7797\n",
      "Epoch: 110, AUC: 0.7757, AP: 0.7805\n",
      "Epoch: 111, AUC: 0.7773, AP: 0.7816\n",
      "Epoch: 112, AUC: 0.7785, AP: 0.7825\n",
      "Epoch: 113, AUC: 0.7797, AP: 0.7834\n",
      "Epoch: 114, AUC: 0.7808, AP: 0.7842\n",
      "Epoch: 115, AUC: 0.7824, AP: 0.7856\n",
      "Epoch: 116, AUC: 0.7833, AP: 0.7864\n",
      "Epoch: 117, AUC: 0.7843, AP: 0.7873\n",
      "Epoch: 118, AUC: 0.7849, AP: 0.7878\n",
      "Epoch: 119, AUC: 0.7858, AP: 0.7884\n",
      "Epoch: 120, AUC: 0.7865, AP: 0.7889\n",
      "Epoch: 121, AUC: 0.7872, AP: 0.7893\n",
      "Epoch: 122, AUC: 0.7882, AP: 0.7901\n",
      "Epoch: 123, AUC: 0.7890, AP: 0.7908\n",
      "Epoch: 124, AUC: 0.7896, AP: 0.7914\n",
      "Epoch: 125, AUC: 0.7903, AP: 0.7919\n",
      "Epoch: 126, AUC: 0.7908, AP: 0.7923\n",
      "Epoch: 127, AUC: 0.7913, AP: 0.7927\n",
      "Epoch: 128, AUC: 0.7914, AP: 0.7926\n",
      "Epoch: 129, AUC: 0.7917, AP: 0.7925\n",
      "Epoch: 130, AUC: 0.7920, AP: 0.7923\n",
      "Epoch: 131, AUC: 0.7929, AP: 0.7931\n",
      "Epoch: 132, AUC: 0.7937, AP: 0.7935\n",
      "Epoch: 133, AUC: 0.7941, AP: 0.7936\n",
      "Epoch: 134, AUC: 0.7945, AP: 0.7936\n",
      "Epoch: 135, AUC: 0.7947, AP: 0.7933\n",
      "Epoch: 136, AUC: 0.7939, AP: 0.7922\n",
      "Epoch: 137, AUC: 0.7934, AP: 0.7912\n",
      "Epoch: 138, AUC: 0.7936, AP: 0.7912\n",
      "Epoch: 139, AUC: 0.7951, AP: 0.7925\n",
      "Epoch: 140, AUC: 0.7961, AP: 0.7929\n",
      "Epoch: 141, AUC: 0.7966, AP: 0.7933\n",
      "Epoch: 142, AUC: 0.7966, AP: 0.7930\n",
      "Epoch: 143, AUC: 0.7967, AP: 0.7928\n",
      "Epoch: 144, AUC: 0.7960, AP: 0.7919\n",
      "Epoch: 145, AUC: 0.7955, AP: 0.7910\n",
      "Epoch: 146, AUC: 0.7957, AP: 0.7909\n",
      "Epoch: 147, AUC: 0.7955, AP: 0.7906\n",
      "Epoch: 148, AUC: 0.7955, AP: 0.7903\n",
      "Epoch: 149, AUC: 0.7961, AP: 0.7907\n",
      "Epoch: 150, AUC: 0.7968, AP: 0.7913\n",
      "Epoch: 151, AUC: 0.7972, AP: 0.7917\n",
      "Epoch: 152, AUC: 0.7970, AP: 0.7914\n",
      "Epoch: 153, AUC: 0.7969, AP: 0.7912\n",
      "Epoch: 154, AUC: 0.7966, AP: 0.7908\n",
      "Epoch: 155, AUC: 0.7960, AP: 0.7901\n",
      "Epoch: 156, AUC: 0.7958, AP: 0.7897\n",
      "Epoch: 157, AUC: 0.7958, AP: 0.7897\n",
      "Epoch: 158, AUC: 0.7960, AP: 0.7898\n",
      "Epoch: 159, AUC: 0.7968, AP: 0.7904\n",
      "Epoch: 160, AUC: 0.7974, AP: 0.7908\n",
      "Epoch: 161, AUC: 0.7977, AP: 0.7910\n",
      "Epoch: 162, AUC: 0.7971, AP: 0.7904\n",
      "Epoch: 163, AUC: 0.7962, AP: 0.7896\n",
      "Epoch: 164, AUC: 0.7956, AP: 0.7890\n",
      "Epoch: 165, AUC: 0.7958, AP: 0.7891\n",
      "Epoch: 166, AUC: 0.7959, AP: 0.7891\n",
      "Epoch: 167, AUC: 0.7960, AP: 0.7892\n",
      "Epoch: 168, AUC: 0.7966, AP: 0.7895\n",
      "Epoch: 169, AUC: 0.7974, AP: 0.7901\n",
      "Epoch: 170, AUC: 0.7972, AP: 0.7901\n",
      "Epoch: 171, AUC: 0.7965, AP: 0.7894\n",
      "Epoch: 172, AUC: 0.7960, AP: 0.7891\n",
      "Epoch: 173, AUC: 0.7959, AP: 0.7890\n",
      "Epoch: 174, AUC: 0.7962, AP: 0.7894\n",
      "Epoch: 175, AUC: 0.7967, AP: 0.7898\n",
      "Epoch: 176, AUC: 0.7971, AP: 0.7900\n",
      "Epoch: 177, AUC: 0.7968, AP: 0.7896\n",
      "Epoch: 178, AUC: 0.7962, AP: 0.7892\n",
      "Epoch: 179, AUC: 0.7963, AP: 0.7892\n",
      "Epoch: 180, AUC: 0.7963, AP: 0.7894\n",
      "Epoch: 181, AUC: 0.7965, AP: 0.7895\n",
      "Epoch: 182, AUC: 0.7965, AP: 0.7894\n",
      "Epoch: 183, AUC: 0.7961, AP: 0.7890\n",
      "Epoch: 184, AUC: 0.7958, AP: 0.7888\n",
      "Epoch: 185, AUC: 0.7958, AP: 0.7887\n",
      "Epoch: 186, AUC: 0.7960, AP: 0.7887\n",
      "Epoch: 187, AUC: 0.7960, AP: 0.7887\n",
      "Epoch: 188, AUC: 0.7959, AP: 0.7885\n",
      "Epoch: 189, AUC: 0.7955, AP: 0.7883\n",
      "Epoch: 190, AUC: 0.7950, AP: 0.7878\n",
      "Epoch: 191, AUC: 0.7946, AP: 0.7874\n",
      "Epoch: 192, AUC: 0.7946, AP: 0.7875\n",
      "Epoch: 193, AUC: 0.7949, AP: 0.7876\n",
      "Epoch: 194, AUC: 0.7952, AP: 0.7882\n",
      "Epoch: 195, AUC: 0.7950, AP: 0.7881\n",
      "Epoch: 196, AUC: 0.7947, AP: 0.7878\n",
      "Epoch: 197, AUC: 0.7944, AP: 0.7877\n",
      "Epoch: 198, AUC: 0.7941, AP: 0.7877\n",
      "Epoch: 199, AUC: 0.7940, AP: 0.7876\n",
      "Epoch: 200, AUC: 0.7943, AP: 0.7875\n",
      "Epoch: 201, AUC: 0.7943, AP: 0.7876\n",
      "Epoch: 202, AUC: 0.7942, AP: 0.7875\n",
      "Epoch: 203, AUC: 0.7941, AP: 0.7874\n",
      "Epoch: 204, AUC: 0.7939, AP: 0.7873\n",
      "Epoch: 205, AUC: 0.7936, AP: 0.7872\n",
      "Epoch: 206, AUC: 0.7930, AP: 0.7868\n",
      "Epoch: 207, AUC: 0.7927, AP: 0.7867\n",
      "Epoch: 208, AUC: 0.7926, AP: 0.7864\n",
      "Epoch: 209, AUC: 0.7925, AP: 0.7863\n",
      "Epoch: 210, AUC: 0.7926, AP: 0.7864\n",
      "Epoch: 211, AUC: 0.7927, AP: 0.7863\n",
      "Epoch: 212, AUC: 0.7925, AP: 0.7861\n",
      "Epoch: 213, AUC: 0.7925, AP: 0.7862\n",
      "Epoch: 214, AUC: 0.7922, AP: 0.7862\n",
      "Epoch: 215, AUC: 0.7919, AP: 0.7859\n",
      "Epoch: 216, AUC: 0.7919, AP: 0.7859\n",
      "Epoch: 217, AUC: 0.7918, AP: 0.7858\n",
      "Epoch: 218, AUC: 0.7918, AP: 0.7856\n",
      "Epoch: 219, AUC: 0.7920, AP: 0.7856\n",
      "Epoch: 220, AUC: 0.7921, AP: 0.7857\n",
      "Epoch: 221, AUC: 0.7918, AP: 0.7854\n",
      "Epoch: 222, AUC: 0.7913, AP: 0.7852\n",
      "Epoch: 223, AUC: 0.7906, AP: 0.7846\n",
      "Epoch: 224, AUC: 0.7899, AP: 0.7843\n",
      "Epoch: 225, AUC: 0.7900, AP: 0.7843\n",
      "Epoch: 226, AUC: 0.7909, AP: 0.7850\n",
      "Epoch: 227, AUC: 0.7915, AP: 0.7851\n",
      "Epoch: 228, AUC: 0.7919, AP: 0.7852\n",
      "Epoch: 229, AUC: 0.7913, AP: 0.7848\n",
      "Epoch: 230, AUC: 0.7903, AP: 0.7846\n",
      "Epoch: 231, AUC: 0.7892, AP: 0.7838\n",
      "Epoch: 232, AUC: 0.7888, AP: 0.7836\n",
      "Epoch: 233, AUC: 0.7890, AP: 0.7836\n",
      "Epoch: 234, AUC: 0.7896, AP: 0.7839\n",
      "Epoch: 235, AUC: 0.7897, AP: 0.7837\n",
      "Epoch: 236, AUC: 0.7896, AP: 0.7836\n",
      "Epoch: 237, AUC: 0.7892, AP: 0.7832\n",
      "Epoch: 238, AUC: 0.7888, AP: 0.7832\n",
      "Epoch: 239, AUC: 0.7883, AP: 0.7829\n",
      "Epoch: 240, AUC: 0.7882, AP: 0.7828\n",
      "Epoch: 241, AUC: 0.7885, AP: 0.7830\n",
      "Epoch: 242, AUC: 0.7893, AP: 0.7833\n",
      "Epoch: 243, AUC: 0.7893, AP: 0.7833\n",
      "Epoch: 244, AUC: 0.7888, AP: 0.7831\n",
      "Epoch: 245, AUC: 0.7883, AP: 0.7827\n",
      "Epoch: 246, AUC: 0.7876, AP: 0.7825\n",
      "Epoch: 247, AUC: 0.7867, AP: 0.7818\n",
      "Epoch: 248, AUC: 0.7875, AP: 0.7825\n",
      "Epoch: 249, AUC: 0.7885, AP: 0.7829\n",
      "Epoch: 250, AUC: 0.7893, AP: 0.7832\n",
      "Epoch: 251, AUC: 0.7892, AP: 0.7832\n",
      "Epoch: 252, AUC: 0.7888, AP: 0.7833\n",
      "Epoch: 253, AUC: 0.7872, AP: 0.7826\n",
      "Epoch: 254, AUC: 0.7861, AP: 0.7817\n",
      "Epoch: 255, AUC: 0.7863, AP: 0.7820\n",
      "Epoch: 256, AUC: 0.7870, AP: 0.7824\n",
      "Epoch: 257, AUC: 0.7881, AP: 0.7830\n",
      "Epoch: 258, AUC: 0.7884, AP: 0.7832\n",
      "Epoch: 259, AUC: 0.7883, AP: 0.7831\n",
      "Epoch: 260, AUC: 0.7875, AP: 0.7826\n",
      "Epoch: 261, AUC: 0.7866, AP: 0.7821\n",
      "Epoch: 262, AUC: 0.7860, AP: 0.7819\n",
      "Epoch: 263, AUC: 0.7856, AP: 0.7816\n",
      "Epoch: 264, AUC: 0.7857, AP: 0.7816\n",
      "Epoch: 265, AUC: 0.7864, AP: 0.7819\n",
      "Epoch: 266, AUC: 0.7868, AP: 0.7819\n",
      "Epoch: 267, AUC: 0.7868, AP: 0.7819\n",
      "Epoch: 268, AUC: 0.7858, AP: 0.7816\n",
      "Epoch: 269, AUC: 0.7845, AP: 0.7810\n",
      "Epoch: 270, AUC: 0.7837, AP: 0.7802\n",
      "Epoch: 271, AUC: 0.7838, AP: 0.7802\n",
      "Epoch: 272, AUC: 0.7846, AP: 0.7806\n",
      "Epoch: 273, AUC: 0.7857, AP: 0.7810\n",
      "Epoch: 274, AUC: 0.7860, AP: 0.7811\n",
      "Epoch: 275, AUC: 0.7855, AP: 0.7809\n",
      "Epoch: 276, AUC: 0.7851, AP: 0.7807\n",
      "Epoch: 277, AUC: 0.7842, AP: 0.7800\n",
      "Epoch: 278, AUC: 0.7830, AP: 0.7797\n",
      "Epoch: 279, AUC: 0.7824, AP: 0.7792\n",
      "Epoch: 280, AUC: 0.7831, AP: 0.7795\n",
      "Epoch: 281, AUC: 0.7834, AP: 0.7795\n",
      "Epoch: 282, AUC: 0.7841, AP: 0.7797\n",
      "Epoch: 283, AUC: 0.7840, AP: 0.7796\n",
      "Epoch: 284, AUC: 0.7838, AP: 0.7794\n",
      "Epoch: 285, AUC: 0.7834, AP: 0.7790\n",
      "Epoch: 286, AUC: 0.7826, AP: 0.7788\n",
      "Epoch: 287, AUC: 0.7820, AP: 0.7787\n",
      "Epoch: 288, AUC: 0.7819, AP: 0.7784\n",
      "Epoch: 289, AUC: 0.7820, AP: 0.7783\n",
      "Epoch: 290, AUC: 0.7821, AP: 0.7781\n",
      "Epoch: 291, AUC: 0.7825, AP: 0.7785\n",
      "Epoch: 292, AUC: 0.7825, AP: 0.7786\n",
      "Epoch: 293, AUC: 0.7825, AP: 0.7786\n",
      "Epoch: 294, AUC: 0.7818, AP: 0.7783\n",
      "Epoch: 295, AUC: 0.7813, AP: 0.7783\n",
      "Epoch: 296, AUC: 0.7810, AP: 0.7782\n",
      "Epoch: 297, AUC: 0.7807, AP: 0.7781\n",
      "Epoch: 298, AUC: 0.7812, AP: 0.7780\n",
      "Epoch: 299, AUC: 0.7820, AP: 0.7782\n",
      "Epoch: 300, AUC: 0.7828, AP: 0.7787\n"
     ]
    }
   ],
   "source": [
    "writer = SummaryWriter('runs/VGAE_experiment_'+'2d_100_epochs')\n",
    "\n",
    "for epoch in range(1, epochs + 1):\n",
    "    loss = train()\n",
    "    auc, ap = test(data.test_pos_edge_index, data.test_neg_edge_index)\n",
    "    print('Epoch: {:03d}, AUC: {:.4f}, AP: {:.4f}'.format(epoch, auc, ap))\n",
    "\n",
    "\n",
    "    writer.add_scalar('auc train',auc,epoch) # new line\n",
    "    writer.add_scalar('ap train',ap,epoch)   # new line"
   ]
  },
  {
   "cell_type": "code",
   "execution_count": null,
   "metadata": {
    "id": "J5tTs3NpMOtt"
   },
   "outputs": [],
   "source": []
  },
  {
   "cell_type": "code",
   "execution_count": null,
   "metadata": {
    "id": "J5tTs3NpMOtt"
   },
   "outputs": [],
   "source": []
  },
  {
   "cell_type": "code",
   "execution_count": null,
   "metadata": {},
   "outputs": [],
   "source": []
  }
 ],
 "metadata": {
  "colab": {
   "provenance": []
  },
  "kernelspec": {
   "display_name": "Python py38",
   "language": "python",
   "name": "py38"
  },
  "language_info": {
   "codemirror_mode": {
    "name": "ipython",
    "version": 3
   },
   "file_extension": ".py",
   "mimetype": "text/x-python",
   "name": "python",
   "nbconvert_exporter": "python",
   "pygments_lexer": "ipython3",
   "version": "3.8.5"
  }
 },
 "nbformat": 4,
 "nbformat_minor": 4
}
