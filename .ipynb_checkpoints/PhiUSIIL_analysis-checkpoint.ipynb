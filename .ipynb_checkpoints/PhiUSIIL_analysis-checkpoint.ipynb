{
 "cells": [
  {
   "cell_type": "code",
   "execution_count": 1,
   "id": "51996577-859a-466e-a40f-b60f6a51a8d4",
   "metadata": {},
   "outputs": [],
   "source": [
    "%load_ext autoreload\n",
    "%autoreload 2"
   ]
  },
  {
   "cell_type": "code",
   "execution_count": 2,
   "id": "27eb25f1-dbc1-4bfc-9deb-da49f7c72c35",
   "metadata": {},
   "outputs": [],
   "source": [
    "import numpy as np\n",
    "import pandas as pd\n",
    "from utils import run_ML"
   ]
  },
  {
   "cell_type": "code",
   "execution_count": 3,
   "id": "a5ac7c73-a600-48e9-8931-3afa1679e506",
   "metadata": {},
   "outputs": [],
   "source": [
    "# !pip install tldextract"
   ]
  },
  {
   "cell_type": "code",
   "execution_count": 4,
   "id": "f4b90b7a-8d1a-4472-889c-bc87ef4a9706",
   "metadata": {},
   "outputs": [],
   "source": [
    "df = pd.read_csv(\"data/PhiUSIIL_Phishing_URL_Dataset.csv\")"
   ]
  },
  {
   "cell_type": "code",
   "execution_count": 5,
   "id": "de4c208e-0060-4bd7-81c9-f013a1b0fdec",
   "metadata": {},
   "outputs": [
    {
     "data": {
      "text/html": [
       "<div>\n",
       "<style scoped>\n",
       "    .dataframe tbody tr th:only-of-type {\n",
       "        vertical-align: middle;\n",
       "    }\n",
       "\n",
       "    .dataframe tbody tr th {\n",
       "        vertical-align: top;\n",
       "    }\n",
       "\n",
       "    .dataframe thead th {\n",
       "        text-align: right;\n",
       "    }\n",
       "</style>\n",
       "<table border=\"1\" class=\"dataframe\">\n",
       "  <thead>\n",
       "    <tr style=\"text-align: right;\">\n",
       "      <th></th>\n",
       "      <th>URL</th>\n",
       "      <th>URLLength</th>\n",
       "      <th>Domain</th>\n",
       "      <th>DomainLength</th>\n",
       "      <th>IsDomainIP</th>\n",
       "      <th>TLD</th>\n",
       "      <th>URLSimilarityIndex</th>\n",
       "      <th>CharContinuationRate</th>\n",
       "      <th>TLDLegitimateProb</th>\n",
       "      <th>URLCharProb</th>\n",
       "      <th>...</th>\n",
       "      <th>Pay</th>\n",
       "      <th>Crypto</th>\n",
       "      <th>HasCopyrightInfo</th>\n",
       "      <th>NoOfImage</th>\n",
       "      <th>NoOfCSS</th>\n",
       "      <th>NoOfJS</th>\n",
       "      <th>NoOfSelfRef</th>\n",
       "      <th>NoOfEmptyRef</th>\n",
       "      <th>NoOfExternalRef</th>\n",
       "      <th>label</th>\n",
       "    </tr>\n",
       "  </thead>\n",
       "  <tbody>\n",
       "    <tr>\n",
       "      <th>0</th>\n",
       "      <td>https://www.southbankmosaics.com</td>\n",
       "      <td>31</td>\n",
       "      <td>www.southbankmosaics.com</td>\n",
       "      <td>24</td>\n",
       "      <td>0</td>\n",
       "      <td>com</td>\n",
       "      <td>100.0</td>\n",
       "      <td>1.000000</td>\n",
       "      <td>0.522907</td>\n",
       "      <td>0.061933</td>\n",
       "      <td>...</td>\n",
       "      <td>0</td>\n",
       "      <td>0</td>\n",
       "      <td>1</td>\n",
       "      <td>34</td>\n",
       "      <td>20</td>\n",
       "      <td>28</td>\n",
       "      <td>119</td>\n",
       "      <td>0</td>\n",
       "      <td>124</td>\n",
       "      <td>1</td>\n",
       "    </tr>\n",
       "    <tr>\n",
       "      <th>1</th>\n",
       "      <td>https://www.uni-mainz.de</td>\n",
       "      <td>23</td>\n",
       "      <td>www.uni-mainz.de</td>\n",
       "      <td>16</td>\n",
       "      <td>0</td>\n",
       "      <td>de</td>\n",
       "      <td>100.0</td>\n",
       "      <td>0.666667</td>\n",
       "      <td>0.032650</td>\n",
       "      <td>0.050207</td>\n",
       "      <td>...</td>\n",
       "      <td>0</td>\n",
       "      <td>0</td>\n",
       "      <td>1</td>\n",
       "      <td>50</td>\n",
       "      <td>9</td>\n",
       "      <td>8</td>\n",
       "      <td>39</td>\n",
       "      <td>0</td>\n",
       "      <td>217</td>\n",
       "      <td>1</td>\n",
       "    </tr>\n",
       "  </tbody>\n",
       "</table>\n",
       "<p>2 rows × 55 columns</p>\n",
       "</div>"
      ],
      "text/plain": [
       "                                URL  URLLength                    Domain  \\\n",
       "0  https://www.southbankmosaics.com         31  www.southbankmosaics.com   \n",
       "1          https://www.uni-mainz.de         23          www.uni-mainz.de   \n",
       "\n",
       "   DomainLength  IsDomainIP  TLD  URLSimilarityIndex  CharContinuationRate  \\\n",
       "0            24           0  com               100.0              1.000000   \n",
       "1            16           0   de               100.0              0.666667   \n",
       "\n",
       "   TLDLegitimateProb  URLCharProb  ...  Pay  Crypto  HasCopyrightInfo  \\\n",
       "0           0.522907     0.061933  ...    0       0                 1   \n",
       "1           0.032650     0.050207  ...    0       0                 1   \n",
       "\n",
       "   NoOfImage  NoOfCSS  NoOfJS  NoOfSelfRef  NoOfEmptyRef  NoOfExternalRef  \\\n",
       "0         34       20      28          119             0              124   \n",
       "1         50        9       8           39             0              217   \n",
       "\n",
       "   label  \n",
       "0      1  \n",
       "1      1  \n",
       "\n",
       "[2 rows x 55 columns]"
      ]
     },
     "execution_count": 5,
     "metadata": {},
     "output_type": "execute_result"
    }
   ],
   "source": [
    "df.head(2)"
   ]
  },
  {
   "cell_type": "code",
   "execution_count": 6,
   "id": "8cde64b2-2039-4c86-9c75-dffd2289622e",
   "metadata": {},
   "outputs": [],
   "source": [
    "smalldata = df.sample(n = 2000, random_state=1)"
   ]
  },
  {
   "cell_type": "code",
   "execution_count": 7,
   "id": "3b794753-e34c-438f-812d-cb649d7572b3",
   "metadata": {},
   "outputs": [],
   "source": [
    "# 'Domain','TLD',\n",
    "urldata = np.array(smalldata[['URLLength', 'DomainLength', 'IsDomainIP', \\\n",
    "       'URLSimilarityIndex', 'CharContinuationRate', 'TLDLegitimateProb',\\\n",
    "       'URLCharProb', 'TLDLength', 'NoOfSubDomain', 'HasObfuscation',\\\n",
    "       'NoOfObfuscatedChar', 'ObfuscationRatio', 'NoOfLettersInURL',\\\n",
    "       'LetterRatioInURL', 'NoOfDegitsInURL', 'DegitRatioInURL',\\\n",
    "       'NoOfEqualsInURL', 'NoOfQMarkInURL', 'NoOfAmpersandInURL',\\\n",
    "       'NoOfOtherSpecialCharsInURL', 'SpacialCharRatioInURL', 'IsHTTPS']])\n",
    "labels = smalldata.iloc[:,-1].values"
   ]
  },
  {
   "cell_type": "code",
   "execution_count": null,
   "id": "dfd82337-ee9e-49cc-a8b2-4b9bb85303b8",
   "metadata": {},
   "outputs": [
    {
     "name": "stdout",
     "output_type": "stream",
     "text": [
      "Run:  0 , fold:  0\n",
      "SVM, LightGBM, Run:  0 , fold:  1\n",
      "SVM, LightGBM, Run:  0 , fold:  2\n",
      "SVM, LightGBM, Run:  0 , fold:  3\n",
      "SVM, "
     ]
    }
   ],
   "source": [
    "run_ML(urldata, labels, \"PhiUSIILmock\", \"standard\")"
   ]
  },
  {
   "cell_type": "code",
   "execution_count": null,
   "id": "3fb9d02f-0179-49c8-9016-b5289783a56f",
   "metadata": {},
   "outputs": [],
   "source": [
    "# df.columns.values\n",
    "# urldata.shape"
   ]
  },
  {
   "cell_type": "markdown",
   "id": "aa0a837d-63e3-40cf-afc9-9593072d34e4",
   "metadata": {},
   "source": [
    "### Feature extraction"
   ]
  },
  {
   "cell_type": "code",
   "execution_count": null,
   "id": "3cd8d0e0-af10-42b5-9bd9-bced95415a22",
   "metadata": {},
   "outputs": [],
   "source": [
    "from utils import extract_features"
   ]
  },
  {
   "cell_type": "code",
   "execution_count": null,
   "id": "155e525e-f2fc-49d2-8be2-3b64ea9b67b4",
   "metadata": {},
   "outputs": [],
   "source": [
    "# Example usage:\n",
    "url = \"http://www.example.com/path/to/==file.html\"\n",
    "url_features = extract_features(url)\n",
    "print(url_features)"
   ]
  },
  {
   "cell_type": "code",
   "execution_count": null,
   "id": "2377259d-5b19-4f0f-8758-96b1b330d117",
   "metadata": {},
   "outputs": [],
   "source": [
    "# print(url_features.keys())"
   ]
  },
  {
   "cell_type": "code",
   "execution_count": null,
   "id": "66cae4c3-a178-435c-9830-a4f5fd8fdc06",
   "metadata": {},
   "outputs": [],
   "source": [
    "phish_url = []\n",
    "for link in list(smalldata.iloc[:,0]):\n",
    "    url_features = extract_features(link)\n",
    "    phish_url.append(list(url_features.values())[1:])"
   ]
  },
  {
   "cell_type": "code",
   "execution_count": null,
   "id": "664a11ec-0a42-4a01-91f2-208aa5796b64",
   "metadata": {
    "tags": []
   },
   "outputs": [],
   "source": [
    "phish_url_df = pd.DataFrame(phish_url, columns = list(url_features.keys())[1:])"
   ]
  },
  {
   "cell_type": "code",
   "execution_count": null,
   "id": "383162e7-d058-471e-b921-d2e983efe066",
   "metadata": {
    "tags": []
   },
   "outputs": [],
   "source": [
    "# phish_url_df.head(2)"
   ]
  },
  {
   "cell_type": "code",
   "execution_count": null,
   "id": "aabba33a-d06a-4a3f-b021-ff8cbde0088c",
   "metadata": {
    "tags": []
   },
   "outputs": [],
   "source": [
    "phish_url_df.iloc[:,5] = pd.Categorical(phish_url_df.iloc[:,5]).codes\n",
    "phish_url_df.iloc[:,8] = pd.Categorical(phish_url_df.iloc[:,8]).codes"
   ]
  },
  {
   "cell_type": "code",
   "execution_count": null,
   "id": "1cc59152-00c2-41ec-acf5-afeae474f39e",
   "metadata": {
    "tags": []
   },
   "outputs": [],
   "source": [
    "phish_url_df.head(2)"
   ]
  },
  {
   "cell_type": "code",
   "execution_count": null,
   "id": "503ed86a-9489-487f-8054-8c0d4653da36",
   "metadata": {
    "tags": []
   },
   "outputs": [],
   "source": [
    "run_ML(phish_url_df, labels, \"PhiUSIILmock\", \"manual\")"
   ]
  },
  {
   "cell_type": "code",
   "execution_count": null,
   "id": "e7deb307-7950-47c0-b15b-8fa869565e48",
   "metadata": {
    "tags": []
   },
   "outputs": [],
   "source": [
    "urldata.shape, phish_url_df.shape"
   ]
  },
  {
   "cell_type": "code",
   "execution_count": null,
   "id": "3a8a657c-ef82-4bd6-9d5e-95eb2eb21e3c",
   "metadata": {},
   "outputs": [],
   "source": []
  }
 ],
 "metadata": {
  "kernelspec": {
   "display_name": "Python 3.9",
   "language": "python",
   "name": "py39"
  },
  "language_info": {
   "codemirror_mode": {
    "name": "ipython",
    "version": 3
   },
   "file_extension": ".py",
   "mimetype": "text/x-python",
   "name": "python",
   "nbconvert_exporter": "python",
   "pygments_lexer": "ipython3",
   "version": "3.9.19"
  }
 },
 "nbformat": 4,
 "nbformat_minor": 5
}
