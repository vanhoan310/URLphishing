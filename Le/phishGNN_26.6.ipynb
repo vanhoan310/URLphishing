{
  "cells": [
    {
      "cell_type": "code",
      "execution_count": null,
      "id": "51996577-859a-466e-a40f-b60f6a51a8d4",
      "metadata": {
        "id": "51996577-859a-466e-a40f-b60f6a51a8d4",
        "tags": []
      },
      "outputs": [],
      "source": [
        "%load_ext autoreload\n",
        "%autoreload 2"
      ]
    },
    {
      "cell_type": "code",
      "execution_count": null,
      "id": "l0urD2M7MIU7",
      "metadata": {
        "colab": {
          "base_uri": "https://localhost:8080/"
        },
        "id": "l0urD2M7MIU7",
        "outputId": "8ed582db-4200-412e-b9b9-6a6b0fa134b5"
      },
      "outputs": [
        {
          "output_type": "stream",
          "name": "stdout",
          "text": [
            "Collecting tldextract\n",
            "  Downloading tldextract-5.1.2-py3-none-any.whl (97 kB)\n",
            "\u001b[?25l     \u001b[90m━━━━━━━━━━━━━━━━━━━━━━━━━━━━━━━━━━━━━━━━\u001b[0m \u001b[32m0.0/97.6 kB\u001b[0m \u001b[31m?\u001b[0m eta \u001b[36m-:--:--\u001b[0m\r\u001b[2K     \u001b[91m━━━━━━━━━━━━━━━━━━━━━━━━━━━━━━━━━━━━━\u001b[0m\u001b[91m╸\u001b[0m\u001b[90m━━\u001b[0m \u001b[32m92.2/97.6 kB\u001b[0m \u001b[31m3.1 MB/s\u001b[0m eta \u001b[36m0:00:01\u001b[0m\r\u001b[2K     \u001b[90m━━━━━━━━━━━━━━━━━━━━━━━━━━━━━━━━━━━━━━━━\u001b[0m \u001b[32m97.6/97.6 kB\u001b[0m \u001b[31m2.3 MB/s\u001b[0m eta \u001b[36m0:00:00\u001b[0m\n",
            "\u001b[?25hRequirement already satisfied: idna in /usr/local/lib/python3.10/dist-packages (from tldextract) (3.7)\n",
            "Requirement already satisfied: requests>=2.1.0 in /usr/local/lib/python3.10/dist-packages (from tldextract) (2.31.0)\n",
            "Collecting requests-file>=1.4 (from tldextract)\n",
            "  Downloading requests_file-2.1.0-py2.py3-none-any.whl (4.2 kB)\n",
            "Requirement already satisfied: filelock>=3.0.8 in /usr/local/lib/python3.10/dist-packages (from tldextract) (3.15.3)\n",
            "Requirement already satisfied: charset-normalizer<4,>=2 in /usr/local/lib/python3.10/dist-packages (from requests>=2.1.0->tldextract) (3.3.2)\n",
            "Requirement already satisfied: urllib3<3,>=1.21.1 in /usr/local/lib/python3.10/dist-packages (from requests>=2.1.0->tldextract) (2.0.7)\n",
            "Requirement already satisfied: certifi>=2017.4.17 in /usr/local/lib/python3.10/dist-packages (from requests>=2.1.0->tldextract) (2024.6.2)\n",
            "Installing collected packages: requests-file, tldextract\n",
            "Successfully installed requests-file-2.1.0 tldextract-5.1.2\n",
            "Requirement already satisfied: xgboost in /usr/local/lib/python3.10/dist-packages (2.0.3)\n",
            "Requirement already satisfied: lightgbm in /usr/local/lib/python3.10/dist-packages (4.1.0)\n",
            "Requirement already satisfied: numpy in /usr/local/lib/python3.10/dist-packages (from xgboost) (1.25.2)\n",
            "Requirement already satisfied: scipy in /usr/local/lib/python3.10/dist-packages (from xgboost) (1.11.4)\n",
            "Collecting torch_geometric\n",
            "  Downloading torch_geometric-2.5.3-py3-none-any.whl (1.1 MB)\n",
            "\u001b[2K     \u001b[90m━━━━━━━━━━━━━━━━━━━━━━━━━━━━━━━━━━━━━━━━\u001b[0m \u001b[32m1.1/1.1 MB\u001b[0m \u001b[31m15.0 MB/s\u001b[0m eta \u001b[36m0:00:00\u001b[0m\n",
            "\u001b[?25hRequirement already satisfied: tqdm in /usr/local/lib/python3.10/dist-packages (from torch_geometric) (4.66.4)\n",
            "Requirement already satisfied: numpy in /usr/local/lib/python3.10/dist-packages (from torch_geometric) (1.25.2)\n",
            "Requirement already satisfied: scipy in /usr/local/lib/python3.10/dist-packages (from torch_geometric) (1.11.4)\n",
            "Requirement already satisfied: fsspec in /usr/local/lib/python3.10/dist-packages (from torch_geometric) (2023.6.0)\n",
            "Requirement already satisfied: jinja2 in /usr/local/lib/python3.10/dist-packages (from torch_geometric) (3.1.4)\n",
            "Requirement already satisfied: aiohttp in /usr/local/lib/python3.10/dist-packages (from torch_geometric) (3.9.5)\n",
            "Requirement already satisfied: requests in /usr/local/lib/python3.10/dist-packages (from torch_geometric) (2.31.0)\n",
            "Requirement already satisfied: pyparsing in /usr/local/lib/python3.10/dist-packages (from torch_geometric) (3.1.2)\n",
            "Requirement already satisfied: scikit-learn in /usr/local/lib/python3.10/dist-packages (from torch_geometric) (1.2.2)\n",
            "Requirement already satisfied: psutil>=5.8.0 in /usr/local/lib/python3.10/dist-packages (from torch_geometric) (5.9.5)\n",
            "Requirement already satisfied: aiosignal>=1.1.2 in /usr/local/lib/python3.10/dist-packages (from aiohttp->torch_geometric) (1.3.1)\n",
            "Requirement already satisfied: attrs>=17.3.0 in /usr/local/lib/python3.10/dist-packages (from aiohttp->torch_geometric) (23.2.0)\n",
            "Requirement already satisfied: frozenlist>=1.1.1 in /usr/local/lib/python3.10/dist-packages (from aiohttp->torch_geometric) (1.4.1)\n",
            "Requirement already satisfied: multidict<7.0,>=4.5 in /usr/local/lib/python3.10/dist-packages (from aiohttp->torch_geometric) (6.0.5)\n",
            "Requirement already satisfied: yarl<2.0,>=1.0 in /usr/local/lib/python3.10/dist-packages (from aiohttp->torch_geometric) (1.9.4)\n",
            "Requirement already satisfied: async-timeout<5.0,>=4.0 in /usr/local/lib/python3.10/dist-packages (from aiohttp->torch_geometric) (4.0.3)\n",
            "Requirement already satisfied: MarkupSafe>=2.0 in /usr/local/lib/python3.10/dist-packages (from jinja2->torch_geometric) (2.1.5)\n",
            "Requirement already satisfied: charset-normalizer<4,>=2 in /usr/local/lib/python3.10/dist-packages (from requests->torch_geometric) (3.3.2)\n",
            "Requirement already satisfied: idna<4,>=2.5 in /usr/local/lib/python3.10/dist-packages (from requests->torch_geometric) (3.7)\n",
            "Requirement already satisfied: urllib3<3,>=1.21.1 in /usr/local/lib/python3.10/dist-packages (from requests->torch_geometric) (2.0.7)\n",
            "Requirement already satisfied: certifi>=2017.4.17 in /usr/local/lib/python3.10/dist-packages (from requests->torch_geometric) (2024.6.2)\n",
            "Requirement already satisfied: joblib>=1.1.1 in /usr/local/lib/python3.10/dist-packages (from scikit-learn->torch_geometric) (1.4.2)\n",
            "Requirement already satisfied: threadpoolctl>=2.0.0 in /usr/local/lib/python3.10/dist-packages (from scikit-learn->torch_geometric) (3.5.0)\n",
            "Installing collected packages: torch_geometric\n",
            "Successfully installed torch_geometric-2.5.3\n"
          ]
        }
      ],
      "source": [
        "!pip install tldextract\n",
        "!pip install xgboost lightgbm\n",
        "!pip install torch_geometric"
      ]
    },
    {
      "cell_type": "code",
      "execution_count": null,
      "id": "27eb25f1-dbc1-4bfc-9deb-da49f7c72c35",
      "metadata": {
        "editable": true,
        "id": "27eb25f1-dbc1-4bfc-9deb-da49f7c72c35",
        "tags": []
      },
      "outputs": [],
      "source": [
        "import numpy as np\n",
        "import pandas as pd\n",
        "from utils import run_ML"
      ]
    },
    {
      "cell_type": "code",
      "execution_count": null,
      "id": "f4b90b7a-8d1a-4472-889c-bc87ef4a9706",
      "metadata": {
        "id": "f4b90b7a-8d1a-4472-889c-bc87ef4a9706",
        "tags": []
      },
      "outputs": [],
      "source": [
        "data_dir = \"URLdatasetX2_1sub5.csv\"\n",
        "df = pd.read_csv(data_dir,index_col=0)\n"
      ]
    },
    {
      "cell_type": "code",
      "execution_count": null,
      "id": "de4c208e-0060-4bd7-81c9-f013a1b0fdec",
      "metadata": {
        "colab": {
          "base_uri": "https://localhost:8080/"
        },
        "id": "de4c208e-0060-4bd7-81c9-f013a1b0fdec",
        "outputId": "c1b2d5cd-83f9-4cd0-ea64-29aaf9b4264f",
        "tags": []
      },
      "outputs": [
        {
          "output_type": "execute_result",
          "data": {
            "text/plain": [
              "((2254, 2),\n",
              "                                           url        type\n",
              " 0       http://www.crestonwood.com/router.php  legitimate\n",
              " 1  http://vamoaestudiarmedicina.blogspot.com/  legitimate)"
            ]
          },
          "metadata": {},
          "execution_count": 47
        }
      ],
      "source": [
        "df.shape, df.head(2)"
      ]
    },
    {
      "cell_type": "code",
      "execution_count": null,
      "id": "8cde64b2-2039-4c86-9c75-dffd2289622e",
      "metadata": {
        "id": "8cde64b2-2039-4c86-9c75-dffd2289622e",
        "tags": []
      },
      "outputs": [],
      "source": [
        "# smalldata = df.sample(n = 20000, random_state=1)\n",
        "#smalldata = df.sample(n = 100, random_state=1) # take random 300 samples\n",
        "smalldata = df\n"
      ]
    },
    {
      "cell_type": "code",
      "execution_count": null,
      "id": "40045bbf-06bf-491e-8363-633d44c31be6",
      "metadata": {
        "colab": {
          "base_uri": "https://localhost:8080/"
        },
        "id": "40045bbf-06bf-491e-8363-633d44c31be6",
        "outputId": "665864d8-8545-430d-bdc7-7f8a2b507013",
        "tags": []
      },
      "outputs": [
        {
          "output_type": "stream",
          "name": "stdout",
          "text": [
            "2135\n",
            "0\n"
          ]
        }
      ],
      "source": [
        "# get labels of urls\n",
        "labels = smalldata.iloc[:,-1].values\n",
        "from sklearn.preprocessing import LabelEncoder\n",
        "label_encoder = LabelEncoder()\n",
        "labels = label_encoder.fit_transform(labels)\n",
        "print(len(labels))\n",
        "print(labels[90])"
      ]
    },
    {
      "cell_type": "markdown",
      "id": "aa0a837d-63e3-40cf-afc9-9593072d34e4",
      "metadata": {
        "id": "aa0a837d-63e3-40cf-afc9-9593072d34e4"
      },
      "source": [
        "### Feature extraction"
      ]
    },
    {
      "cell_type": "code",
      "execution_count": null,
      "id": "3cd8d0e0-af10-42b5-9bd9-bced95415a22",
      "metadata": {
        "id": "3cd8d0e0-af10-42b5-9bd9-bced95415a22",
        "tags": []
      },
      "outputs": [],
      "source": [
        "from utils import extract_features"
      ]
    },
    {
      "cell_type": "code",
      "execution_count": null,
      "id": "36Ss8IItLXra",
      "metadata": {
        "colab": {
          "base_uri": "https://localhost:8080/"
        },
        "id": "36Ss8IItLXra",
        "outputId": "4435e6fe-eb36-4ec4-d177-629532a25ca2"
      },
      "outputs": [
        {
          "output_type": "stream",
          "name": "stdout",
          "text": [
            "Mounted at /content/drive\n"
          ]
        }
      ],
      "source": [
        "from google.colab import drive\n",
        "drive.mount('/content/drive')"
      ]
    },
    {
      "cell_type": "code",
      "execution_count": null,
      "id": "155e525e-f2fc-49d2-8be2-3b64ea9b67b4",
      "metadata": {
        "id": "155e525e-f2fc-49d2-8be2-3b64ea9b67b4",
        "tags": [],
        "outputId": "75ab68d0-8739-4de4-a43f-a416faab9be4",
        "colab": {
          "base_uri": "https://localhost:8080/"
        }
      },
      "outputs": [
        {
          "output_type": "stream",
          "name": "stdout",
          "text": [
            "{'domain': 'app.get24h.net', 'num_subdomains': 2, 'contains_ip': 0, 'path_length': 0, 'num_path_segments': 1, 'uses_https': 0, 'file_extension': '', 'count_special_characters': 5, 'count_non_alphanumeric_characters': 5, 'TLD': 'net', 'count_obfuscated_characters': 0, 'letter_ratio_in_url': 0.6666666666666666, 'digit_ratio_in_url': 0.09523809523809523, 'count_equals_in_url': 0, 'NoOfAmpersandInURL': 0, 'CharContinuationRate': 0.14285714285714285, 'ratio_obfuscated_characters': 0.0, 'NoOfQMarkInURL': 0}\n"
          ]
        }
      ],
      "source": [
        "# Example usage:\n",
        "url = \"http://app.get24h.net\"\n",
        "url_features = extract_features(url)\n",
        "print(url_features)"
      ]
    },
    {
      "cell_type": "code",
      "execution_count": null,
      "id": "66cae4c3-a178-435c-9830-a4f5fd8fdc06",
      "metadata": {
        "id": "66cae4c3-a178-435c-9830-a4f5fd8fdc06",
        "tags": []
      },
      "outputs": [],
      "source": [
        "# get numerical and catergorical features\n",
        "phish_url = []\n",
        "for link in smalldata['url']:\n",
        "    url_features = extract_features(link)\n",
        "    phish_url.append(list(url_features.values())[1:])"
      ]
    },
    {
      "cell_type": "code",
      "execution_count": null,
      "id": "664a11ec-0a42-4a01-91f2-208aa5796b64",
      "metadata": {
        "id": "664a11ec-0a42-4a01-91f2-208aa5796b64",
        "tags": []
      },
      "outputs": [],
      "source": [
        "phish_url_df = pd.DataFrame(phish_url, columns = list(url_features.keys())[1:])"
      ]
    },
    {
      "cell_type": "code",
      "execution_count": null,
      "id": "383162e7-d058-471e-b921-d2e983efe066",
      "metadata": {
        "colab": {
          "base_uri": "https://localhost:8080/",
          "height": 132
        },
        "id": "383162e7-d058-471e-b921-d2e983efe066",
        "outputId": "1a58511c-2eb4-4313-e220-b91d690e03b0",
        "tags": []
      },
      "outputs": [
        {
          "output_type": "execute_result",
          "data": {
            "text/plain": [
              "   num_subdomains  contains_ip  path_length  num_path_segments  uses_https  \\\n",
              "0               2            0           11                  1           0   \n",
              "1               2            0            1                  1           0   \n",
              "\n",
              "  file_extension  count_special_characters  count_non_alphanumeric_characters  \\\n",
              "0            php                         7                                  7   \n",
              "1                                        6                                  6   \n",
              "\n",
              "   TLD  count_obfuscated_characters  letter_ratio_in_url  digit_ratio_in_url  \\\n",
              "0  com                            0             0.810811                 0.0   \n",
              "1  com                            0             0.857143                 0.0   \n",
              "\n",
              "   count_equals_in_url  NoOfAmpersandInURL  CharContinuationRate  \\\n",
              "0                    0                   0              0.135135   \n",
              "1                    0                   0              0.047619   \n",
              "\n",
              "   ratio_obfuscated_characters  NoOfQMarkInURL  \n",
              "0                          0.0               0  \n",
              "1                          0.0               0  "
            ],
            "text/html": [
              "\n",
              "  <div id=\"df-a284bb4a-1845-4523-ad71-f9a0c5a9846e\" class=\"colab-df-container\">\n",
              "    <div>\n",
              "<style scoped>\n",
              "    .dataframe tbody tr th:only-of-type {\n",
              "        vertical-align: middle;\n",
              "    }\n",
              "\n",
              "    .dataframe tbody tr th {\n",
              "        vertical-align: top;\n",
              "    }\n",
              "\n",
              "    .dataframe thead th {\n",
              "        text-align: right;\n",
              "    }\n",
              "</style>\n",
              "<table border=\"1\" class=\"dataframe\">\n",
              "  <thead>\n",
              "    <tr style=\"text-align: right;\">\n",
              "      <th></th>\n",
              "      <th>num_subdomains</th>\n",
              "      <th>contains_ip</th>\n",
              "      <th>path_length</th>\n",
              "      <th>num_path_segments</th>\n",
              "      <th>uses_https</th>\n",
              "      <th>file_extension</th>\n",
              "      <th>count_special_characters</th>\n",
              "      <th>count_non_alphanumeric_characters</th>\n",
              "      <th>TLD</th>\n",
              "      <th>count_obfuscated_characters</th>\n",
              "      <th>letter_ratio_in_url</th>\n",
              "      <th>digit_ratio_in_url</th>\n",
              "      <th>count_equals_in_url</th>\n",
              "      <th>NoOfAmpersandInURL</th>\n",
              "      <th>CharContinuationRate</th>\n",
              "      <th>ratio_obfuscated_characters</th>\n",
              "      <th>NoOfQMarkInURL</th>\n",
              "    </tr>\n",
              "  </thead>\n",
              "  <tbody>\n",
              "    <tr>\n",
              "      <th>0</th>\n",
              "      <td>2</td>\n",
              "      <td>0</td>\n",
              "      <td>11</td>\n",
              "      <td>1</td>\n",
              "      <td>0</td>\n",
              "      <td>php</td>\n",
              "      <td>7</td>\n",
              "      <td>7</td>\n",
              "      <td>com</td>\n",
              "      <td>0</td>\n",
              "      <td>0.810811</td>\n",
              "      <td>0.0</td>\n",
              "      <td>0</td>\n",
              "      <td>0</td>\n",
              "      <td>0.135135</td>\n",
              "      <td>0.0</td>\n",
              "      <td>0</td>\n",
              "    </tr>\n",
              "    <tr>\n",
              "      <th>1</th>\n",
              "      <td>2</td>\n",
              "      <td>0</td>\n",
              "      <td>1</td>\n",
              "      <td>1</td>\n",
              "      <td>0</td>\n",
              "      <td></td>\n",
              "      <td>6</td>\n",
              "      <td>6</td>\n",
              "      <td>com</td>\n",
              "      <td>0</td>\n",
              "      <td>0.857143</td>\n",
              "      <td>0.0</td>\n",
              "      <td>0</td>\n",
              "      <td>0</td>\n",
              "      <td>0.047619</td>\n",
              "      <td>0.0</td>\n",
              "      <td>0</td>\n",
              "    </tr>\n",
              "  </tbody>\n",
              "</table>\n",
              "</div>\n",
              "    <div class=\"colab-df-buttons\">\n",
              "\n",
              "  <div class=\"colab-df-container\">\n",
              "    <button class=\"colab-df-convert\" onclick=\"convertToInteractive('df-a284bb4a-1845-4523-ad71-f9a0c5a9846e')\"\n",
              "            title=\"Convert this dataframe to an interactive table.\"\n",
              "            style=\"display:none;\">\n",
              "\n",
              "  <svg xmlns=\"http://www.w3.org/2000/svg\" height=\"24px\" viewBox=\"0 -960 960 960\">\n",
              "    <path d=\"M120-120v-720h720v720H120Zm60-500h600v-160H180v160Zm220 220h160v-160H400v160Zm0 220h160v-160H400v160ZM180-400h160v-160H180v160Zm440 0h160v-160H620v160ZM180-180h160v-160H180v160Zm440 0h160v-160H620v160Z\"/>\n",
              "  </svg>\n",
              "    </button>\n",
              "\n",
              "  <style>\n",
              "    .colab-df-container {\n",
              "      display:flex;\n",
              "      gap: 12px;\n",
              "    }\n",
              "\n",
              "    .colab-df-convert {\n",
              "      background-color: #E8F0FE;\n",
              "      border: none;\n",
              "      border-radius: 50%;\n",
              "      cursor: pointer;\n",
              "      display: none;\n",
              "      fill: #1967D2;\n",
              "      height: 32px;\n",
              "      padding: 0 0 0 0;\n",
              "      width: 32px;\n",
              "    }\n",
              "\n",
              "    .colab-df-convert:hover {\n",
              "      background-color: #E2EBFA;\n",
              "      box-shadow: 0px 1px 2px rgba(60, 64, 67, 0.3), 0px 1px 3px 1px rgba(60, 64, 67, 0.15);\n",
              "      fill: #174EA6;\n",
              "    }\n",
              "\n",
              "    .colab-df-buttons div {\n",
              "      margin-bottom: 4px;\n",
              "    }\n",
              "\n",
              "    [theme=dark] .colab-df-convert {\n",
              "      background-color: #3B4455;\n",
              "      fill: #D2E3FC;\n",
              "    }\n",
              "\n",
              "    [theme=dark] .colab-df-convert:hover {\n",
              "      background-color: #434B5C;\n",
              "      box-shadow: 0px 1px 3px 1px rgba(0, 0, 0, 0.15);\n",
              "      filter: drop-shadow(0px 1px 2px rgba(0, 0, 0, 0.3));\n",
              "      fill: #FFFFFF;\n",
              "    }\n",
              "  </style>\n",
              "\n",
              "    <script>\n",
              "      const buttonEl =\n",
              "        document.querySelector('#df-a284bb4a-1845-4523-ad71-f9a0c5a9846e button.colab-df-convert');\n",
              "      buttonEl.style.display =\n",
              "        google.colab.kernel.accessAllowed ? 'block' : 'none';\n",
              "\n",
              "      async function convertToInteractive(key) {\n",
              "        const element = document.querySelector('#df-a284bb4a-1845-4523-ad71-f9a0c5a9846e');\n",
              "        const dataTable =\n",
              "          await google.colab.kernel.invokeFunction('convertToInteractive',\n",
              "                                                    [key], {});\n",
              "        if (!dataTable) return;\n",
              "\n",
              "        const docLinkHtml = 'Like what you see? Visit the ' +\n",
              "          '<a target=\"_blank\" href=https://colab.research.google.com/notebooks/data_table.ipynb>data table notebook</a>'\n",
              "          + ' to learn more about interactive tables.';\n",
              "        element.innerHTML = '';\n",
              "        dataTable['output_type'] = 'display_data';\n",
              "        await google.colab.output.renderOutput(dataTable, element);\n",
              "        const docLink = document.createElement('div');\n",
              "        docLink.innerHTML = docLinkHtml;\n",
              "        element.appendChild(docLink);\n",
              "      }\n",
              "    </script>\n",
              "  </div>\n",
              "\n",
              "\n",
              "<div id=\"df-8d125104-65e3-4af3-bd16-849a63cf2647\">\n",
              "  <button class=\"colab-df-quickchart\" onclick=\"quickchart('df-8d125104-65e3-4af3-bd16-849a63cf2647')\"\n",
              "            title=\"Suggest charts\"\n",
              "            style=\"display:none;\">\n",
              "\n",
              "<svg xmlns=\"http://www.w3.org/2000/svg\" height=\"24px\"viewBox=\"0 0 24 24\"\n",
              "     width=\"24px\">\n",
              "    <g>\n",
              "        <path d=\"M19 3H5c-1.1 0-2 .9-2 2v14c0 1.1.9 2 2 2h14c1.1 0 2-.9 2-2V5c0-1.1-.9-2-2-2zM9 17H7v-7h2v7zm4 0h-2V7h2v10zm4 0h-2v-4h2v4z\"/>\n",
              "    </g>\n",
              "</svg>\n",
              "  </button>\n",
              "\n",
              "<style>\n",
              "  .colab-df-quickchart {\n",
              "      --bg-color: #E8F0FE;\n",
              "      --fill-color: #1967D2;\n",
              "      --hover-bg-color: #E2EBFA;\n",
              "      --hover-fill-color: #174EA6;\n",
              "      --disabled-fill-color: #AAA;\n",
              "      --disabled-bg-color: #DDD;\n",
              "  }\n",
              "\n",
              "  [theme=dark] .colab-df-quickchart {\n",
              "      --bg-color: #3B4455;\n",
              "      --fill-color: #D2E3FC;\n",
              "      --hover-bg-color: #434B5C;\n",
              "      --hover-fill-color: #FFFFFF;\n",
              "      --disabled-bg-color: #3B4455;\n",
              "      --disabled-fill-color: #666;\n",
              "  }\n",
              "\n",
              "  .colab-df-quickchart {\n",
              "    background-color: var(--bg-color);\n",
              "    border: none;\n",
              "    border-radius: 50%;\n",
              "    cursor: pointer;\n",
              "    display: none;\n",
              "    fill: var(--fill-color);\n",
              "    height: 32px;\n",
              "    padding: 0;\n",
              "    width: 32px;\n",
              "  }\n",
              "\n",
              "  .colab-df-quickchart:hover {\n",
              "    background-color: var(--hover-bg-color);\n",
              "    box-shadow: 0 1px 2px rgba(60, 64, 67, 0.3), 0 1px 3px 1px rgba(60, 64, 67, 0.15);\n",
              "    fill: var(--button-hover-fill-color);\n",
              "  }\n",
              "\n",
              "  .colab-df-quickchart-complete:disabled,\n",
              "  .colab-df-quickchart-complete:disabled:hover {\n",
              "    background-color: var(--disabled-bg-color);\n",
              "    fill: var(--disabled-fill-color);\n",
              "    box-shadow: none;\n",
              "  }\n",
              "\n",
              "  .colab-df-spinner {\n",
              "    border: 2px solid var(--fill-color);\n",
              "    border-color: transparent;\n",
              "    border-bottom-color: var(--fill-color);\n",
              "    animation:\n",
              "      spin 1s steps(1) infinite;\n",
              "  }\n",
              "\n",
              "  @keyframes spin {\n",
              "    0% {\n",
              "      border-color: transparent;\n",
              "      border-bottom-color: var(--fill-color);\n",
              "      border-left-color: var(--fill-color);\n",
              "    }\n",
              "    20% {\n",
              "      border-color: transparent;\n",
              "      border-left-color: var(--fill-color);\n",
              "      border-top-color: var(--fill-color);\n",
              "    }\n",
              "    30% {\n",
              "      border-color: transparent;\n",
              "      border-left-color: var(--fill-color);\n",
              "      border-top-color: var(--fill-color);\n",
              "      border-right-color: var(--fill-color);\n",
              "    }\n",
              "    40% {\n",
              "      border-color: transparent;\n",
              "      border-right-color: var(--fill-color);\n",
              "      border-top-color: var(--fill-color);\n",
              "    }\n",
              "    60% {\n",
              "      border-color: transparent;\n",
              "      border-right-color: var(--fill-color);\n",
              "    }\n",
              "    80% {\n",
              "      border-color: transparent;\n",
              "      border-right-color: var(--fill-color);\n",
              "      border-bottom-color: var(--fill-color);\n",
              "    }\n",
              "    90% {\n",
              "      border-color: transparent;\n",
              "      border-bottom-color: var(--fill-color);\n",
              "    }\n",
              "  }\n",
              "</style>\n",
              "\n",
              "  <script>\n",
              "    async function quickchart(key) {\n",
              "      const quickchartButtonEl =\n",
              "        document.querySelector('#' + key + ' button');\n",
              "      quickchartButtonEl.disabled = true;  // To prevent multiple clicks.\n",
              "      quickchartButtonEl.classList.add('colab-df-spinner');\n",
              "      try {\n",
              "        const charts = await google.colab.kernel.invokeFunction(\n",
              "            'suggestCharts', [key], {});\n",
              "      } catch (error) {\n",
              "        console.error('Error during call to suggestCharts:', error);\n",
              "      }\n",
              "      quickchartButtonEl.classList.remove('colab-df-spinner');\n",
              "      quickchartButtonEl.classList.add('colab-df-quickchart-complete');\n",
              "    }\n",
              "    (() => {\n",
              "      let quickchartButtonEl =\n",
              "        document.querySelector('#df-8d125104-65e3-4af3-bd16-849a63cf2647 button');\n",
              "      quickchartButtonEl.style.display =\n",
              "        google.colab.kernel.accessAllowed ? 'block' : 'none';\n",
              "    })();\n",
              "  </script>\n",
              "</div>\n",
              "\n",
              "    </div>\n",
              "  </div>\n"
            ],
            "application/vnd.google.colaboratory.intrinsic+json": {
              "type": "dataframe",
              "variable_name": "phish_url_df",
              "summary": "{\n  \"name\": \"phish_url_df\",\n  \"rows\": 2254,\n  \"fields\": [\n    {\n      \"column\": \"num_subdomains\",\n      \"properties\": {\n        \"dtype\": \"number\",\n        \"std\": 0,\n        \"min\": 1,\n        \"max\": 4,\n        \"num_unique_values\": 4,\n        \"samples\": [\n          1,\n          4,\n          2\n        ],\n        \"semantic_type\": \"\",\n        \"description\": \"\"\n      }\n    },\n    {\n      \"column\": \"contains_ip\",\n      \"properties\": {\n        \"dtype\": \"number\",\n        \"std\": 0,\n        \"min\": 0,\n        \"max\": 1,\n        \"num_unique_values\": 2,\n        \"samples\": [\n          1,\n          0\n        ],\n        \"semantic_type\": \"\",\n        \"description\": \"\"\n      }\n    },\n    {\n      \"column\": \"path_length\",\n      \"properties\": {\n        \"dtype\": \"number\",\n        \"std\": 21,\n        \"min\": 0,\n        \"max\": 176,\n        \"num_unique_values\": 104,\n        \"samples\": [\n          32,\n          2\n        ],\n        \"semantic_type\": \"\",\n        \"description\": \"\"\n      }\n    },\n    {\n      \"column\": \"num_path_segments\",\n      \"properties\": {\n        \"dtype\": \"number\",\n        \"std\": 1,\n        \"min\": 1,\n        \"max\": 10,\n        \"num_unique_values\": 10,\n        \"samples\": [\n          8,\n          2\n        ],\n        \"semantic_type\": \"\",\n        \"description\": \"\"\n      }\n    },\n    {\n      \"column\": \"uses_https\",\n      \"properties\": {\n        \"dtype\": \"number\",\n        \"std\": 0,\n        \"min\": 0,\n        \"max\": 1,\n        \"num_unique_values\": 2,\n        \"samples\": [\n          1,\n          0\n        ],\n        \"semantic_type\": \"\",\n        \"description\": \"\"\n      }\n    },\n    {\n      \"column\": \"file_extension\",\n      \"properties\": {\n        \"dtype\": \"category\",\n        \"num_unique_values\": 40,\n        \"samples\": [\n          \"ch/a7759c7e6734e26f4b78cf6526eb95cf/\",\n          \"8109/\"\n        ],\n        \"semantic_type\": \"\",\n        \"description\": \"\"\n      }\n    },\n    {\n      \"column\": \"count_special_characters\",\n      \"properties\": {\n        \"dtype\": \"number\",\n        \"std\": 4,\n        \"min\": 4,\n        \"max\": 68,\n        \"num_unique_values\": 29,\n        \"samples\": [\n          33,\n          68\n        ],\n        \"semantic_type\": \"\",\n        \"description\": \"\"\n      }\n    },\n    {\n      \"column\": \"count_non_alphanumeric_characters\",\n      \"properties\": {\n        \"dtype\": \"number\",\n        \"std\": 4,\n        \"min\": 4,\n        \"max\": 68,\n        \"num_unique_values\": 29,\n        \"samples\": [\n          33,\n          68\n        ],\n        \"semantic_type\": \"\",\n        \"description\": \"\"\n      }\n    },\n    {\n      \"column\": \"TLD\",\n      \"properties\": {\n        \"dtype\": \"category\",\n        \"num_unique_values\": 153,\n        \"samples\": [\n          \"int\",\n          \"co.za\"\n        ],\n        \"semantic_type\": \"\",\n        \"description\": \"\"\n      }\n    },\n    {\n      \"column\": \"count_obfuscated_characters\",\n      \"properties\": {\n        \"dtype\": \"number\",\n        \"std\": 0,\n        \"min\": 0,\n        \"max\": 23,\n        \"num_unique_values\": 11,\n        \"samples\": [\n          1,\n          0\n        ],\n        \"semantic_type\": \"\",\n        \"description\": \"\"\n      }\n    },\n    {\n      \"column\": \"letter_ratio_in_url\",\n      \"properties\": {\n        \"dtype\": \"number\",\n        \"std\": 0.062171072397858185,\n        \"min\": 0.2,\n        \"max\": 0.9126984126984127,\n        \"num_unique_values\": 441,\n        \"samples\": [\n          0.7666666666666667,\n          0.7327586206896551\n        ],\n        \"semantic_type\": \"\",\n        \"description\": \"\"\n      }\n    },\n    {\n      \"column\": \"digit_ratio_in_url\",\n      \"properties\": {\n        \"dtype\": \"number\",\n        \"std\": 0.055296855186382304,\n        \"min\": 0.0,\n        \"max\": 0.5064935064935064,\n        \"num_unique_values\": 293,\n        \"samples\": [\n          0.007142857142857143,\n          0.05555555555555555\n        ],\n        \"semantic_type\": \"\",\n        \"description\": \"\"\n      }\n    },\n    {\n      \"column\": \"count_equals_in_url\",\n      \"properties\": {\n        \"dtype\": \"number\",\n        \"std\": 0,\n        \"min\": 0,\n        \"max\": 11,\n        \"num_unique_values\": 9,\n        \"samples\": [\n          3,\n          11\n        ],\n        \"semantic_type\": \"\",\n        \"description\": \"\"\n      }\n    },\n    {\n      \"column\": \"NoOfAmpersandInURL\",\n      \"properties\": {\n        \"dtype\": \"number\",\n        \"std\": 0,\n        \"min\": 0,\n        \"max\": 10,\n        \"num_unique_values\": 9,\n        \"samples\": [\n          5,\n          10\n        ],\n        \"semantic_type\": \"\",\n        \"description\": \"\"\n      }\n    },\n    {\n      \"column\": \"CharContinuationRate\",\n      \"properties\": {\n        \"dtype\": \"number\",\n        \"std\": 0.05004167678100384,\n        \"min\": 0.009900990099009901,\n        \"max\": 0.38461538461538464,\n        \"num_unique_values\": 322,\n        \"samples\": [\n          0.04838709677419355,\n          0.0547945205479452\n        ],\n        \"semantic_type\": \"\",\n        \"description\": \"\"\n      }\n    },\n    {\n      \"column\": \"ratio_obfuscated_characters\",\n      \"properties\": {\n        \"dtype\": \"number\",\n        \"std\": 0.006140428976082707,\n        \"min\": 0.0,\n        \"max\": 0.14465408805031446,\n        \"num_unique_values\": 46,\n        \"samples\": [\n          0.026785714285714284,\n          0.05303030303030303\n        ],\n        \"semantic_type\": \"\",\n        \"description\": \"\"\n      }\n    },\n    {\n      \"column\": \"NoOfQMarkInURL\",\n      \"properties\": {\n        \"dtype\": \"number\",\n        \"std\": 0,\n        \"min\": 0,\n        \"max\": 3,\n        \"num_unique_values\": 4,\n        \"samples\": [\n          1,\n          3\n        ],\n        \"semantic_type\": \"\",\n        \"description\": \"\"\n      }\n    }\n  ]\n}"
            }
          },
          "metadata": {},
          "execution_count": 79
        }
      ],
      "source": [
        "phish_url_df.head(2)"
      ]
    },
    {
      "cell_type": "code",
      "execution_count": null,
      "id": "aabba33a-d06a-4a3f-b021-ff8cbde0088c",
      "metadata": {
        "id": "aabba33a-d06a-4a3f-b021-ff8cbde0088c",
        "tags": []
      },
      "outputs": [],
      "source": [
        "phish_url_df.iloc[:,5] = pd.Categorical(phish_url_df.iloc[:,5]).codes\n",
        "phish_url_df.iloc[:,8] = pd.Categorical(phish_url_df.iloc[:,8]).codes"
      ]
    },
    {
      "cell_type": "code",
      "execution_count": null,
      "id": "1cc59152-00c2-41ec-acf5-afeae474f39e",
      "metadata": {
        "colab": {
          "base_uri": "https://localhost:8080/",
          "height": 132
        },
        "id": "1cc59152-00c2-41ec-acf5-afeae474f39e",
        "outputId": "2fd501e2-9650-420a-c822-7a3f5a06e2e1",
        "tags": []
      },
      "outputs": [
        {
          "output_type": "execute_result",
          "data": {
            "text/plain": [
              "   num_subdomains  contains_ip  path_length  num_path_segments  uses_https  \\\n",
              "0               2            0           11                  1           0   \n",
              "1               2            0            1                  1           0   \n",
              "\n",
              "  file_extension  count_special_characters  count_non_alphanumeric_characters  \\\n",
              "0             34                         7                                  7   \n",
              "1              0                         6                                  6   \n",
              "\n",
              "  TLD  count_obfuscated_characters  letter_ratio_in_url  digit_ratio_in_url  \\\n",
              "0  33                            0             0.810811                 0.0   \n",
              "1  33                            0             0.857143                 0.0   \n",
              "\n",
              "   count_equals_in_url  NoOfAmpersandInURL  CharContinuationRate  \\\n",
              "0                    0                   0              0.135135   \n",
              "1                    0                   0              0.047619   \n",
              "\n",
              "   ratio_obfuscated_characters  NoOfQMarkInURL  \n",
              "0                          0.0               0  \n",
              "1                          0.0               0  "
            ],
            "text/html": [
              "\n",
              "  <div id=\"df-73069e19-e23c-469c-b1d7-5f6401b947c3\" class=\"colab-df-container\">\n",
              "    <div>\n",
              "<style scoped>\n",
              "    .dataframe tbody tr th:only-of-type {\n",
              "        vertical-align: middle;\n",
              "    }\n",
              "\n",
              "    .dataframe tbody tr th {\n",
              "        vertical-align: top;\n",
              "    }\n",
              "\n",
              "    .dataframe thead th {\n",
              "        text-align: right;\n",
              "    }\n",
              "</style>\n",
              "<table border=\"1\" class=\"dataframe\">\n",
              "  <thead>\n",
              "    <tr style=\"text-align: right;\">\n",
              "      <th></th>\n",
              "      <th>num_subdomains</th>\n",
              "      <th>contains_ip</th>\n",
              "      <th>path_length</th>\n",
              "      <th>num_path_segments</th>\n",
              "      <th>uses_https</th>\n",
              "      <th>file_extension</th>\n",
              "      <th>count_special_characters</th>\n",
              "      <th>count_non_alphanumeric_characters</th>\n",
              "      <th>TLD</th>\n",
              "      <th>count_obfuscated_characters</th>\n",
              "      <th>letter_ratio_in_url</th>\n",
              "      <th>digit_ratio_in_url</th>\n",
              "      <th>count_equals_in_url</th>\n",
              "      <th>NoOfAmpersandInURL</th>\n",
              "      <th>CharContinuationRate</th>\n",
              "      <th>ratio_obfuscated_characters</th>\n",
              "      <th>NoOfQMarkInURL</th>\n",
              "    </tr>\n",
              "  </thead>\n",
              "  <tbody>\n",
              "    <tr>\n",
              "      <th>0</th>\n",
              "      <td>2</td>\n",
              "      <td>0</td>\n",
              "      <td>11</td>\n",
              "      <td>1</td>\n",
              "      <td>0</td>\n",
              "      <td>34</td>\n",
              "      <td>7</td>\n",
              "      <td>7</td>\n",
              "      <td>33</td>\n",
              "      <td>0</td>\n",
              "      <td>0.810811</td>\n",
              "      <td>0.0</td>\n",
              "      <td>0</td>\n",
              "      <td>0</td>\n",
              "      <td>0.135135</td>\n",
              "      <td>0.0</td>\n",
              "      <td>0</td>\n",
              "    </tr>\n",
              "    <tr>\n",
              "      <th>1</th>\n",
              "      <td>2</td>\n",
              "      <td>0</td>\n",
              "      <td>1</td>\n",
              "      <td>1</td>\n",
              "      <td>0</td>\n",
              "      <td>0</td>\n",
              "      <td>6</td>\n",
              "      <td>6</td>\n",
              "      <td>33</td>\n",
              "      <td>0</td>\n",
              "      <td>0.857143</td>\n",
              "      <td>0.0</td>\n",
              "      <td>0</td>\n",
              "      <td>0</td>\n",
              "      <td>0.047619</td>\n",
              "      <td>0.0</td>\n",
              "      <td>0</td>\n",
              "    </tr>\n",
              "  </tbody>\n",
              "</table>\n",
              "</div>\n",
              "    <div class=\"colab-df-buttons\">\n",
              "\n",
              "  <div class=\"colab-df-container\">\n",
              "    <button class=\"colab-df-convert\" onclick=\"convertToInteractive('df-73069e19-e23c-469c-b1d7-5f6401b947c3')\"\n",
              "            title=\"Convert this dataframe to an interactive table.\"\n",
              "            style=\"display:none;\">\n",
              "\n",
              "  <svg xmlns=\"http://www.w3.org/2000/svg\" height=\"24px\" viewBox=\"0 -960 960 960\">\n",
              "    <path d=\"M120-120v-720h720v720H120Zm60-500h600v-160H180v160Zm220 220h160v-160H400v160Zm0 220h160v-160H400v160ZM180-400h160v-160H180v160Zm440 0h160v-160H620v160ZM180-180h160v-160H180v160Zm440 0h160v-160H620v160Z\"/>\n",
              "  </svg>\n",
              "    </button>\n",
              "\n",
              "  <style>\n",
              "    .colab-df-container {\n",
              "      display:flex;\n",
              "      gap: 12px;\n",
              "    }\n",
              "\n",
              "    .colab-df-convert {\n",
              "      background-color: #E8F0FE;\n",
              "      border: none;\n",
              "      border-radius: 50%;\n",
              "      cursor: pointer;\n",
              "      display: none;\n",
              "      fill: #1967D2;\n",
              "      height: 32px;\n",
              "      padding: 0 0 0 0;\n",
              "      width: 32px;\n",
              "    }\n",
              "\n",
              "    .colab-df-convert:hover {\n",
              "      background-color: #E2EBFA;\n",
              "      box-shadow: 0px 1px 2px rgba(60, 64, 67, 0.3), 0px 1px 3px 1px rgba(60, 64, 67, 0.15);\n",
              "      fill: #174EA6;\n",
              "    }\n",
              "\n",
              "    .colab-df-buttons div {\n",
              "      margin-bottom: 4px;\n",
              "    }\n",
              "\n",
              "    [theme=dark] .colab-df-convert {\n",
              "      background-color: #3B4455;\n",
              "      fill: #D2E3FC;\n",
              "    }\n",
              "\n",
              "    [theme=dark] .colab-df-convert:hover {\n",
              "      background-color: #434B5C;\n",
              "      box-shadow: 0px 1px 3px 1px rgba(0, 0, 0, 0.15);\n",
              "      filter: drop-shadow(0px 1px 2px rgba(0, 0, 0, 0.3));\n",
              "      fill: #FFFFFF;\n",
              "    }\n",
              "  </style>\n",
              "\n",
              "    <script>\n",
              "      const buttonEl =\n",
              "        document.querySelector('#df-73069e19-e23c-469c-b1d7-5f6401b947c3 button.colab-df-convert');\n",
              "      buttonEl.style.display =\n",
              "        google.colab.kernel.accessAllowed ? 'block' : 'none';\n",
              "\n",
              "      async function convertToInteractive(key) {\n",
              "        const element = document.querySelector('#df-73069e19-e23c-469c-b1d7-5f6401b947c3');\n",
              "        const dataTable =\n",
              "          await google.colab.kernel.invokeFunction('convertToInteractive',\n",
              "                                                    [key], {});\n",
              "        if (!dataTable) return;\n",
              "\n",
              "        const docLinkHtml = 'Like what you see? Visit the ' +\n",
              "          '<a target=\"_blank\" href=https://colab.research.google.com/notebooks/data_table.ipynb>data table notebook</a>'\n",
              "          + ' to learn more about interactive tables.';\n",
              "        element.innerHTML = '';\n",
              "        dataTable['output_type'] = 'display_data';\n",
              "        await google.colab.output.renderOutput(dataTable, element);\n",
              "        const docLink = document.createElement('div');\n",
              "        docLink.innerHTML = docLinkHtml;\n",
              "        element.appendChild(docLink);\n",
              "      }\n",
              "    </script>\n",
              "  </div>\n",
              "\n",
              "\n",
              "<div id=\"df-84360839-bb98-4f39-8840-d5fb914a1f8b\">\n",
              "  <button class=\"colab-df-quickchart\" onclick=\"quickchart('df-84360839-bb98-4f39-8840-d5fb914a1f8b')\"\n",
              "            title=\"Suggest charts\"\n",
              "            style=\"display:none;\">\n",
              "\n",
              "<svg xmlns=\"http://www.w3.org/2000/svg\" height=\"24px\"viewBox=\"0 0 24 24\"\n",
              "     width=\"24px\">\n",
              "    <g>\n",
              "        <path d=\"M19 3H5c-1.1 0-2 .9-2 2v14c0 1.1.9 2 2 2h14c1.1 0 2-.9 2-2V5c0-1.1-.9-2-2-2zM9 17H7v-7h2v7zm4 0h-2V7h2v10zm4 0h-2v-4h2v4z\"/>\n",
              "    </g>\n",
              "</svg>\n",
              "  </button>\n",
              "\n",
              "<style>\n",
              "  .colab-df-quickchart {\n",
              "      --bg-color: #E8F0FE;\n",
              "      --fill-color: #1967D2;\n",
              "      --hover-bg-color: #E2EBFA;\n",
              "      --hover-fill-color: #174EA6;\n",
              "      --disabled-fill-color: #AAA;\n",
              "      --disabled-bg-color: #DDD;\n",
              "  }\n",
              "\n",
              "  [theme=dark] .colab-df-quickchart {\n",
              "      --bg-color: #3B4455;\n",
              "      --fill-color: #D2E3FC;\n",
              "      --hover-bg-color: #434B5C;\n",
              "      --hover-fill-color: #FFFFFF;\n",
              "      --disabled-bg-color: #3B4455;\n",
              "      --disabled-fill-color: #666;\n",
              "  }\n",
              "\n",
              "  .colab-df-quickchart {\n",
              "    background-color: var(--bg-color);\n",
              "    border: none;\n",
              "    border-radius: 50%;\n",
              "    cursor: pointer;\n",
              "    display: none;\n",
              "    fill: var(--fill-color);\n",
              "    height: 32px;\n",
              "    padding: 0;\n",
              "    width: 32px;\n",
              "  }\n",
              "\n",
              "  .colab-df-quickchart:hover {\n",
              "    background-color: var(--hover-bg-color);\n",
              "    box-shadow: 0 1px 2px rgba(60, 64, 67, 0.3), 0 1px 3px 1px rgba(60, 64, 67, 0.15);\n",
              "    fill: var(--button-hover-fill-color);\n",
              "  }\n",
              "\n",
              "  .colab-df-quickchart-complete:disabled,\n",
              "  .colab-df-quickchart-complete:disabled:hover {\n",
              "    background-color: var(--disabled-bg-color);\n",
              "    fill: var(--disabled-fill-color);\n",
              "    box-shadow: none;\n",
              "  }\n",
              "\n",
              "  .colab-df-spinner {\n",
              "    border: 2px solid var(--fill-color);\n",
              "    border-color: transparent;\n",
              "    border-bottom-color: var(--fill-color);\n",
              "    animation:\n",
              "      spin 1s steps(1) infinite;\n",
              "  }\n",
              "\n",
              "  @keyframes spin {\n",
              "    0% {\n",
              "      border-color: transparent;\n",
              "      border-bottom-color: var(--fill-color);\n",
              "      border-left-color: var(--fill-color);\n",
              "    }\n",
              "    20% {\n",
              "      border-color: transparent;\n",
              "      border-left-color: var(--fill-color);\n",
              "      border-top-color: var(--fill-color);\n",
              "    }\n",
              "    30% {\n",
              "      border-color: transparent;\n",
              "      border-left-color: var(--fill-color);\n",
              "      border-top-color: var(--fill-color);\n",
              "      border-right-color: var(--fill-color);\n",
              "    }\n",
              "    40% {\n",
              "      border-color: transparent;\n",
              "      border-right-color: var(--fill-color);\n",
              "      border-top-color: var(--fill-color);\n",
              "    }\n",
              "    60% {\n",
              "      border-color: transparent;\n",
              "      border-right-color: var(--fill-color);\n",
              "    }\n",
              "    80% {\n",
              "      border-color: transparent;\n",
              "      border-right-color: var(--fill-color);\n",
              "      border-bottom-color: var(--fill-color);\n",
              "    }\n",
              "    90% {\n",
              "      border-color: transparent;\n",
              "      border-bottom-color: var(--fill-color);\n",
              "    }\n",
              "  }\n",
              "</style>\n",
              "\n",
              "  <script>\n",
              "    async function quickchart(key) {\n",
              "      const quickchartButtonEl =\n",
              "        document.querySelector('#' + key + ' button');\n",
              "      quickchartButtonEl.disabled = true;  // To prevent multiple clicks.\n",
              "      quickchartButtonEl.classList.add('colab-df-spinner');\n",
              "      try {\n",
              "        const charts = await google.colab.kernel.invokeFunction(\n",
              "            'suggestCharts', [key], {});\n",
              "      } catch (error) {\n",
              "        console.error('Error during call to suggestCharts:', error);\n",
              "      }\n",
              "      quickchartButtonEl.classList.remove('colab-df-spinner');\n",
              "      quickchartButtonEl.classList.add('colab-df-quickchart-complete');\n",
              "    }\n",
              "    (() => {\n",
              "      let quickchartButtonEl =\n",
              "        document.querySelector('#df-84360839-bb98-4f39-8840-d5fb914a1f8b button');\n",
              "      quickchartButtonEl.style.display =\n",
              "        google.colab.kernel.accessAllowed ? 'block' : 'none';\n",
              "    })();\n",
              "  </script>\n",
              "</div>\n",
              "\n",
              "    </div>\n",
              "  </div>\n"
            ],
            "application/vnd.google.colaboratory.intrinsic+json": {
              "type": "dataframe",
              "variable_name": "phish_url_df",
              "summary": "{\n  \"name\": \"phish_url_df\",\n  \"rows\": 2254,\n  \"fields\": [\n    {\n      \"column\": \"num_subdomains\",\n      \"properties\": {\n        \"dtype\": \"number\",\n        \"std\": 0,\n        \"min\": 1,\n        \"max\": 4,\n        \"num_unique_values\": 4,\n        \"samples\": [\n          1,\n          4,\n          2\n        ],\n        \"semantic_type\": \"\",\n        \"description\": \"\"\n      }\n    },\n    {\n      \"column\": \"contains_ip\",\n      \"properties\": {\n        \"dtype\": \"number\",\n        \"std\": 0,\n        \"min\": 0,\n        \"max\": 1,\n        \"num_unique_values\": 2,\n        \"samples\": [\n          1,\n          0\n        ],\n        \"semantic_type\": \"\",\n        \"description\": \"\"\n      }\n    },\n    {\n      \"column\": \"path_length\",\n      \"properties\": {\n        \"dtype\": \"number\",\n        \"std\": 21,\n        \"min\": 0,\n        \"max\": 176,\n        \"num_unique_values\": 104,\n        \"samples\": [\n          32,\n          2\n        ],\n        \"semantic_type\": \"\",\n        \"description\": \"\"\n      }\n    },\n    {\n      \"column\": \"num_path_segments\",\n      \"properties\": {\n        \"dtype\": \"number\",\n        \"std\": 1,\n        \"min\": 1,\n        \"max\": 10,\n        \"num_unique_values\": 10,\n        \"samples\": [\n          8,\n          2\n        ],\n        \"semantic_type\": \"\",\n        \"description\": \"\"\n      }\n    },\n    {\n      \"column\": \"uses_https\",\n      \"properties\": {\n        \"dtype\": \"number\",\n        \"std\": 0,\n        \"min\": 0,\n        \"max\": 1,\n        \"num_unique_values\": 2,\n        \"samples\": [\n          1,\n          0\n        ],\n        \"semantic_type\": \"\",\n        \"description\": \"\"\n      }\n    },\n    {\n      \"column\": \"file_extension\",\n      \"properties\": {\n        \"dtype\": \"date\",\n        \"min\": 0,\n        \"max\": 39,\n        \"num_unique_values\": 40,\n        \"samples\": [\n          16,\n          8\n        ],\n        \"semantic_type\": \"\",\n        \"description\": \"\"\n      }\n    },\n    {\n      \"column\": \"count_special_characters\",\n      \"properties\": {\n        \"dtype\": \"number\",\n        \"std\": 4,\n        \"min\": 4,\n        \"max\": 68,\n        \"num_unique_values\": 29,\n        \"samples\": [\n          33,\n          68\n        ],\n        \"semantic_type\": \"\",\n        \"description\": \"\"\n      }\n    },\n    {\n      \"column\": \"count_non_alphanumeric_characters\",\n      \"properties\": {\n        \"dtype\": \"number\",\n        \"std\": 4,\n        \"min\": 4,\n        \"max\": 68,\n        \"num_unique_values\": 29,\n        \"samples\": [\n          33,\n          68\n        ],\n        \"semantic_type\": \"\",\n        \"description\": \"\"\n      }\n    },\n    {\n      \"column\": \"TLD\",\n      \"properties\": {\n        \"dtype\": \"date\",\n        \"min\": 0,\n        \"max\": 152,\n        \"num_unique_values\": 153,\n        \"samples\": [\n          86,\n          32\n        ],\n        \"semantic_type\": \"\",\n        \"description\": \"\"\n      }\n    },\n    {\n      \"column\": \"count_obfuscated_characters\",\n      \"properties\": {\n        \"dtype\": \"number\",\n        \"std\": 0,\n        \"min\": 0,\n        \"max\": 23,\n        \"num_unique_values\": 11,\n        \"samples\": [\n          1,\n          0\n        ],\n        \"semantic_type\": \"\",\n        \"description\": \"\"\n      }\n    },\n    {\n      \"column\": \"letter_ratio_in_url\",\n      \"properties\": {\n        \"dtype\": \"number\",\n        \"std\": 0.062171072397858185,\n        \"min\": 0.2,\n        \"max\": 0.9126984126984127,\n        \"num_unique_values\": 441,\n        \"samples\": [\n          0.7666666666666667,\n          0.7327586206896551\n        ],\n        \"semantic_type\": \"\",\n        \"description\": \"\"\n      }\n    },\n    {\n      \"column\": \"digit_ratio_in_url\",\n      \"properties\": {\n        \"dtype\": \"number\",\n        \"std\": 0.055296855186382304,\n        \"min\": 0.0,\n        \"max\": 0.5064935064935064,\n        \"num_unique_values\": 293,\n        \"samples\": [\n          0.007142857142857143,\n          0.05555555555555555\n        ],\n        \"semantic_type\": \"\",\n        \"description\": \"\"\n      }\n    },\n    {\n      \"column\": \"count_equals_in_url\",\n      \"properties\": {\n        \"dtype\": \"number\",\n        \"std\": 0,\n        \"min\": 0,\n        \"max\": 11,\n        \"num_unique_values\": 9,\n        \"samples\": [\n          3,\n          11\n        ],\n        \"semantic_type\": \"\",\n        \"description\": \"\"\n      }\n    },\n    {\n      \"column\": \"NoOfAmpersandInURL\",\n      \"properties\": {\n        \"dtype\": \"number\",\n        \"std\": 0,\n        \"min\": 0,\n        \"max\": 10,\n        \"num_unique_values\": 9,\n        \"samples\": [\n          5,\n          10\n        ],\n        \"semantic_type\": \"\",\n        \"description\": \"\"\n      }\n    },\n    {\n      \"column\": \"CharContinuationRate\",\n      \"properties\": {\n        \"dtype\": \"number\",\n        \"std\": 0.05004167678100384,\n        \"min\": 0.009900990099009901,\n        \"max\": 0.38461538461538464,\n        \"num_unique_values\": 322,\n        \"samples\": [\n          0.04838709677419355,\n          0.0547945205479452\n        ],\n        \"semantic_type\": \"\",\n        \"description\": \"\"\n      }\n    },\n    {\n      \"column\": \"ratio_obfuscated_characters\",\n      \"properties\": {\n        \"dtype\": \"number\",\n        \"std\": 0.006140428976082707,\n        \"min\": 0.0,\n        \"max\": 0.14465408805031446,\n        \"num_unique_values\": 46,\n        \"samples\": [\n          0.026785714285714284,\n          0.05303030303030303\n        ],\n        \"semantic_type\": \"\",\n        \"description\": \"\"\n      }\n    },\n    {\n      \"column\": \"NoOfQMarkInURL\",\n      \"properties\": {\n        \"dtype\": \"number\",\n        \"std\": 0,\n        \"min\": 0,\n        \"max\": 3,\n        \"num_unique_values\": 4,\n        \"samples\": [\n          1,\n          3\n        ],\n        \"semantic_type\": \"\",\n        \"description\": \"\"\n      }\n    }\n  ]\n}"
            }
          },
          "metadata": {},
          "execution_count": 81
        }
      ],
      "source": [
        "phish_url_df.head(2)"
      ]
    },
    {
      "cell_type": "code",
      "execution_count": null,
      "id": "503ed86a-9489-487f-8054-8c0d4653da36",
      "metadata": {
        "colab": {
          "base_uri": "https://localhost:8080/"
        },
        "id": "503ed86a-9489-487f-8054-8c0d4653da36",
        "outputId": "5fbc1dc5-0d5d-4ed4-dbcb-064cb2b4bb2f",
        "tags": []
      },
      "outputs": [
        {
          "output_type": "stream",
          "name": "stdout",
          "text": [
            "Run:  0 , fold:  0\n",
            "Train freq:  [1623, 180]\n",
            "LightGBM, Run:  0 , fold:  1\n",
            "Train freq:  [1623, 180]\n",
            "LightGBM, Run:  0 , fold:  2\n",
            "Train freq:  [1623, 180]\n",
            "LightGBM, Run:  0 , fold:  3\n",
            "Train freq:  [1623, 180]\n",
            "LightGBM, Run:  0 , fold:  4\n",
            "Train freq:  [1624, 180]\n",
            "LightGBM, ['LightGBM']\n",
            "[0.78]\n"
          ]
        }
      ],
      "source": [
        "# test on URLs features\n",
        "run_ML(phish_url_df, labels, \"URLdatasetX2_1sub10\", \"manual\")"
      ]
    },
    {
      "cell_type": "code",
      "execution_count": null,
      "id": "32a1c51d-a596-43bf-a2db-0385d1f82953",
      "metadata": {
        "id": "32a1c51d-a596-43bf-a2db-0385d1f82953",
        "tags": []
      },
      "outputs": [],
      "source": [
        "## test on numerical URLs features\n",
        "from utils import extract_numerical_features\n",
        "phish_url = []\n",
        "for link in smalldata['url']:\n",
        "    url_features = extract_numerical_features(link)\n",
        "    phish_url.append(list(url_features.values()))\n",
        "#run_ML(np.array(phish_url), labels, \"malicious_phish\", \"manual_numerical\")"
      ]
    },
    {
      "cell_type": "markdown",
      "id": "0197c624-004a-4488-b964-6614d4d87d30",
      "metadata": {
        "id": "0197c624-004a-4488-b964-6614d4d87d30",
        "tags": []
      },
      "source": [
        "### Extract graph features"
      ]
    },
    {
      "cell_type": "code",
      "execution_count": null,
      "id": "41e1310b-4dbf-4d02-9bff-bd239f122c99",
      "metadata": {
        "id": "41e1310b-4dbf-4d02-9bff-bd239f122c99",
        "tags": []
      },
      "outputs": [],
      "source": [
        "import requests\n",
        "from bs4 import BeautifulSoup\n",
        "#from requests.exceptions import ConnectionError\n",
        "from requests.exceptions import ConnectionError, Timeout, RequestException"
      ]
    },
    {
      "cell_type": "markdown",
      "source": [],
      "metadata": {
        "id": "mNnHqkBnZhHQ"
      },
      "id": "mNnHqkBnZhHQ"
    },
    {
      "cell_type": "code",
      "execution_count": null,
      "id": "915bbff4-e3dd-41c1-ab35-521e6157ab38",
      "metadata": {
        "id": "915bbff4-e3dd-41c1-ab35-521e6157ab38",
        "tags": []
      },
      "outputs": [],
      "source": [
        "from bs4 import BeautifulSoup\n",
        "import requests\n",
        "import numpy as np\n",
        "\n",
        "# return root and hyperlinks features\n",
        "def get_graph_features(idx):\n",
        "    url = smalldata.iloc[idx, 0]\n",
        "    root_feature = extract_numerical_features(url)  # dict\n",
        "    hyperlink_data = [list(root_feature.values())]\n",
        "    try:\n",
        "        # find all hyperlinks\n",
        "        reqs = requests.get(url, timeout=10)\n",
        "        reqs.encoding = 'utf-8'  # Change encoding here if needed\n",
        "        try:\n",
        "            soup = BeautifulSoup(reqs.text, 'html.parser')\n",
        "        except Exception:\n",
        "            try:\n",
        "                soup = BeautifulSoup(reqs.text, 'lxml')\n",
        "            except Exception:\n",
        "                try:\n",
        "                    soup = BeautifulSoup(reqs.text, 'html5lib')\n",
        "                except Exception:\n",
        "                    # If all parsers fail, return empty hyperlink data\n",
        "                    hyperlink_data.append(list(np.zeros(15)))\n",
        "                    return (idx, hyperlink_data)\n",
        "\n",
        "        urls = []\n",
        "        count = 0\n",
        "        for link in soup.find_all('a'):\n",
        "            weblink = link.get('href')\n",
        "            if (weblink is not None) and ('http' in weblink):\n",
        "                urls.append(weblink)\n",
        "            count += 1\n",
        "            if count > 50:\n",
        "                break\n",
        "        # extract numerical features in from hyperlinks\n",
        "        if len(urls) > 0:\n",
        "            for link in urls:\n",
        "                try:\n",
        "                    url_features = extract_numerical_features(link)\n",
        "                    datalinkssss = list(url_features.values())\n",
        "                except Exception:\n",
        "                    datalinkssss = list(np.zeros(15))\n",
        "                hyperlink_data.append(datalinkssss)\n",
        "        else:\n",
        "            hyperlink_data.append(list(np.zeros(15)))\n",
        "\n",
        "    except Exception:\n",
        "        hyperlink_data.append(list(np.zeros(15)))\n",
        "        print(url)\n",
        "\n",
        "    return (idx, hyperlink_data)\n"
      ]
    },
    {
      "cell_type": "code",
      "execution_count": null,
      "id": "998b6010-9834-4fbf-ab59-526afabe4406",
      "metadata": {
        "id": "998b6010-9834-4fbf-ab59-526afabe4406",
        "outputId": "fb4a2c8d-7600-47e7-bd87-d0943148ee17",
        "colab": {
          "base_uri": "https://localhost:8080/"
        }
      },
      "outputs": [
        {
          "output_type": "stream",
          "name": "stdout",
          "text": [
            "(99, [[2, 0, 1, 1, 0, 6, 6, 0, 0.8285714285714286, 0.0, 0, 0, 0.11428571428571428, 0.0, 0], [0.0, 0.0, 0.0, 0.0, 0.0, 0.0, 0.0, 0.0, 0.0, 0.0, 0.0, 0.0, 0.0, 0.0, 0.0]])\n"
          ]
        }
      ],
      "source": [
        "print(get_graph_features(99))"
      ]
    },
    {
      "cell_type": "code",
      "source": [
        "import multiprocessing as mp\n",
        "\n",
        "def get_graph_features_parallel(i):\n",
        "    return get_graph_features(i)\n",
        "\n",
        "if __name__ == '__main__':\n",
        "    n_test_samples = len(smalldata.index)  # how many links we want to test\n",
        "    with mp.Pool(processes=12) as pool:  # Sử dụng 12 tiến trình\n",
        "        results = pool.map(get_graph_features_parallel, range(n_test_samples))\n"
      ],
      "metadata": {
        "id": "fnkWligUgE6H",
        "colab": {
          "base_uri": "https://localhost:8080/"
        },
        "outputId": "61b8c4a7-d951-47e7-8b15-9004a0d5d896"
      },
      "id": "fnkWligUgE6H",
      "execution_count": null,
      "outputs": [
        {
          "output_type": "stream",
          "name": "stdout",
          "text": [
            "http://www.crestonwood.com/router.php\n",
            "https://novafashion.ru:443/\n",
            "http://www.gnu.org/software/emacs/manual/html_node/emacs/Lunar-Phases.html\n",
            "https://www.sosanhgia.com/\n",
            "http://www.thedigitallandscaping.com/classroom/\n",
            "https://www.apkandroid.ru/caja-de-herramientas/mx.com.vepormas.cajadeherramientas/downloading.html\n",
            "http://vufd.hyperphp.com/amzn\n",
            "https://uns.ac.id/id/\n",
            "http://www.themitchelli.com/\n",
            "https://www.elitewriterslab.com/\n",
            "https://www.thebalancedmamas.com/\n",
            "http://www.palmeronicorp.com/softsoftwsweet\n",
            "http://www.kbstitchdesigns.com/i/successful(1).htm\n",
            "http://www.routeralley.com/guides/nat.pdf\n",
            "http://www.sagam.sn/images/mailerhome.php\n",
            "https://nab.support.fortscratchley.org.au/\n",
            "http://ilovefuzz.com/viewtopic.php?f=149&t=43267&mobile=mobile\n",
            "http://www.savitari.com/\n",
            "http://lbcpzonasegurabeta.rf.gd/\n",
            "http://kbstitchdesigns.com/i/successful(1).htm\n",
            "http://community-diskussionsforen-ebay-de-t11.22web.org/\n",
            "https://www.stroymaster.dp.ua/\n",
            "https://sitelco.net/res/login.php\n",
            "http://www.taxpark.com/journal/images/about.jpg/\n",
            "http://vurl.bz/captmirkoplatniumgmailcom/V/\n",
            "http://tokyodreamhouse.com/1122//?sec=iBusiness%20Webinare\n",
            "http://www.jhanjartv.com/jhanjar1/images/prettyPhoto/default/sa4/\n",
            "http://www.interfacebus.com/Flash_Memory_Card_Types.html\n",
            "http://www.gnu.org/philosophy/free-software-for-freedom\n",
            "https://www.nemkonto.dk/\n",
            "http://www.jhanjartv.com/ok_site/team/E-mail.html\n",
            "http://turismo.biella.it/on-line/Home.html\n",
            "http://www.bestpuppiesusa.com/dhjgd/GD/\n",
            "http://tg4a.totalh.net/yb\n",
            "https://applife.vn/\n",
            "http://e-donusum.vbt.com.tr/tmp/?0120amYuYm91Y2hhcmRAYWkyYi5jb20N552\n",
            "http://www.shivji.in/\n",
            "http://updatequota.byethost5.com/form.php\n",
            "http://mp3clan.com/\n",
            "https://www.bigcorkvineyards.com/\n",
            "http://tg4a.totalh.net/yb/\n",
            "http://h.23yue.cn/\n",
            "https://www.lucistrust.org/\n",
            "https://www.sheridanmentoring.com/\n",
            "http://www.gnu.org/proprietary/\n",
            "http://www.unisonsouthayr.org.uk/index.html\n",
            "https://www.math.ksu.edu/~gerald/leontief.pdf\n",
            "http://www.streeflandhoa.com/\n"
          ]
        }
      ]
    },
    {
      "cell_type": "code",
      "source": [
        "import pickle\n",
        "# data_file = \"data/raw_graph_features_v2.pickle\" # first version\n",
        "data_file = \"URLdatasetX2_1sub5_PyG_Graph.pickle\" # first version\n",
        "#with open(data_file, \"wb\") as fp:   #Pickling\n",
        "    #pickle.dump(results, fp)\n",
        "with open(data_file, \"rb\") as fp:   # Unpickling\n",
        "    results = pickle.load(fp)"
      ],
      "metadata": {
        "id": "lIRQebYLapuj"
      },
      "id": "lIRQebYLapuj",
      "execution_count": null,
      "outputs": []
    },
    {
      "cell_type": "markdown",
      "id": "8e4ab5d3-ae71-4346-9d73-b03f0646a7fa",
      "metadata": {
        "id": "8e4ab5d3-ae71-4346-9d73-b03f0646a7fa"
      },
      "source": [
        "## PyG"
      ]
    },
    {
      "cell_type": "code",
      "execution_count": null,
      "id": "c19af397-21f9-4f0f-a743-1a71fb5fa8a0",
      "metadata": {
        "id": "c19af397-21f9-4f0f-a743-1a71fb5fa8a0"
      },
      "outputs": [],
      "source": [
        "# # Transfer data object to GPU.\n",
        "# device = torch.device('cuda')\n",
        "# data = data.to(device)"
      ]
    },
    {
      "cell_type": "code",
      "execution_count": null,
      "id": "181472cb-4e72-48dd-b84b-8f7e6439ef71",
      "metadata": {
        "id": "181472cb-4e72-48dd-b84b-8f7e6439ef71"
      },
      "outputs": [],
      "source": [
        "import torch\n",
        "from torch_geometric.data import Data, Dataset\n",
        "\n",
        "class GraphClassificationDataset(Dataset):\n",
        "    def __init__(self, graphs):\n",
        "        self.graphs = graphs\n",
        "        # self.labels = labels\n",
        "\n",
        "    def __len__(self):\n",
        "        return len(self.graphs)\n",
        "\n",
        "    def __getitem__(self, idx):\n",
        "        graph = self.graphs[idx]\n",
        "        # label = self.labels[idx]\n",
        "        return graph"
      ]
    },
    {
      "cell_type": "code",
      "execution_count": null,
      "id": "2f837f2d-6bdd-406c-827f-5fc26f527c0c",
      "metadata": {
        "id": "2f837f2d-6bdd-406c-827f-5fc26f527c0c"
      },
      "outputs": [],
      "source": [
        "# Assume you have a list of graphs represented as Data objects and a corresponding list of labels\n",
        "# Only take the url with more than 4 hyperlinks\n",
        "graphs = []\n",
        "for i in range(len(results)):\n",
        "    idx, graph_feature = results[i]\n",
        "    n_hyperlinks = len(graph_feature)-1\n",
        "    child_id = [i+1 for i in range(n_hyperlinks)]\n",
        "    source_id = list(np.zeros(n_hyperlinks).astype(int))\n",
        "    edge_index = torch.tensor([source_id + child_id,\n",
        "                               child_id + source_id], dtype=torch.long)\n",
        "    x = torch.tensor(graph_feature, dtype=torch.float)\n",
        "    y = torch.tensor([labels[idx]], dtype=torch.int64)\n",
        "    data = Data(x=x, edge_index=edge_index, y = y)\n",
        "    if n_hyperlinks > -1:\n",
        "        graphs.append(data)\n",
        "\n",
        "# Create a dataset instance\n",
        "dataset = GraphClassificationDataset(graphs)"
      ]
    },
    {
      "cell_type": "code",
      "execution_count": null,
      "id": "44a3a5ee-7d6e-412c-8ec3-7a653bbbb72f",
      "metadata": {
        "id": "44a3a5ee-7d6e-412c-8ec3-7a653bbbb72f",
        "colab": {
          "base_uri": "https://localhost:8080/"
        },
        "outputId": "269f1500-8cfc-48f3-99fc-1045077eb4ed"
      },
      "outputs": [
        {
          "output_type": "execute_result",
          "data": {
            "text/plain": [
              "Data(x=[18, 15], edge_index=[2, 34], y=[1])"
            ]
          },
          "metadata": {},
          "execution_count": 32
        }
      ],
      "source": [
        "dataset[10]"
      ]
    },
    {
      "cell_type": "code",
      "execution_count": null,
      "id": "6dc5a361-8c19-48a4-a651-f46ca40ffdbf",
      "metadata": {
        "id": "6dc5a361-8c19-48a4-a651-f46ca40ffdbf",
        "colab": {
          "base_uri": "https://localhost:8080/"
        },
        "outputId": "da5c8e39-3aa4-4c7b-cbe7-17dc92af1b2e"
      },
      "outputs": [
        {
          "output_type": "stream",
          "name": "stdout",
          "text": [
            "\n",
            "Dataset: GraphClassificationDataset(2254):\n",
            "====================\n",
            "Number of graphs: 2254\n",
            "Number of features: 15\n",
            "Number of classes: 2\n"
          ]
        }
      ],
      "source": [
        "print()\n",
        "print(f'Dataset: {dataset}:')\n",
        "print('====================')\n",
        "print(f'Number of graphs: {len(dataset)}')\n",
        "print(f'Number of features: {dataset.num_features}')\n",
        "print(f'Number of classes: {dataset.num_classes}')\n",
        "\n",
        "data = dataset[0]  # Get the first graph object."
      ]
    },
    {
      "cell_type": "code",
      "execution_count": null,
      "id": "GDNWU7d_UQqH",
      "metadata": {
        "id": "GDNWU7d_UQqH",
        "colab": {
          "base_uri": "https://localhost:8080/"
        },
        "outputId": "c3bec1e4-4a97-4dae-cc22-abaebf71ea26"
      },
      "outputs": [
        {
          "output_type": "stream",
          "name": "stdout",
          "text": [
            "2029\n",
            "225\n",
            "0\n"
          ]
        }
      ],
      "source": [
        "count_1 = 0\n",
        "count_0 = 0\n",
        "count_2 = 0\n",
        "for data in dataset:\n",
        "  label = data.y\n",
        "  if label == 1:\n",
        "    count_1 +=1\n",
        "  if label == 0:\n",
        "    count_0 +=1\n",
        "  if label == 2:\n",
        "    count_2 +=1\n",
        "print(count_0)\n",
        "print(count_1)\n",
        "print(count_2)\n"
      ]
    },
    {
      "cell_type": "code",
      "execution_count": null,
      "id": "7662911c-f72a-470c-9e57-5ac1a504f2a1",
      "metadata": {
        "id": "7662911c-f72a-470c-9e57-5ac1a504f2a1"
      },
      "outputs": [],
      "source": [
        "# dataset = dataset.shuffle()\n",
        "n_samples = len(dataset)\n",
        "train_dataset = dataset[:int(0.8*n_samples)]\n",
        "test_dataset = dataset[int(0.8*n_samples):]"
      ]
    },
    {
      "cell_type": "code",
      "execution_count": null,
      "id": "5b8c74ac-9ca9-498f-b5dc-ee77ab28f254",
      "metadata": {
        "id": "5b8c74ac-9ca9-498f-b5dc-ee77ab28f254",
        "colab": {
          "base_uri": "https://localhost:8080/"
        },
        "outputId": "ce4d3b48-4602-4cb5-829e-d7fcb3f67704"
      },
      "outputs": [
        {
          "output_type": "execute_result",
          "data": {
            "text/plain": [
              "(835, 209)"
            ]
          },
          "metadata": {},
          "execution_count": 38
        }
      ],
      "source": [
        "len(train_dataset), len(test_dataset)"
      ]
    },
    {
      "cell_type": "code",
      "execution_count": null,
      "id": "7e273ba5-2d67-4b83-9ce4-6e8f11d45c1c",
      "metadata": {
        "id": "7e273ba5-2d67-4b83-9ce4-6e8f11d45c1c",
        "colab": {
          "base_uri": "https://localhost:8080/",
          "height": 193
        },
        "outputId": "e7253d2f-71be-442d-d467-aefc59696370"
      },
      "outputs": [
        {
          "output_type": "error",
          "ename": "NameError",
          "evalue": "name 'train_dataset' is not defined",
          "traceback": [
            "\u001b[0;31m---------------------------------------------------------------------------\u001b[0m",
            "\u001b[0;31mNameError\u001b[0m                                 Traceback (most recent call last)",
            "\u001b[0;32m<ipython-input-64-f5ad632dc749>\u001b[0m in \u001b[0;36m<cell line: 3>\u001b[0;34m()\u001b[0m\n\u001b[1;32m      1\u001b[0m \u001b[0;32mfrom\u001b[0m \u001b[0mtorch_geometric\u001b[0m\u001b[0;34m.\u001b[0m\u001b[0mloader\u001b[0m \u001b[0;32mimport\u001b[0m \u001b[0mDataLoader\u001b[0m\u001b[0;34m\u001b[0m\u001b[0;34m\u001b[0m\u001b[0m\n\u001b[1;32m      2\u001b[0m \u001b[0;34m\u001b[0m\u001b[0m\n\u001b[0;32m----> 3\u001b[0;31m \u001b[0mtrain_loader\u001b[0m \u001b[0;34m=\u001b[0m \u001b[0mDataLoader\u001b[0m\u001b[0;34m(\u001b[0m\u001b[0mtrain_dataset\u001b[0m\u001b[0;34m,\u001b[0m \u001b[0mbatch_size\u001b[0m\u001b[0;34m=\u001b[0m\u001b[0;36m16\u001b[0m\u001b[0;34m,\u001b[0m \u001b[0mshuffle\u001b[0m\u001b[0;34m=\u001b[0m\u001b[0;32mTrue\u001b[0m\u001b[0;34m)\u001b[0m\u001b[0;34m\u001b[0m\u001b[0;34m\u001b[0m\u001b[0m\n\u001b[0m\u001b[1;32m      4\u001b[0m \u001b[0mtest_loader\u001b[0m \u001b[0;34m=\u001b[0m \u001b[0mDataLoader\u001b[0m\u001b[0;34m(\u001b[0m\u001b[0mtest_dataset\u001b[0m\u001b[0;34m,\u001b[0m \u001b[0mbatch_size\u001b[0m\u001b[0;34m=\u001b[0m\u001b[0;36m16\u001b[0m\u001b[0;34m,\u001b[0m \u001b[0mshuffle\u001b[0m\u001b[0;34m=\u001b[0m\u001b[0;32mFalse\u001b[0m\u001b[0;34m)\u001b[0m\u001b[0;34m\u001b[0m\u001b[0;34m\u001b[0m\u001b[0m\n",
            "\u001b[0;31mNameError\u001b[0m: name 'train_dataset' is not defined"
          ]
        }
      ],
      "source": [
        "from torch_geometric.loader import DataLoader\n",
        "\n",
        "train_loader = DataLoader(train_dataset, batch_size=16, shuffle=True)\n",
        "test_loader = DataLoader(test_dataset, batch_size=16, shuffle=False)"
      ]
    },
    {
      "cell_type": "code",
      "execution_count": null,
      "id": "5f975f01-7eb2-4b3e-9bd7-b8c897785e90",
      "metadata": {
        "id": "5f975f01-7eb2-4b3e-9bd7-b8c897785e90",
        "colab": {
          "base_uri": "https://localhost:8080/"
        },
        "outputId": "44fc900f-6dd9-41aa-82af-688a943b3f1e"
      },
      "outputs": [
        {
          "output_type": "stream",
          "name": "stdout",
          "text": [
            "GCN_3(\n",
            "  (convs): ModuleList(\n",
            "    (0): GCNConv(15, 64)\n",
            "    (1-2): 2 x GCNConv(64, 64)\n",
            "  )\n",
            "  (lin): Linear(in_features=64, out_features=3, bias=True)\n",
            ")\n"
          ]
        }
      ],
      "source": [
        "from torch.nn import Linear, ModuleList\n",
        "import torch.nn.functional as F\n",
        "from torch_geometric.nn import GCNConv\n",
        "from torch_geometric.nn import global_mean_pool\n",
        "\n",
        "\n",
        "\n",
        "class GCN(torch.nn.Module):\n",
        "    def __init__(\n",
        "            self,\n",
        "            in_channels: int = 15,\n",
        "            hidden_channels: int = 64,\n",
        "            out_channels: int = 3,\n",
        "            pooling_fn: callable = global_mean_pool,\n",
        "           # device: device = None,\n",
        "            nb_layers: int = 3,\n",
        "    ):\n",
        "        super(GCN, self).__init__()\n",
        "\n",
        "        self.pooling_fn = pooling_fn\n",
        "        #self.device = device\n",
        "        #self.to(device)\n",
        "\n",
        "        torch.manual_seed(12345)\n",
        "        self.convs = ModuleList()\n",
        "        for i in range(nb_layers):\n",
        "            if i == 0:\n",
        "                self.convs.append(GCNConv(in_channels, hidden_channels))\n",
        "            else:\n",
        "                self.convs.append(GCNConv(hidden_channels, hidden_channels))\n",
        "\n",
        "        self.lin = Linear(hidden_channels, out_channels)\n",
        "        self.embeddings = None\n",
        "\n",
        "    def forward(self, x, edge_index, batch):\n",
        "        x = x.to(dtype=torch.float32)\n",
        "\n",
        "        for i, conv in enumerate(self.convs):\n",
        "            x = conv(x, edge_index)\n",
        "            if i != len(self.convs) - 1:\n",
        "                x = x.relu()\n",
        "\n",
        "        x = self.pooling_fn(x, batch)\n",
        "        self.embeddings = x\n",
        "\n",
        "        x = F.dropout(x, p=0.5, training=self.training)\n",
        "        x = self.lin(x)\n",
        "\n",
        "        return x\n",
        "\n",
        "    def reset_parameters(self):\n",
        "        for layer in self.convs:\n",
        "            layer.reset_parameters()\n",
        "        self.lin.reset_parameters()\n",
        "\n",
        "\n",
        "class GCN_2(GCN):\n",
        "    def __init__(\n",
        "            self,\n",
        "            **kwargs,\n",
        "    ):\n",
        "        super().__init__(nb_layers=2, **kwargs)\n",
        "\n",
        "\n",
        "class GCN_3(GCN):\n",
        "    def __init__(\n",
        "            self,\n",
        "            **kwargs,\n",
        "    ):\n",
        "        super().__init__(nb_layers=3, **kwargs)\n",
        "\n",
        "model = GCN_3()\n",
        "print(model)"
      ]
    },
    {
      "cell_type": "code",
      "source": [
        "\n"
      ],
      "metadata": {
        "id": "R6LbP4FN2Lom"
      },
      "id": "R6LbP4FN2Lom",
      "execution_count": null,
      "outputs": []
    },
    {
      "cell_type": "code",
      "execution_count": null,
      "id": "bd41cc6b-7c71-4d42-9b24-5419f05f98c4",
      "metadata": {
        "id": "bd41cc6b-7c71-4d42-9b24-5419f05f98c4"
      },
      "outputs": [],
      "source": [
        "from sklearn.metrics import f1_score\n",
        "import pandas as pd\n",
        "\n",
        "model = GCN_3()\n",
        "optimizer = torch.optim.Adam(model.parameters(), lr=0.01)\n",
        "criterion = torch.nn.CrossEntropyLoss()\n",
        "\n",
        "def train():\n",
        "    model.train()\n",
        "\n",
        "    for data in train_loader:  # Iterate in batches over the training dataset.\n",
        "         out = model(data.x, data.edge_index, data.batch)  # Perform a single forward pass.\n",
        "         loss = criterion(out, data.y)  # Compute the loss.\n",
        "         loss.backward()  # Derive gradients.\n",
        "         optimizer.step()  # Update parameters based on gradients.\n",
        "         optimizer.zero_grad()  # Clear gradients.\n",
        "\n",
        "\n",
        "\n",
        "def test(loader):\n",
        "    model.eval()\n",
        "    correct = 0\n",
        "    # for data in loader:  # Iterate in batches over the training/test dataset.\n",
        "    #     out = model(data.x, data.edge_index, data.batch)\n",
        "    #     pred = out.argmax(dim=1)  # Use the class with highest probability.\n",
        "    #     correct += int((pred == data.y).sum())  # Check against ground-truth labels.\n",
        "    # return correct / len(loader.dataset)  # Derive ratio of correct predictions.\n",
        "    true_labels = []\n",
        "    pred_labels = []\n",
        "    for data in loader:  # Iterate in batches over the training/test dataset.\n",
        "        out = model(data.x, data.edge_index, data.batch)\n",
        "        pred = out.argmax(dim=1)  # Use the class with highest probability.\n",
        "        correct += int((pred == data.y).sum())  # Check against ground-truth labels.\n",
        "        true_labels += data.y.tolist()\n",
        "        pred_labels += pred.tolist()\n",
        "        # print(pred_labels)\n",
        "    return f1_score(true_labels, pred_labels, average = 'macro')\n",
        "\n",
        "def saveresult(loader,path):\n",
        "    model.eval()\n",
        "    correct = 0\n",
        "    # for data in loader:  # Iterate in batches over the training/test dataset.\n",
        "    #     out = model(data.x, data.edge_index, data.batch)\n",
        "    #     pred = out.argmax(dim=1)  # Use the class with highest probability.\n",
        "    #     correct += int((pred == data.y).sum())  # Check against ground-truth labels.\n",
        "    # return correct / len(loader.dataset)  # Derive ratio of correct predictions.\n",
        "    true_labels = []\n",
        "    pred_labels = []\n",
        "    y_scores = []\n",
        "    for data in loader:  # Iterate in batches over the training/test dataset.\n",
        "        out = model(data.x, data.edge_index, data.batch)\n",
        "        pred = out.argmax(dim=1)  # Use the class with highest probability.\n",
        "        correct += int((pred == data.y).sum())  # Check against ground-truth labels.\n",
        "        true_labels += data.y.tolist()\n",
        "        pred_labels += pred.tolist()\n",
        "        probabilities = torch.softmax(out, dim=1)  # Chuyển đổi đầu ra thành xác suất\n",
        "        y_scores += probabilities[:, 1].tolist()  # Lấy xác suất của lớp dương (lớp 1)\n",
        "    df = pd.DataFrame({\n",
        "        'True Label': true_labels,\n",
        "        'Predicted Label': pred_labels,\n",
        "        'y_score': y_scores\n",
        "    })\n",
        "    df.to_csv(path, index=False)\n"
      ]
    },
    {
      "cell_type": "code",
      "execution_count": null,
      "id": "9bb46af3-23a3-4c2b-a73a-496e34bdd7d4",
      "metadata": {
        "id": "9bb46af3-23a3-4c2b-a73a-496e34bdd7d4",
        "colab": {
          "base_uri": "https://localhost:8080/"
        },
        "outputId": "5929503c-f845-48bc-aa85-714a79e8d68e"
      },
      "outputs": [
        {
          "output_type": "stream",
          "name": "stdout",
          "text": [
            "Run:  0 , fold:  0\n",
            "fold: 0, Train Acc: 0.7094, Test Acc: 0.7193\n",
            "Run:  0 , fold:  1\n",
            "fold: 1, Train Acc: 0.7643, Test Acc: 0.7534\n",
            "Run:  0 , fold:  2\n",
            "fold: 2, Train Acc: 0.7464, Test Acc: 0.7423\n",
            "Run:  0 , fold:  3\n",
            "fold: 3, Train Acc: 0.7352, Test Acc: 0.7563\n",
            "Run:  0 , fold:  4\n",
            "fold: 4, Train Acc: 0.6880, Test Acc: 0.6652\n"
          ]
        }
      ],
      "source": [
        "from torch_geometric.loader import DataLoader\n",
        "from sklearn.model_selection import KFold\n",
        "\n",
        "n_loops = 1\n",
        "n_folds = 5\n",
        "base_dir = 'results'\n",
        "n_samples = len(dataset)\n",
        "results_df = pd.DataFrame(columns=['fold', 'Train Acc', 'Test Acc'])\n",
        "for i in range(n_loops):\n",
        "  cv = KFold(n_splits=n_folds, shuffle=True, random_state = i)\n",
        "  for fold, (train_idx, test_idx) in enumerate(cv.split(dataset)):\n",
        "    path_dir = base_dir +'/' +'URLdatasetX2_1sub5'+ '_run_'+str(i)+'_'+ 'fold_'+str(fold)+'_phishGNN_labels.csv'\n",
        "    print('Run: ', i, ', fold: ', fold)\n",
        "    train_idx = train_idx.tolist()\n",
        "    test_idx = test_idx.tolist()\n",
        "    train_dataset = [dataset[idx] for idx in train_idx]\n",
        "    test_dataset = [dataset[idx] for idx in test_idx]\n",
        "    #train_dataset = dataset[train_idx]\n",
        "    #test_dataset = dataset[test_idx]\n",
        "    train_loader = DataLoader(train_dataset, batch_size=16, shuffle=True)\n",
        "    test_loader = DataLoader(test_dataset, batch_size=16, shuffle=False)\n",
        "    train()\n",
        "    train_acc = test(train_loader)\n",
        "    test_acc = test(test_loader)\n",
        "    # Thêm kết quả của epoch vào DataFrame\n",
        "    results_df.loc[len(results_df)] = [fold, train_acc, test_acc]\n",
        "    print(f'fold: {fold}, Train Acc: {train_acc:.4f}, Test Acc: {test_acc:.4f}')\n",
        "\n",
        "    # Lấy nhãn thực tế và nhãn dự đoán từ test_loader\n",
        "    #actual_labels, predicted_labels = get_actual_and_predicted_labels(test_loader)\n",
        "    saveresult(test_loader,path_dir)\n",
        "results_df.to_csv(\"Result.csv\", index=False)"
      ]
    },
    {
      "cell_type": "code",
      "source": [
        "print(len(labels))"
      ],
      "metadata": {
        "colab": {
          "base_uri": "https://localhost:8080/"
        },
        "id": "FfNqS5gZnK1J",
        "outputId": "654bc261-39af-4766-a4d1-cd6d81523c21"
      },
      "id": "FfNqS5gZnK1J",
      "execution_count": null,
      "outputs": [
        {
          "output_type": "stream",
          "name": "stdout",
          "text": [
            "2135\n"
          ]
        }
      ]
    },
    {
      "cell_type": "code",
      "source": [
        "#Chạy stratifiedFold\n",
        "from torch_geometric.loader import DataLoader\n",
        "from sklearn.model_selection import KFold\n",
        "from sklearn.model_selection import StratifiedKFold\n",
        "\n",
        "n_loops = 1\n",
        "n_folds = 5\n",
        "base_dir = 'results'\n",
        "n_samples = len(dataset)\n",
        "results_df = pd.DataFrame(columns=['fold', 'Train Acc', 'Test Acc'])\n",
        "for i in range(n_loops):\n",
        "  cv = StratifiedKFold(n_splits=n_folds, shuffle=True, random_state = i)\n",
        "  for fold, (train_idx, test_idx) in enumerate(cv.split(dataset,labels)):\n",
        "    path_dir = base_dir +'/' +'URLdatasetX2_1sub5'+ '_run_'+str(i)+'_'+ 'fold_'+str(fold)+'_phishGNN_labels.csv'\n",
        "    print('Run: ', i, ', fold: ', fold)\n",
        "    train_idx = train_idx.tolist()\n",
        "    test_idx = test_idx.tolist()\n",
        "    train_dataset = [dataset[idx] for idx in train_idx]\n",
        "    test_dataset = [dataset[idx] for idx in test_idx]\n",
        "    #train_dataset = dataset[train_idx]\n",
        "    #test_dataset = dataset[test_idx]\n",
        "    train_loader = DataLoader(train_dataset, batch_size=16, shuffle=True)\n",
        "    test_loader = DataLoader(test_dataset, batch_size=16, shuffle=False)\n",
        "    train()\n",
        "    train_acc = test(train_loader)\n",
        "    test_acc = test(test_loader)\n",
        "    # Thêm kết quả của epoch vào DataFrame\n",
        "    results_df.loc[len(results_df)] = [fold, train_acc, test_acc]\n",
        "    print(f'fold: {fold}, Train Acc: {train_acc:.4f}, Test Acc: {test_acc:.4f}')\n",
        "\n",
        "    # Lấy nhãn thực tế và nhãn dự đoán từ test_loader\n",
        "    #actual_labels, predicted_labels = get_actual_and_predicted_labels(test_loader)\n",
        "    saveresult(test_loader,path_dir)\n",
        "results_df.to_csv(\"Result.csv\", index=False)"
      ],
      "metadata": {
        "colab": {
          "base_uri": "https://localhost:8080/"
        },
        "id": "zg1MpzNvmrP_",
        "outputId": "1277e8a2-ae2a-45e9-e37e-c127bd1db188"
      },
      "id": "zg1MpzNvmrP_",
      "execution_count": null,
      "outputs": [
        {
          "output_type": "stream",
          "name": "stdout",
          "text": [
            "Run:  0 , fold:  0\n",
            "fold: 0, Train Acc: 0.4872, Test Acc: 0.4874\n",
            "Run:  0 , fold:  1\n",
            "fold: 1, Train Acc: 0.4872, Test Acc: 0.4874\n",
            "Run:  0 , fold:  2\n",
            "fold: 2, Train Acc: 0.4872, Test Acc: 0.4874\n",
            "Run:  0 , fold:  3\n",
            "fold: 3, Train Acc: 0.4872, Test Acc: 0.4874\n",
            "Run:  0 , fold:  4\n",
            "fold: 4, Train Acc: 0.4874, Test Acc: 0.4868\n"
          ]
        }
      ]
    }
  ],
  "metadata": {
    "colab": {
      "provenance": []
    },
    "kernelspec": {
      "display_name": "Python 3 (ipykernel)",
      "language": "python",
      "name": "python3"
    },
    "language_info": {
      "codemirror_mode": {
        "name": "ipython",
        "version": 3
      },
      "file_extension": ".py",
      "mimetype": "text/x-python",
      "name": "python",
      "nbconvert_exporter": "python",
      "pygments_lexer": "ipython3",
      "version": "3.11.7"
    }
  },
  "nbformat": 4,
  "nbformat_minor": 5
}