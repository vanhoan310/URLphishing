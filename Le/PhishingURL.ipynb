{
  "cells": [
    {
      "cell_type": "code",
      "execution_count": 2,
      "metadata": {
        "id": "18aoKHWj42B1"
      },
      "outputs": [],
      "source": [
        "import pandas as pd #đọc dữ liệu\n",
        "import numpy as np #xử lý dữ liệu\n",
        "import matplotlib.pyplot as plt #vẽ biểu đồ\n",
        "\n",
        "from tensorflow.keras.preprocessing.sequence import pad_sequences\n",
        "from tensorflow.keras.preprocessing.text import Tokenizer\n",
        "from tensorflow.keras.layers import Input, Embedding, Conv1D, GlobalMaxPooling1D, Concatenate, Dense\n",
        "from tensorflow.keras.models import Model\n",
        "import tensorflow as tf\n",
        "from tensorflow.keras.utils import to_categorical\n",
        "from keras.models import Sequential, Model\n",
        "from keras.layers import Conv1D, MaxPooling1D, Flatten, Dense, Input, concatenate\n",
        "\n",
        "from sklearn.model_selection import KFold"
      ]
    },
    {
      "cell_type": "code",
      "execution_count": 3,
      "metadata": {
        "id": "kqd24rM65gqB",
        "colab": {
          "base_uri": "https://localhost:8080/"
        },
        "outputId": "6bf06117-ca85-497c-f8d5-adbdd067cab2"
      },
      "outputs": [
        {
          "output_type": "stream",
          "name": "stdout",
          "text": [
            "Mounted at /content/drive\n"
          ]
        }
      ],
      "source": [
        "from google.colab import drive\n",
        "drive.mount('/content/drive')"
      ]
    },
    {
      "cell_type": "code",
      "execution_count": 5,
      "metadata": {
        "colab": {
          "base_uri": "https://localhost:8080/"
        },
        "id": "FRrDhwG85-oB",
        "outputId": "e81b8642-6762-49ae-9803-1204460b6799"
      },
      "outputs": [
        {
          "output_type": "stream",
          "name": "stdout",
          "text": [
            "      Unnamed: 0                                                url  \\\n",
            "0              0              http://www.crestonwood.com/router.php   \n",
            "1              1         http://vamoaestudiarmedicina.blogspot.com/   \n",
            "2              2  https://www.astrologyonline.eu/Astro_MemoNew/P...   \n",
            "3              3        https://www.lifewire.com/tcp-port-21-818146   \n",
            "4              4  https://technofizi.net/top-best-mp3-downloader...   \n",
            "...          ...                                                ...   \n",
            "2797        2797            http://apuwa.com/blog/profile/name.html   \n",
            "2798        2798                         https://www.dissernet.org/   \n",
            "2799        2799          http://www.heinzreber.net/homeflash1.html   \n",
            "2800        2800  https://adnanboz.wordpress.com/2012/01/06/how-...   \n",
            "2801        2801  https://www.facebook.com/Interactive-Televisio...   \n",
            "\n",
            "            type  \n",
            "0     legitimate  \n",
            "1     legitimate  \n",
            "2     legitimate  \n",
            "3     legitimate  \n",
            "4     legitimate  \n",
            "...          ...  \n",
            "2797    phishing  \n",
            "2798  legitimate  \n",
            "2799    phishing  \n",
            "2800  legitimate  \n",
            "2801  legitimate  \n",
            "\n",
            "[2802 rows x 3 columns]\n"
          ]
        }
      ],
      "source": [
        "df=pd.read_csv('URLdatasetX2_1.csv')\n",
        "# df=df.drop(columns=[\"ID\"])\n",
        "\n",
        "print(df)"
      ]
    },
    {
      "cell_type": "code",
      "source": [
        "df['type'] = df['type'].map({'legitimate': 0, 'phishing': 1})\n"
      ],
      "metadata": {
        "id": "6ipQZgTWfXwQ"
      },
      "execution_count": 11,
      "outputs": []
    },
    {
      "cell_type": "code",
      "source": [
        "# df['type'] = df['type'].replace({'phishing': 1, 'legitimate': 0})\n",
        "datas=df[\"url\"]\n",
        "label=df[\"type\"]"
      ],
      "metadata": {
        "id": "pX0Q0q6EHzRt"
      },
      "execution_count": 12,
      "outputs": []
    },
    {
      "cell_type": "code",
      "source": [
        "print(len(datas))\n",
        "print(label[1])\n",
        "print(df.head(5))"
      ],
      "metadata": {
        "id": "hHc_MTc0H1BO",
        "outputId": "d3b2463b-8f80-4c73-b45c-b9f43db84c69",
        "colab": {
          "base_uri": "https://localhost:8080/"
        }
      },
      "execution_count": 18,
      "outputs": [
        {
          "output_type": "stream",
          "name": "stdout",
          "text": [
            "2802\n",
            "0\n",
            "   Unnamed: 0                                                url  type\n",
            "0           0              http://www.crestonwood.com/router.php     0\n",
            "1           1         http://vamoaestudiarmedicina.blogspot.com/     0\n",
            "2           2  https://www.astrologyonline.eu/Astro_MemoNew/P...     0\n",
            "3           3        https://www.lifewire.com/tcp-port-21-818146     0\n",
            "4           4  https://technofizi.net/top-best-mp3-downloader...     0\n"
          ]
        }
      ]
    },
    {
      "cell_type": "code",
      "execution_count": null,
      "metadata": {
        "colab": {
          "base_uri": "https://localhost:8080/"
        },
        "id": "cMHDibPP6Gcw",
        "outputId": "8c4b48fe-c2f7-43c5-a8be-10162e968b86"
      },
      "outputs": [
        {
          "output_type": "stream",
          "name": "stdout",
          "text": [
            "0                   http://www.crestonwood.com/router.php\n",
            "1              http://vamoaestudiarmedicina.blogspot.com/\n",
            "2       https://www.astrologyonline.eu/Astro_MemoNew/P...\n",
            "3             https://www.lifewire.com/tcp-port-21-818146\n",
            "4       https://technofizi.net/top-best-mp3-downloader...\n",
            "                              ...                        \n",
            "2436     https://de.gethuman.com/customer-service/Netflix\n",
            "2437                    http://ngampusonline.blogspot.com\n",
            "2438               http://vtchekhov.com/sa//?sec=AnnaLisa\n",
            "2439                               https://beta.znipe.tv/\n",
            "2440      http://www.jkang.com/CIS110/ch07_bis/sld015.htm\n",
            "Name: url, Length: 2441, dtype: object\n",
            "2441    0\n",
            "2442    0\n",
            "2443    0\n",
            "2444    0\n",
            "2445    0\n",
            "       ..\n",
            "2797    1\n",
            "2798    0\n",
            "2799    1\n",
            "2800    0\n",
            "2801    0\n",
            "Name: type, Length: 361, dtype: int64\n"
          ]
        }
      ],
      "source": [
        "\n",
        "X_train=datas[:2441]\n",
        "y_train=label[:2441]\n",
        "X_test=datas[2441:]\n",
        "y_test=label[2441:]\n",
        "print(X_train)\n",
        "print(y_test)"
      ]
    },
    {
      "cell_type": "code",
      "source": [
        "print(X_train)\n",
        "print(y_test)"
      ],
      "metadata": {
        "colab": {
          "base_uri": "https://localhost:8080/"
        },
        "id": "R7nq3UFafnkf",
        "outputId": "a40f4cdf-e11b-420b-89f6-8816103505f4"
      },
      "execution_count": null,
      "outputs": [
        {
          "output_type": "stream",
          "name": "stdout",
          "text": [
            "0                   http://www.crestonwood.com/router.php\n",
            "1              http://vamoaestudiarmedicina.blogspot.com/\n",
            "2       https://www.astrologyonline.eu/Astro_MemoNew/P...\n",
            "3             https://www.lifewire.com/tcp-port-21-818146\n",
            "4       https://technofizi.net/top-best-mp3-downloader...\n",
            "                              ...                        \n",
            "2436     https://de.gethuman.com/customer-service/Netflix\n",
            "2437                    http://ngampusonline.blogspot.com\n",
            "2438               http://vtchekhov.com/sa//?sec=AnnaLisa\n",
            "2439                               https://beta.znipe.tv/\n",
            "2440      http://www.jkang.com/CIS110/ch07_bis/sld015.htm\n",
            "Name: url, Length: 2441, dtype: object\n",
            "2441    0\n",
            "2442    0\n",
            "2443    0\n",
            "2444    0\n",
            "2445    0\n",
            "       ..\n",
            "2797    1\n",
            "2798    0\n",
            "2799    1\n",
            "2800    0\n",
            "2801    0\n",
            "Name: type, Length: 361, dtype: int64\n"
          ]
        }
      ]
    },
    {
      "cell_type": "code",
      "execution_count": null,
      "metadata": {
        "id": "Nxm0ZKiHJ0Ym"
      },
      "outputs": [],
      "source": [
        "y_train=to_categorical(y_train)\n",
        "y_test=to_categorical(y_test)"
      ]
    },
    {
      "cell_type": "code",
      "execution_count": null,
      "metadata": {
        "colab": {
          "base_uri": "https://localhost:8080/"
        },
        "id": "F0jLc3hjLf3e",
        "outputId": "ef637930-307c-4a2b-e8a0-b01130e2a873"
      },
      "outputs": [
        {
          "output_type": "execute_result",
          "data": {
            "text/plain": [
              "array([1., 0.], dtype=float32)"
            ]
          },
          "metadata": {},
          "execution_count": 23
        }
      ],
      "source": [
        "y_test[0]"
      ]
    },
    {
      "cell_type": "code",
      "execution_count": null,
      "metadata": {
        "colab": {
          "base_uri": "https://localhost:8080/"
        },
        "id": "ttHnwJVFMIsh",
        "outputId": "52042c4c-0aac-420e-b63c-7296b416214e"
      },
      "outputs": [
        {
          "output_type": "execute_result",
          "data": {
            "text/plain": [
              "(2441,)"
            ]
          },
          "metadata": {},
          "execution_count": 24
        }
      ],
      "source": [
        "X_train.shape"
      ]
    },
    {
      "cell_type": "code",
      "execution_count": 7,
      "metadata": {
        "id": "mgiRe3IrN7am"
      },
      "outputs": [],
      "source": [
        "tokenizer=Tokenizer(char_level=True)"
      ]
    },
    {
      "cell_type": "code",
      "execution_count": 8,
      "metadata": {
        "id": "PlY_LudkLIv4"
      },
      "outputs": [],
      "source": [
        "def change_data_char(X_train):\n",
        "  max_sequence_length=max(len(url) for url in X_train)\n",
        "  tokenizer.fit_on_texts(X_train)\n",
        "  encoded_sequences=tokenizer.texts_to_sequences(X_train)\n",
        "  padded=pad_sequences(encoded_sequences,padding=\"post\",maxlen=200)\n",
        "  return padded\n",
        "  # padded la ma tran cac ky tu duoc ma hoa trong ca link"
      ]
    },
    {
      "cell_type": "code",
      "execution_count": 14,
      "metadata": {
        "id": "lFy3bvQiLxtX"
      },
      "outputs": [],
      "source": [
        "def change_data_word_char(X_train):\n",
        "  list_word_in_url=[]\n",
        "  # max_word_unit=0\n",
        "  # max_word=0\n",
        "  for url in X_train:\n",
        "    tokens=re.findall(r'\\w+|\\S',url)\n",
        "    # max_word_unit=max(max_word_unit,max(len(a) for a in tokens))\n",
        "    # max_word=max(max_word,len(tokens))\n",
        "    token=' '.join(tokens)\n",
        "    list_word_in_url.append(token)\n",
        "  tokenizer_word = Tokenizer(filters='')\n",
        "  tokenizer_word.fit_on_texts(list_word_in_url)\n",
        "  sequences_word = tokenizer_word.texts_to_sequences(list_word_in_url)\n",
        "  padded_1=pad_sequences(sequences_word,padding=\"post\",truncating=\"post\",maxlen=200)\n",
        "\n",
        "  pad_token_sum=[]\n",
        "  for url in list_word_in_url:\n",
        "    token_char_unit=tokenizer.texts_to_sequences(url)\n",
        "    # pad_token_char_unit=pad_sequences(token_char_unit,padding=\"post\",maxlen=max_word_unit)\n",
        "    pad_token_char_unit=pad_sequences(token_char_unit,padding=\"post\",maxlen=500)\n",
        "    pad_token_sum.append(pad_token_char_unit)\n",
        "\n",
        "  # padded_1 la ma tran ma hoa tu trong cac link\n",
        "  # pad_token_sum la ma tran ma hoa ky tu theo cac tu trong link\n",
        "  pad_pad_token_sum=pad_sequences(pad_token_sum,padding=\"post\",maxlen=200)\n",
        "  # pad_pad_token_sum=pad_sequences(pad_token_sum,padding=\"post\",maxlen=max_word)\n",
        "  pad_pad_token_sum=pad_pad_token_sum\n",
        "\n",
        "  URL_cw=np.sum(pad_pad_token_sum,axis=2)\n",
        "  URL_w_cw=URL_cw+padded_1\n",
        "  return URL_w_cw"
      ]
    },
    {
      "cell_type": "code",
      "execution_count": 15,
      "metadata": {
        "colab": {
          "base_uri": "https://localhost:8080/",
          "height": 332
        },
        "id": "yMNWb3GNzUBo",
        "outputId": "791f7ad5-12d2-48d5-db59-ad78e6172052"
      },
      "outputs": [
        {
          "output_type": "error",
          "ename": "NameError",
          "evalue": "name 're' is not defined",
          "traceback": [
            "\u001b[0;31m---------------------------------------------------------------------------\u001b[0m",
            "\u001b[0;31mNameError\u001b[0m                                 Traceback (most recent call last)",
            "\u001b[0;32m<ipython-input-15-3f82b4797efc>\u001b[0m in \u001b[0;36m<cell line: 24>\u001b[0;34m()\u001b[0m\n\u001b[1;32m     22\u001b[0m \u001b[0mmodel_1\u001b[0m\u001b[0;34m.\u001b[0m\u001b[0madd\u001b[0m\u001b[0;34m(\u001b[0m\u001b[0mFlatten\u001b[0m\u001b[0;34m(\u001b[0m\u001b[0;34m)\u001b[0m\u001b[0;34m)\u001b[0m\u001b[0;34m\u001b[0m\u001b[0;34m\u001b[0m\u001b[0m\n\u001b[1;32m     23\u001b[0m \u001b[0mout_model_1\u001b[0m\u001b[0;34m=\u001b[0m \u001b[0mDense\u001b[0m\u001b[0;34m(\u001b[0m\u001b[0;36m128\u001b[0m\u001b[0;34m,\u001b[0m \u001b[0mactivation\u001b[0m\u001b[0;34m=\u001b[0m\u001b[0;34m'relu'\u001b[0m\u001b[0;34m)\u001b[0m\u001b[0;34m(\u001b[0m\u001b[0mmodel_1\u001b[0m\u001b[0;34m.\u001b[0m\u001b[0moutput\u001b[0m\u001b[0;34m)\u001b[0m\u001b[0;34m\u001b[0m\u001b[0;34m\u001b[0m\u001b[0m\n\u001b[0;32m---> 24\u001b[0;31m \u001b[0mURL_w_cw\u001b[0m\u001b[0;34m=\u001b[0m\u001b[0mchange_data_word_char\u001b[0m\u001b[0;34m(\u001b[0m\u001b[0mX_train\u001b[0m\u001b[0;34m)\u001b[0m\u001b[0;34m\u001b[0m\u001b[0;34m\u001b[0m\u001b[0m\n\u001b[0m\u001b[1;32m     25\u001b[0m \u001b[0minput_shape_1\u001b[0m\u001b[0;34m=\u001b[0m\u001b[0mURL_w_cw\u001b[0m\u001b[0;34m.\u001b[0m\u001b[0mshape\u001b[0m\u001b[0;34m[\u001b[0m\u001b[0;36m1\u001b[0m\u001b[0;34m]\u001b[0m\u001b[0;34m\u001b[0m\u001b[0;34m\u001b[0m\u001b[0m\n\u001b[1;32m     26\u001b[0m \u001b[0;31m# Khởi tạo mô hình cho ma trận URL_w_cw\u001b[0m\u001b[0;34m\u001b[0m\u001b[0;34m\u001b[0m\u001b[0m\n",
            "\u001b[0;32m<ipython-input-14-184064662fb8>\u001b[0m in \u001b[0;36mchange_data_word_char\u001b[0;34m(X_train)\u001b[0m\n\u001b[1;32m      4\u001b[0m   \u001b[0;31m# max_word=0\u001b[0m\u001b[0;34m\u001b[0m\u001b[0;34m\u001b[0m\u001b[0m\n\u001b[1;32m      5\u001b[0m   \u001b[0;32mfor\u001b[0m \u001b[0murl\u001b[0m \u001b[0;32min\u001b[0m \u001b[0mX_train\u001b[0m\u001b[0;34m:\u001b[0m\u001b[0;34m\u001b[0m\u001b[0;34m\u001b[0m\u001b[0m\n\u001b[0;32m----> 6\u001b[0;31m     \u001b[0mtokens\u001b[0m\u001b[0;34m=\u001b[0m\u001b[0mre\u001b[0m\u001b[0;34m.\u001b[0m\u001b[0mfindall\u001b[0m\u001b[0;34m(\u001b[0m\u001b[0;34mr'\\w+|\\S'\u001b[0m\u001b[0;34m,\u001b[0m\u001b[0murl\u001b[0m\u001b[0;34m)\u001b[0m\u001b[0;34m\u001b[0m\u001b[0;34m\u001b[0m\u001b[0m\n\u001b[0m\u001b[1;32m      7\u001b[0m     \u001b[0;31m# max_word_unit=max(max_word_unit,max(len(a) for a in tokens))\u001b[0m\u001b[0;34m\u001b[0m\u001b[0;34m\u001b[0m\u001b[0m\n\u001b[1;32m      8\u001b[0m     \u001b[0;31m# max_word=max(max_word,len(tokens))\u001b[0m\u001b[0;34m\u001b[0m\u001b[0;34m\u001b[0m\u001b[0m\n",
            "\u001b[0;31mNameError\u001b[0m: name 're' is not defined"
          ]
        }
      ],
      "source": [
        "\n",
        "\n",
        "\n",
        "\n",
        "\n",
        "\n",
        "\n",
        "\n",
        "#CNN for URL_w_cw and padded\n",
        "\n",
        "\n",
        "y_train=to_categorical(y_train)\n",
        "y_test=to_categorical(y_test)\n",
        "padded=change_data_char(X_train)\n",
        "input_shape=padded.shape[1]\n",
        "# Khởi tạo mô hình cho ma trận padded 472x5000\n",
        "model_1 = Sequential()\n",
        "model_1.add(Conv1D(filters=64, kernel_size=3, activation='relu', input_shape=(input_shape,1)))\n",
        "model_1.add(MaxPooling1D(pool_size=2,strides=2))\n",
        "model_1.add(Conv1D(filters=32, kernel_size=3, activation='relu'))\n",
        "model_1.add(MaxPooling1D(pool_size=2,strides=2))\n",
        "model_1.add(Conv1D(filters=32, kernel_size=3, activation='relu'))\n",
        "model_1.add(MaxPooling1D(pool_size=2,strides=2))\n",
        "# model_1.add(Conv1D(filters=32, kernel_size=3, activation='relu'))\n",
        "# model_1.add(MaxPooling1D(pool_size=2,strides=2))\n",
        "# model_1.add(Conv1D(filters=32, kernel_size=3, activation='relu'))\n",
        "# model_1.add(MaxPooling1D(pool_size=2,strides=2))\n",
        "# model_1.add(Conv1D(filters=32, kernel_size=3, activation='relu'))\n",
        "# model_1.add(MaxPooling1D(pool_size=2,strides=2))\n",
        "model_1.add(Flatten())\n",
        "out_model_1= Dense(128, activation='relu')(model_1.output)\n",
        "URL_w_cw=change_data_word_char(X_train)\n",
        "input_shape_1=URL_w_cw.shape[1]\n",
        "# Khởi tạo mô hình cho ma trận URL_w_cw\n",
        "model_2 = Sequential()\n",
        "model_2.add(Conv1D(filters=32, kernel_size=3, activation='relu', input_shape=(input_shape_1,1)))\n",
        "model_2.add(MaxPooling1D(pool_size=2,strides=2))\n",
        "model_2.add(Conv1D(filters=32, kernel_size=3, activation='relu'))\n",
        "model_2.add(MaxPooling1D(pool_size=2,strides=2))\n",
        "model_2.add(Conv1D(filters=32, kernel_size=3, activation='relu'))\n",
        "model_2.add(MaxPooling1D(pool_size=2,strides=2))\n",
        "# model_2.add(Conv1D(filters=32, kernel_size=3, activation='relu'))\n",
        "# model_2.add(MaxPooling1D(pool_size=2,strides=2))\n",
        "# model_2.add(Conv1D(filters=32, kernel_size=3, activation='relu'))\n",
        "# model_2.add(MaxPooling1D(pool_size=2,strides=2))\n",
        "model_2.add(Flatten())\n",
        "out_model_2= Dense(128, activation='relu')(model_2.output)\n",
        "# Kết hợp đầu ra của hai mô hình trước vào một fully connected layer\n",
        "merged = concatenate([out_model_1, out_model_2])\n",
        "merged = Dense(128, activation='relu')(merged)\n",
        "merged = Dense(64, activation='relu')(merged)\n",
        "# Lớp output với 2 nơ-ron và hàm kích hoạt softmax\n",
        "output_layer = Dense(2, activation='softmax')(merged)\n",
        "\n",
        "# Tạo model từ Input và output\n",
        "combined_model = Model(inputs=[model_1.input, model_2.input], outputs=output_layer)\n",
        "\n",
        "# Compile model\n",
        "combined_model.compile(optimizer='adam', loss='categorical_crossentropy', metrics=['accuracy'])\n",
        "\n",
        "# In cấu trúc của mô hình\n",
        "combined_model.summary()\n",
        "\n",
        "padded=change_data_char(X_train)\n",
        "URL_w_cw=change_data_word_char(X_train)\n",
        "combined_model.fit([padded, URL_w_cw], y_train, epochs=5, batch_size=32, validation_split=0.2)\n",
        "\n",
        "predict_padded=change_data_char(X_test)\n",
        "predict_URL_w_cw=change_data_word_char(X_test)\n",
        "predictions = combined_model.predict([predict_padded,predict_URL_w_cw])\n",
        "print(predictions[0:5])\n",
        "# print(predict_padded[0])\n",
        "\n",
        "from sklearn.metrics import accuracy_score, precision_score, recall_score, f1_score\n",
        "predicted_url_single = np.argmax(predictions, axis=1)\n",
        "actual_url_single = np.argmax(y_test, axis=1)\n",
        "accuracy = accuracy_score(actual_url_single, predicted_url_single)\n",
        "precision = precision_score(actual_url_single, predicted_url_single, average='macro')\n",
        "recall = recall_score(actual_url_single, predicted_url_single, average='macro')\n",
        "f1 = f1_score(actual_url_single, predicted_url_single, average='macro')\n",
        "\n",
        "print(\"Accuracy:\", accuracy)\n",
        "print(\"Precision:\", precision)\n",
        "print(\"Recall:\", recall)\n",
        "print(\"F1-score:\", f1)"
      ]
    },
    {
      "cell_type": "code",
      "source": [
        "print(len(datas))"
      ],
      "metadata": {
        "id": "3d3j6zx3fcMZ",
        "outputId": "1ed5d512-75c6-4ce3-8b87-1360c1c5a693",
        "colab": {
          "base_uri": "https://localhost:8080/"
        }
      },
      "execution_count": null,
      "outputs": [
        {
          "output_type": "stream",
          "name": "stdout",
          "text": [
            "2802\n"
          ]
        }
      ]
    },
    {
      "cell_type": "code",
      "execution_count": 21,
      "metadata": {
        "id": "9bb46af3-23a3-4c2b-a73a-496e34bdd7d4",
        "colab": {
          "base_uri": "https://localhost:8080/"
        },
        "outputId": "60c3e41f-308f-400d-eac5-ca79ad31011d"
      },
      "outputs": [
        {
          "output_type": "stream",
          "name": "stdout",
          "text": [
            "Run:  0 , fold:  0\n",
            "Epoch 1/5\n",
            "56/56 [==============================] - 5s 39ms/step - loss: 1.7947 - accuracy: 0.7188 - val_loss: 1.3091 - val_accuracy: 0.7506\n",
            "Epoch 2/5\n",
            "56/56 [==============================] - 1s 22ms/step - loss: 0.5689 - accuracy: 0.7879 - val_loss: 1.1582 - val_accuracy: 0.6971\n",
            "Epoch 3/5\n",
            "56/56 [==============================] - 1s 22ms/step - loss: 0.4797 - accuracy: 0.7885 - val_loss: 0.9471 - val_accuracy: 0.7550\n",
            "Epoch 4/5\n",
            "56/56 [==============================] - 1s 21ms/step - loss: 0.4281 - accuracy: 0.8041 - val_loss: 0.8316 - val_accuracy: 0.7862\n",
            "Epoch 5/5\n",
            "56/56 [==============================] - 1s 22ms/step - loss: 0.3468 - accuracy: 0.8415 - val_loss: 0.7724 - val_accuracy: 0.7996\n",
            "18/18 [==============================] - 0s 6ms/step\n",
            "[[0.42700225 0.57299775]\n",
            " [0.36408722 0.6359128 ]\n",
            " [0.00933285 0.99066716]\n",
            " [0.5604344  0.4395656 ]\n",
            " [0.5444848  0.45551518]]\n",
            "Accuracy: 0.7575757575757576\n",
            "Precision: 0.7153258501337598\n",
            "Recall: 0.7415761626287942\n",
            "F1-score: 0.7234770506538317\n",
            "Run:  0 , fold:  1\n",
            "Epoch 1/5\n",
            "56/56 [==============================] - 4s 28ms/step - loss: 1.3754 - accuracy: 0.7321 - val_loss: 0.8644 - val_accuracy: 0.7194\n",
            "Epoch 2/5\n",
            "56/56 [==============================] - 1s 22ms/step - loss: 0.4823 - accuracy: 0.7952 - val_loss: 0.6858 - val_accuracy: 0.7951\n",
            "Epoch 3/5\n",
            "56/56 [==============================] - 1s 23ms/step - loss: 0.4284 - accuracy: 0.7952 - val_loss: 0.6707 - val_accuracy: 0.7817\n",
            "Epoch 4/5\n",
            "56/56 [==============================] - 1s 23ms/step - loss: 0.3875 - accuracy: 0.8147 - val_loss: 0.6718 - val_accuracy: 0.8085\n",
            "Epoch 5/5\n",
            "56/56 [==============================] - 1s 23ms/step - loss: 0.3636 - accuracy: 0.8359 - val_loss: 0.5765 - val_accuracy: 0.8129\n",
            "18/18 [==============================] - 0s 7ms/step\n",
            "[[0.40912858 0.59087145]\n",
            " [0.41402248 0.5859776 ]\n",
            " [0.636551   0.36344904]\n",
            " [0.6191771  0.38082296]\n",
            " [0.8024133  0.19758679]]\n",
            "Accuracy: 0.7967914438502673\n",
            "Precision: 0.7397875816993464\n",
            "Recall: 0.7438342998631654\n",
            "F1-score: 0.7417460830237442\n",
            "Run:  0 , fold:  2\n",
            "Epoch 1/5\n",
            "57/57 [==============================] - 5s 30ms/step - loss: 1.3344 - accuracy: 0.7005 - val_loss: 0.8661 - val_accuracy: 0.7127\n",
            "Epoch 2/5\n",
            "57/57 [==============================] - 1s 23ms/step - loss: 0.6041 - accuracy: 0.7585 - val_loss: 1.2086 - val_accuracy: 0.6704\n",
            "Epoch 3/5\n",
            "57/57 [==============================] - 1s 23ms/step - loss: 0.5710 - accuracy: 0.7591 - val_loss: 0.6910 - val_accuracy: 0.7550\n",
            "Epoch 4/5\n",
            "57/57 [==============================] - 1s 22ms/step - loss: 0.4262 - accuracy: 0.8070 - val_loss: 0.6551 - val_accuracy: 0.7862\n",
            "Epoch 5/5\n",
            "57/57 [==============================] - 1s 22ms/step - loss: 0.4009 - accuracy: 0.8210 - val_loss: 0.5682 - val_accuracy: 0.8085\n",
            "18/18 [==============================] - 0s 6ms/step\n",
            "[[0.57168305 0.42831692]\n",
            " [0.7360799  0.2639202 ]\n",
            " [0.4032669  0.59673303]\n",
            " [0.73591113 0.2640888 ]\n",
            " [0.6382518  0.36174822]]\n",
            "Accuracy: 0.8017857142857143\n",
            "Precision: 0.7253432011657335\n",
            "Recall: 0.7069518057438678\n",
            "F1-score: 0.7150179489177926\n",
            "Run:  0 , fold:  3\n",
            "Epoch 1/5\n",
            "57/57 [==============================] - 5s 44ms/step - loss: 1.6990 - accuracy: 0.7262 - val_loss: 1.2259 - val_accuracy: 0.7550\n",
            "Epoch 2/5\n",
            "57/57 [==============================] - 1s 22ms/step - loss: 0.6243 - accuracy: 0.7741 - val_loss: 1.7014 - val_accuracy: 0.7639\n",
            "Epoch 3/5\n",
            "57/57 [==============================] - 1s 22ms/step - loss: 0.4933 - accuracy: 0.7780 - val_loss: 0.6470 - val_accuracy: 0.8018\n",
            "Epoch 4/5\n",
            "57/57 [==============================] - 1s 21ms/step - loss: 0.3886 - accuracy: 0.8226 - val_loss: 0.6359 - val_accuracy: 0.8352\n",
            "Epoch 5/5\n",
            "57/57 [==============================] - 1s 23ms/step - loss: 0.3339 - accuracy: 0.8444 - val_loss: 0.5721 - val_accuracy: 0.8174\n",
            "18/18 [==============================] - 0s 6ms/step\n",
            "[[0.7241678  0.2758322 ]\n",
            " [0.5293892  0.47061074]\n",
            " [0.35501805 0.64498186]\n",
            " [0.898076   0.10192392]\n",
            " [0.49390244 0.5060976 ]]\n",
            "Accuracy: 0.7875\n",
            "Precision: 0.7686797567725296\n",
            "Recall: 0.7111742424242424\n",
            "F1-score: 0.7273668233571027\n",
            "Run:  0 , fold:  4\n",
            "Epoch 1/5\n",
            "57/57 [==============================] - 5s 28ms/step - loss: 1.9898 - accuracy: 0.7250 - val_loss: 1.4523 - val_accuracy: 0.6726\n",
            "Epoch 2/5\n",
            "57/57 [==============================] - 1s 22ms/step - loss: 0.5770 - accuracy: 0.7764 - val_loss: 1.0291 - val_accuracy: 0.7817\n",
            "Epoch 3/5\n",
            "57/57 [==============================] - 1s 23ms/step - loss: 0.5156 - accuracy: 0.7881 - val_loss: 0.7025 - val_accuracy: 0.7751\n",
            "Epoch 4/5\n",
            "57/57 [==============================] - 1s 23ms/step - loss: 0.4021 - accuracy: 0.8104 - val_loss: 0.8741 - val_accuracy: 0.7996\n",
            "Epoch 5/5\n",
            "57/57 [==============================] - 1s 23ms/step - loss: 0.3626 - accuracy: 0.8344 - val_loss: 0.7254 - val_accuracy: 0.7951\n",
            "18/18 [==============================] - 0s 7ms/step\n",
            "[[0.7329932  0.2670068 ]\n",
            " [0.9375628  0.06243722]\n",
            " [0.69558316 0.30441687]\n",
            " [0.9305032  0.06949671]\n",
            " [0.91898847 0.08101147]]\n",
            "Accuracy: 0.7803571428571429\n",
            "Precision: 0.8080514446793516\n",
            "Recall: 0.6123155240802299\n",
            "F1-score: 0.6211867063372032\n"
          ]
        }
      ],
      "source": [
        "from sklearn.model_selection import KFold\n",
        "import re\n",
        "\n",
        "n_loops = 1\n",
        "n_folds = 5\n",
        "base_dir = 'result'\n",
        "n_samples = len(datas)\n",
        "results_df = pd.DataFrame(columns=['fold', 'Train Acc', 'Test Acc'])\n",
        "for i in range(n_loops):\n",
        "  cv = KFold(n_splits=n_folds, shuffle=True, random_state = i)\n",
        "  for fold, (train_idx, test_idx) in enumerate(cv.split(datas)):\n",
        "    path_dir = base_dir +'/' +'URLdatasetX2_1'+ '_run_'+str(i)+'_'+ 'fold_'+str(fold)+'_'\n",
        "    print('Run: ', i, ', fold: ', fold)\n",
        "    X_train = datas[train_idx]\n",
        "    X_test = datas[test_idx]\n",
        "    y_train = label[train_idx]\n",
        "    y_test = label[test_idx]\n",
        "    y_train=to_categorical(y_train)\n",
        "    y_test=to_categorical(y_test)\n",
        "    padded=change_data_char(X_train)\n",
        "    input_shape=padded.shape[1]\n",
        "    # Khởi tạo mô hình cho ma trận padded 472x5000\n",
        "    model_1 = Sequential()\n",
        "    model_1.add(Conv1D(filters=64, kernel_size=3, activation='relu', input_shape=(input_shape,1)))\n",
        "    model_1.add(MaxPooling1D(pool_size=2,strides=2))\n",
        "    model_1.add(Conv1D(filters=32, kernel_size=3, activation='relu'))\n",
        "    model_1.add(MaxPooling1D(pool_size=2,strides=2))\n",
        "    model_1.add(Conv1D(filters=32, kernel_size=3, activation='relu'))\n",
        "    model_1.add(MaxPooling1D(pool_size=2,strides=2))\n",
        "    # model_1.add(Conv1D(filters=32, kernel_size=3, activation='relu'))\n",
        "    # model_1.add(MaxPooling1D(pool_size=2,strides=2))\n",
        "    # model_1.add(Conv1D(filters=32, kernel_size=3, activation='relu'))\n",
        "    # model_1.add(MaxPooling1D(pool_size=2,strides=2))\n",
        "    # model_1.add(Conv1D(filters=32, kernel_size=3, activation='relu'))\n",
        "    # model_1.add(MaxPooling1D(pool_size=2,strides=2))\n",
        "    model_1.add(Flatten())\n",
        "    out_model_1= Dense(128, activation='relu')(model_1.output)\n",
        "    URL_w_cw=change_data_word_char(X_train)\n",
        "    input_shape_1=URL_w_cw.shape[1]\n",
        "    # Khởi tạo mô hình cho ma trận URL_w_cw\n",
        "    model_2 = Sequential()\n",
        "    model_2.add(Conv1D(filters=32, kernel_size=3, activation='relu', input_shape=(input_shape_1,1)))\n",
        "    model_2.add(MaxPooling1D(pool_size=2,strides=2))\n",
        "    model_2.add(Conv1D(filters=32, kernel_size=3, activation='relu'))\n",
        "    model_2.add(MaxPooling1D(pool_size=2,strides=2))\n",
        "    model_2.add(Conv1D(filters=32, kernel_size=3, activation='relu'))\n",
        "    model_2.add(MaxPooling1D(pool_size=2,strides=2))\n",
        "    # model_2.add(Conv1D(filters=32, kernel_size=3, activation='relu'))\n",
        "    # model_2.add(MaxPooling1D(pool_size=2,strides=2))\n",
        "    # model_2.add(Conv1D(filters=32, kernel_size=3, activation='relu'))\n",
        "    # model_2.add(MaxPooling1D(pool_size=2,strides=2))\n",
        "    model_2.add(Flatten())\n",
        "    out_model_2= Dense(128, activation='relu')(model_2.output)\n",
        "    # Kết hợp đầu ra của hai mô hình trước vào một fully connected layer\n",
        "    merged = concatenate([out_model_1, out_model_2])\n",
        "    merged = Dense(128, activation='relu')(merged)\n",
        "    merged = Dense(64, activation='relu')(merged)\n",
        "    # Lớp output với 2 nơ-ron và hàm kích hoạt softmax\n",
        "    output_layer = Dense(2, activation='softmax')(merged)\n",
        "\n",
        "    # Tạo model từ Input và output\n",
        "    combined_model = Model(inputs=[model_1.input, model_2.input], outputs=output_layer)\n",
        "\n",
        "    # Compile model\n",
        "    combined_model.compile(optimizer='adam', loss='categorical_crossentropy', metrics=['accuracy'])\n",
        "\n",
        "    # In cấu trúc của mô hình\n",
        "    #combined_model.summary()\n",
        "\n",
        "    padded=change_data_char(X_train)\n",
        "    URL_w_cw=change_data_word_char(X_train)\n",
        "    combined_model.fit([padded, URL_w_cw], y_train, epochs=5, batch_size=32, validation_split=0.2)\n",
        "\n",
        "    predict_padded=change_data_char(X_test)\n",
        "    predict_URL_w_cw=change_data_word_char(X_test)\n",
        "    predictions = combined_model.predict([predict_padded,predict_URL_w_cw])\n",
        "    y_score = predictions[:,1]\n",
        "\n",
        "    print(predictions[0:5])\n",
        "    # print(predict_padded[0])\n",
        "\n",
        "    from sklearn.metrics import accuracy_score, precision_score, recall_score, f1_score\n",
        "    predicted_url_single = np.argmax(predictions, axis=1)\n",
        "    actual_url_single = np.argmax(y_test, axis=1)\n",
        "    accuracy = accuracy_score(actual_url_single, predicted_url_single)\n",
        "    precision = precision_score(actual_url_single, predicted_url_single, average='macro')\n",
        "    recall = recall_score(actual_url_single, predicted_url_single, average='macro')\n",
        "    f1 = f1_score(actual_url_single, predicted_url_single, average='macro')\n",
        "\n",
        "    print(\"Accuracy:\", accuracy)\n",
        "    print(\"Precision:\", precision)\n",
        "    print(\"Recall:\", recall)\n",
        "    print(\"F1-score:\", f1)\n",
        "\n",
        "    df = pd.DataFrame({'Actual': actual_url_single, 'Predicted': predicted_url_single, 'y_score':y_score})\n",
        "    df.to_csv(path_dir + \"URLNet_labels.csv\", index=False)"
      ]
    },
    {
      "cell_type": "code",
      "execution_count": null,
      "metadata": {
        "id": "I6f0ji2lGFGK"
      },
      "outputs": [],
      "source": [
        "# Huấn luyện mô hình\n",
        "print(y_train.shape)\n",
        "padded=change_data_char(X_train)\n",
        "URL_w_cw=change_data_word_char(X_train)\n",
        "combined_model.fit([padded, URL_w_cw], y_train, epochs=300, batch_size=32, validation_split=0.2)"
      ]
    },
    {
      "cell_type": "code",
      "execution_count": null,
      "metadata": {
        "id": "8Lli88gfJsVh",
        "colab": {
          "base_uri": "https://localhost:8080/"
        },
        "outputId": "ec10baac-9f63-404c-9316-b40f3b2cc477"
      },
      "outputs": [
        {
          "output_type": "stream",
          "name": "stdout",
          "text": [
            "12/12 [==============================] - 0s 3ms/step\n",
            "[[1.0000000e+00 1.0526151e-14]\n",
            " [1.0000000e+00 1.3614529e-10]\n",
            " [1.2462253e-01 8.7537754e-01]\n",
            " [9.8300320e-01 1.6996834e-02]\n",
            " [1.0000000e+00 7.9354383e-15]]\n"
          ]
        }
      ],
      "source": [
        "predict_padded=change_data_char(X_test)\n",
        "predict_URL_w_cw=change_data_word_char(X_test)\n",
        "predictions = combined_model.predict([predict_padded,predict_URL_w_cw])\n",
        "print(predictions[0:5])\n",
        "# print(predict_padded[0])"
      ]
    },
    {
      "cell_type": "code",
      "execution_count": null,
      "metadata": {
        "id": "NBgYX8sjVsMA",
        "colab": {
          "base_uri": "https://localhost:8080/"
        },
        "outputId": "1d63da9f-7017-4843-a335-1aad35114236"
      },
      "outputs": [
        {
          "output_type": "execute_result",
          "data": {
            "text/plain": [
              "array([[1., 0.],\n",
              "       [1., 0.],\n",
              "       [1., 0.],\n",
              "       [1., 0.],\n",
              "       [1., 0.]], dtype=float32)"
            ]
          },
          "metadata": {},
          "execution_count": 44
        }
      ],
      "source": [
        "y_test[0:5]"
      ]
    },
    {
      "cell_type": "code",
      "execution_count": null,
      "metadata": {
        "id": "gxxA76lZeDM7",
        "colab": {
          "base_uri": "https://localhost:8080/"
        },
        "outputId": "7c69b596-15bc-4cd7-d5ba-20d7eff48b5f"
      },
      "outputs": [
        {
          "output_type": "stream",
          "name": "stdout",
          "text": [
            "Accuracy: 0.8310249307479224\n",
            "Precision: 0.7927000140114895\n",
            "Recall: 0.8126309488177192\n",
            "F1-score: 0.8011127067132702\n"
          ]
        }
      ],
      "source": [
        "#Chuyển đổi mảng dự đoán thành các nhãn dơn lẻ\n",
        "from sklearn.metrics import accuracy_score, precision_score, recall_score, f1_score\n",
        "predicted_url_single = np.argmax(predictions, axis=1)\n",
        "actual_url_single = np.argmax(y_test, axis=1)\n",
        "accuracy = accuracy_score(actual_url_single, predicted_url_single)\n",
        "precision = precision_score(actual_url_single, predicted_url_single, average='macro')\n",
        "recall = recall_score(actual_url_single, predicted_url_single, average='macro')\n",
        "f1 = f1_score(actual_url_single, predicted_url_single, average='macro')\n",
        "\n",
        "print(\"Accuracy:\", accuracy)\n",
        "print(\"Precision:\", precision)\n",
        "print(\"Recall:\", recall)\n",
        "print(\"F1-score:\", f1)"
      ]
    },
    {
      "cell_type": "code",
      "execution_count": null,
      "metadata": {
        "id": "zZ9muv3fkyJt",
        "colab": {
          "base_uri": "https://localhost:8080/"
        },
        "outputId": "b81f01d0-15c9-4253-e510-0aafba0689c4"
      },
      "outputs": [
        {
          "output_type": "stream",
          "name": "stdout",
          "text": [
            "[0 0 1 1 0 1 0 0 1 1 0 0 0 0 1 0 1 0 1 1 0 1 0 1 0 0 0 0 0 0 0 0 1 0 0 0 1\n",
            " 1 1 0 0 1 1 0 0 1 0 1 1 1 0 1 0 1 1 1 1 0 0 1 0 0 1 0 1 1 0 0 0 0 1 0 0 0\n",
            " 0 1 1 0 0 0 0 0 0 1 0 1 0 1 1 1 0 0 0 0 1 0 0 1 0 0 0 0 0 0 1 1 1 0 0 1 0\n",
            " 0 0 0 0 0 0 1 1 0 0 1 1 0 1 1 0 1 0 1 0 0 0 1 0 1 0 0 1 0 0 1 0 0 1 1 0 1\n",
            " 1 0 1 0 0 0 1 0 0 0 1 1 0 0 1 0 1 1 0 0 0 1 0 0 0 0 1 0 1 0 0 1 1 0 0 0 0\n",
            " 0 0 0 0 1 0 0 0 1 0 1 0 0 1 1 0 0 1 0 1 1 0 1 0 0 1 1 0 1 0 0 0 1 0 0 0 1\n",
            " 1 1 1 0 1 0 0 0 0 0 0 0 1 0 1 0 0 0 1 0 0 0 0 1 0 1 1 1 0 1 1 0 0 0 0 0 0\n",
            " 0 0 1 0 0 1 0 0 0 0 1 0 0 0 0 0 0 0 0 1 1 0 1 1 0 0 0 0 1 0 0 0 0 0 0 1 0\n",
            " 0 0 0 0 0 1 1 0 0 0 0 0 1 0 0 0 0 0 1 1 0 0 1 0 0 0 0 1 1 0 0 0 0 0 0 0 0\n",
            " 1 0 0 1 1 0 0 0 1 1 0 0 0 0 0 0 0 1 1 0 0 0 0 0 0 0 0 0]\n",
            "[0 0 0 0 0 0 0 0 0 0 0 0 0 0 0 0 0 0 0 1 0 0 0 1 0 0 0 0 1 0 0 0 0 0 0 0 0\n",
            " 1 1 1 0 1 1 1 0 1 0 0 1 1 0 0 0 1 0 1 1 0 0 1 0 0 0 0 0 1 0 0 0 0 1 0 0 0\n",
            " 0 0 1 0 0 0 0 0 0 0 0 1 0 0 0 1 0 0 0 1 1 0 0 1 0 1 0 0 0 0 1 1 0 0 0 1 0\n",
            " 0 0 0 0 0 1 1 0 0 0 1 1 0 0 1 1 1 0 0 1 0 0 0 0 1 0 0 1 1 0 1 0 0 1 0 0 1\n",
            " 0 0 1 0 0 0 1 1 0 0 1 0 0 0 1 0 1 1 0 0 0 1 0 0 0 0 1 0 1 0 0 1 1 1 0 0 0\n",
            " 0 0 0 0 0 0 0 0 0 0 1 1 0 1 1 0 0 1 0 0 1 0 1 0 0 1 1 0 1 0 0 0 1 0 0 1 1\n",
            " 1 0 0 0 0 0 0 0 0 1 0 0 0 0 1 0 0 1 1 0 0 0 0 1 0 1 0 1 0 1 1 0 0 0 0 0 0\n",
            " 0 0 1 0 0 1 1 0 0 0 1 0 0 0 1 0 0 0 1 1 1 0 1 1 0 1 0 0 1 0 0 0 0 0 0 0 0\n",
            " 0 1 0 1 0 0 1 0 0 0 0 0 1 0 0 0 0 0 1 1 0 0 1 0 0 0 0 0 1 0 0 0 0 0 0 0 0\n",
            " 0 0 0 0 1 0 0 0 1 1 0 0 0 0 0 0 0 1 0 0 0 0 0 1 0 1 0 0]\n"
          ]
        }
      ],
      "source": [
        "print(predicted_url_single)\n",
        "print(actual_url_single)"
      ]
    },
    {
      "cell_type": "code",
      "execution_count": null,
      "metadata": {
        "id": "IaHhXEY0pOXq"
      },
      "outputs": [],
      "source": [
        "# import csv\n",
        "# import re\n",
        "# import requests\n",
        "# from requests.exceptions import InvalidURL\n",
        "\n",
        "# def check_url(url):\n",
        "#     # Kiểm tra tính hợp lệ của URL bằng biểu thức chính quy\n",
        "#   if re.match(r'^https?://\\S+', url):\n",
        "#       try:\n",
        "#           response = requests.head(url,timeout=3)\n",
        "#           return response.status_code==200\n",
        "#       except Exception as e:\n",
        "#           return False\n",
        "#   else:\n",
        "#       return False\n",
        "\n",
        "# # Đọc danh sách các URL từ tệp CSV\n",
        "# url_listt = pd.read_csv('/content/drive/MyDrive/PhisingURL/malicious_phish_LanLon.csv')\n",
        "# url_list=url_listt[\"url\"][130000:140000]\n",
        "\n",
        "# # Thêm scheme vào mỗi URL\n",
        "# url_list_with_scheme = ['http://' + url if not url.startswith(('http://', 'https://')) else url for url in url_list]\n",
        "\n",
        "# # Kiểm tra sự hoạt động của mỗi URL\n",
        "# count=130000\n",
        "# results = []\n",
        "# for url in url_list_with_scheme:\n",
        "#     if check_url(url):\n",
        "#       results.append([url,url_listt[\"type\"][count]])\n",
        "#       # results[url]=check_url(url)\n",
        "#       print(f\"{count}:{url}: {'hoạt động' if results else 'không hoạt động'}\")\n",
        "#     count+=1\n",
        "# # results=pd.DataFrame.from_dict(results)\n",
        "# results=pd.DataFrame(results, columns=['url', 'type'])\n",
        "# results.to_csv('/content/drive/MyDrive/PhisingURL/malicious_phish_LanLon_14.csv')\n",
        "# # # In kết quả\n",
        "# # for url, result in results.items():\n",
        "# #     print(f\"{url}: {'hoạt động' if result else 'không hoạt động'}\")\n"
      ]
    },
    {
      "cell_type": "code",
      "execution_count": null,
      "metadata": {
        "id": "SqtxlHjWuSht"
      },
      "outputs": [],
      "source": [
        "# import csv\n",
        "# import re\n",
        "# import requests\n",
        "# from requests.exceptions import InvalidURL\n",
        "\n",
        "# def check_url(url):\n",
        "#     # Kiểm tra tính hợp lệ của URL bằng biểu thức chính quy\n",
        "#       try:\n",
        "#           response = requests.head(url,timeout=3)\n",
        "#           return response.status_code==200\n",
        "#       except Exception as e:\n",
        "#           return False\n",
        "\n",
        "# # Đọc danh sách các URL từ tệp CSV\n",
        "# url_listt = pd.read_csv('/content/drive/MyDrive/PhisingURL/phished-urls_CoMien.csv')\n",
        "# url_list=url_listt[\"Url\"]\n",
        "# url_headers=url_listt.columns.tolist()\n",
        "# # Thêm scheme vào mỗi URL\n",
        "# # url_list_with_scheme = ['http://' + url if not url.startswith(('http://', 'https://')) else url for url in url_list]\n",
        "\n",
        "# # Kiểm tra sự hoạt động của mỗi URL\n",
        "# count=0\n",
        "# results = []\n",
        "# for url in url_list:\n",
        "#     if check_url(url):\n",
        "#       results.append(url_listt.iloc[count].tolist())\n",
        "#       # results[url]=check_url(url)\n",
        "#       print(f\"{count}:{url}: {'hoạt động' if results else 'không hoạt động'}\")\n",
        "#     count+=1\n",
        "# # results=pd.DataFrame.from_dict(results)\n",
        "# results=pd.DataFrame(results, columns=url_headers)\n",
        "# results.to_csv('/content/drive/MyDrive/PhisingURL/phished-urls_CoMien_1.csv')\n",
        "# # # In kết quả\n",
        "# # for url, result in results.items():\n",
        "# #     print(f\"{url}: {'hoạt động' if result else 'không hoạt động'}\")\n"
      ]
    },
    {
      "cell_type": "code",
      "execution_count": null,
      "metadata": {
        "id": "vrqYp3c5gZwT"
      },
      "outputs": [],
      "source": []
    },
    {
      "cell_type": "code",
      "execution_count": null,
      "metadata": {
        "id": "8YQRzNZmt6nb"
      },
      "outputs": [],
      "source": [
        "# import pandas as pd\n",
        "# from sklearn.model_selection import train_test_split\n",
        "\n",
        "# # Đọc dữ liệu từ file CSV vào DataFrame\n",
        "# df = pd.read_csv('/content/drive/MyDrive/PhisingURL/new_data_urls_KoMien.csv')\n",
        "\n",
        "# # Lọc các mẫu có nhãn là bad\n",
        "# df_label_0 = df[df['status'] == 1]\n",
        "\n",
        "# # Lấy mẫu ngẫu nhiên 5000 mẫu từ nhóm nhãn 0\n",
        "# sample_label_0 = df_label_0.sample(n=2000, random_state=42)\n",
        "\n",
        "# # Lọc các mẫu có nhãn là 1\n",
        "# df_label_1 = df[df['status'] == 0]\n",
        "\n",
        "# # Lấy mẫu ngẫu nhiên 5000 mẫu từ nhóm nhãn 1\n",
        "# sample_label_1 = df_label_1.sample(n=8000, random_state=42)\n",
        "\n",
        "# # Kết hợp hai mẫu lại với nhau\n",
        "# final_sample = pd.concat([sample_label_0, sample_label_1])\n",
        "\n",
        "# # Ghi ra file CSV mới\n",
        "# final_sample.to_csv('/content/drive/MyDrive/PhisingURL/data1_new_data_urls_10k.csv', index=False)\n",
        "# # Chia dữ liệu thành tập train và test\n",
        "# train_data, test_data = train_test_split(final_sample, test_size=0.2, random_state=42)\n",
        "# # Ghi ra file CSV mới\n",
        "# train_data.to_csv('/content/drive/MyDrive/PhisingURL/data1_10k_new_data_urls_train.csv', index=False)\n",
        "# # Ghi ra file CSV mới\n",
        "# test_data.to_csv('/content/drive/MyDrive/PhisingURL/data1_10k_new_data_urls_test.csv', index=False)\n"
      ]
    },
    {
      "cell_type": "code",
      "source": [
        "import shutil\n",
        "\n",
        "# Nén thư mục /content/results thành tệp results.zip\n",
        "shutil.make_archive('/content/result', 'zip', '/content/result')\n",
        "\n",
        "# Sử dụng hàm download của Google Colab để tải tệp .zip về máy\n",
        "from google.colab import files\n",
        "files.download('/content/result.zip')"
      ],
      "metadata": {
        "id": "lopH4GDuhvOE",
        "outputId": "f75c578e-4050-4d8c-9ea6-b3dc2b2425d3",
        "colab": {
          "base_uri": "https://localhost:8080/",
          "height": 17
        }
      },
      "execution_count": null,
      "outputs": [
        {
          "output_type": "display_data",
          "data": {
            "text/plain": [
              "<IPython.core.display.Javascript object>"
            ],
            "application/javascript": [
              "\n",
              "    async function download(id, filename, size) {\n",
              "      if (!google.colab.kernel.accessAllowed) {\n",
              "        return;\n",
              "      }\n",
              "      const div = document.createElement('div');\n",
              "      const label = document.createElement('label');\n",
              "      label.textContent = `Downloading \"${filename}\": `;\n",
              "      div.appendChild(label);\n",
              "      const progress = document.createElement('progress');\n",
              "      progress.max = size;\n",
              "      div.appendChild(progress);\n",
              "      document.body.appendChild(div);\n",
              "\n",
              "      const buffers = [];\n",
              "      let downloaded = 0;\n",
              "\n",
              "      const channel = await google.colab.kernel.comms.open(id);\n",
              "      // Send a message to notify the kernel that we're ready.\n",
              "      channel.send({})\n",
              "\n",
              "      for await (const message of channel.messages) {\n",
              "        // Send a message to notify the kernel that we're ready.\n",
              "        channel.send({})\n",
              "        if (message.buffers) {\n",
              "          for (const buffer of message.buffers) {\n",
              "            buffers.push(buffer);\n",
              "            downloaded += buffer.byteLength;\n",
              "            progress.value = downloaded;\n",
              "          }\n",
              "        }\n",
              "      }\n",
              "      const blob = new Blob(buffers, {type: 'application/binary'});\n",
              "      const a = document.createElement('a');\n",
              "      a.href = window.URL.createObjectURL(blob);\n",
              "      a.download = filename;\n",
              "      div.appendChild(a);\n",
              "      a.click();\n",
              "      div.remove();\n",
              "    }\n",
              "  "
            ]
          },
          "metadata": {}
        },
        {
          "output_type": "display_data",
          "data": {
            "text/plain": [
              "<IPython.core.display.Javascript object>"
            ],
            "application/javascript": [
              "download(\"download_44f2d7e3-e565-4547-bf2f-cbf48b07e33b\", \"result.zip\", 2177)"
            ]
          },
          "metadata": {}
        }
      ]
    }
  ],
  "metadata": {
    "accelerator": "GPU",
    "colab": {
      "gpuType": "T4",
      "provenance": []
    },
    "kernelspec": {
      "display_name": "Python 3",
      "name": "python3"
    },
    "language_info": {
      "name": "python"
    }
  },
  "nbformat": 4,
  "nbformat_minor": 0
}