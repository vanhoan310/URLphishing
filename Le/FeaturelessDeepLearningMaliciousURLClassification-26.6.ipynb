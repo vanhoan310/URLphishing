{
  "cells": [
    {
      "cell_type": "code",
      "execution_count": 7,
      "metadata": {
        "id": "-YECTMlfLXVr"
      },
      "outputs": [],
      "source": [
        "# Load Libraries - Make sure to run this cell!\n",
        "import pandas as pd\n",
        "import numpy as np\n",
        "import re, os\n",
        "from string import printable\n",
        "from sklearn import model_selection\n",
        "\n",
        "#import gensim\n",
        "import tensorflow as tf\n",
        "from tensorflow.keras.models import Sequential, Model, model_from_json, load_model\n",
        "from tensorflow.keras import regularizers\n",
        "from tensorflow.keras.layers import Dense, Dropout, Activation, Lambda, Flatten\n",
        "from tensorflow.keras.layers import Input, ELU, LSTM, Embedding, Conv2D, MaxPooling2D, \\\n",
        "BatchNormalization, Conv1D, MaxPooling1D, concatenate\n",
        "from tensorflow.keras.preprocessing import sequence\n",
        "from tensorflow.keras.optimizers import SGD, Adam, RMSprop\n",
        "# from keras.utils import np_utils\n",
        "from tensorflow.keras import backend as K\n",
        "import keras\n",
        "from sklearn.preprocessing import LabelEncoder\n",
        "from sklearn.metrics import f1_score\n",
        "from pathlib import Path\n",
        "import json\n",
        "from itertools import groupby\n",
        "import warnings\n",
        "warnings.filterwarnings(\"ignore\")"
      ]
    },
    {
      "cell_type": "markdown",
      "metadata": {
        "id": "sdu831H_LXVv"
      },
      "source": [
        "## Preprocess raw URLs"
      ]
    },
    {
      "cell_type": "code",
      "execution_count": 29,
      "metadata": {
        "colab": {
          "base_uri": "https://localhost:8080/"
        },
        "id": "TL2vQOGsLXVv",
        "outputId": "c7382737-6490-414f-c7b7-ac482c7896eb"
      },
      "outputs": [
        {
          "output_type": "stream",
          "name": "stdout",
          "text": [
            "2135\n"
          ]
        }
      ],
      "source": [
        "## Load data URL\n",
        "# DATA_HOME = 'data/'\n",
        "# df = pd.read_csv(DATA_HOME + 'url_data_mega_deep_learning.csv')\n",
        "#DATA_HOME = '../URLphishing/data/'\n",
        "df = pd.read_csv('URLdatasetX2_1sub5.csv')\n",
        "labels = df.iloc[:,-1].values\n",
        "label_encoder = LabelEncoder()\n",
        "labels = label_encoder.fit_transform(labels)\n",
        "df = pd.DataFrame({'url': df['url'], 'isMalicious': labels})\n",
        "# df = df.sample(n=1000)\n",
        "#df.sample(n=25).head(2)\n",
        "print(len(df))"
      ]
    },
    {
      "cell_type": "code",
      "execution_count": null,
      "metadata": {
        "colab": {
          "base_uri": "https://localhost:8080/",
          "height": 206
        },
        "id": "Zq1nEEskhloA",
        "outputId": "69cecd59-7723-4cbb-9958-b4b8dce19274"
      },
      "outputs": [
        {
          "data": {
            "application/vnd.google.colaboratory.intrinsic+json": {
              "summary": "{\n  \"name\": \"df\",\n  \"rows\": 2802,\n  \"fields\": [\n    {\n      \"column\": \"url\",\n      \"properties\": {\n        \"dtype\": \"string\",\n        \"num_unique_values\": 2801,\n        \"samples\": [\n          \"https://www.tcbk.com/\",\n          \"https://luckylkhraylbwal.blogspot.com/\",\n          \"https://www.cfbhall.com/\"\n        ],\n        \"semantic_type\": \"\",\n        \"description\": \"\"\n      }\n    },\n    {\n      \"column\": \"isMalicious\",\n      \"properties\": {\n        \"dtype\": \"number\",\n        \"std\": 0,\n        \"min\": 0,\n        \"max\": 1,\n        \"num_unique_values\": 2,\n        \"samples\": [\n          1,\n          0\n        ],\n        \"semantic_type\": \"\",\n        \"description\": \"\"\n      }\n    }\n  ]\n}",
              "type": "dataframe",
              "variable_name": "df"
            },
            "text/html": [
              "\n",
              "  <div id=\"df-b1c7ab0e-7811-412b-8977-8299f27f516b\" class=\"colab-df-container\">\n",
              "    <div>\n",
              "<style scoped>\n",
              "    .dataframe tbody tr th:only-of-type {\n",
              "        vertical-align: middle;\n",
              "    }\n",
              "\n",
              "    .dataframe tbody tr th {\n",
              "        vertical-align: top;\n",
              "    }\n",
              "\n",
              "    .dataframe thead th {\n",
              "        text-align: right;\n",
              "    }\n",
              "</style>\n",
              "<table border=\"1\" class=\"dataframe\">\n",
              "  <thead>\n",
              "    <tr style=\"text-align: right;\">\n",
              "      <th></th>\n",
              "      <th>url</th>\n",
              "      <th>isMalicious</th>\n",
              "    </tr>\n",
              "  </thead>\n",
              "  <tbody>\n",
              "    <tr>\n",
              "      <th>0</th>\n",
              "      <td>http://www.crestonwood.com/router.php</td>\n",
              "      <td>0</td>\n",
              "    </tr>\n",
              "    <tr>\n",
              "      <th>1</th>\n",
              "      <td>http://vamoaestudiarmedicina.blogspot.com/</td>\n",
              "      <td>0</td>\n",
              "    </tr>\n",
              "    <tr>\n",
              "      <th>2</th>\n",
              "      <td>https://www.astrologyonline.eu/Astro_MemoNew/P...</td>\n",
              "      <td>0</td>\n",
              "    </tr>\n",
              "    <tr>\n",
              "      <th>3</th>\n",
              "      <td>https://www.lifewire.com/tcp-port-21-818146</td>\n",
              "      <td>0</td>\n",
              "    </tr>\n",
              "    <tr>\n",
              "      <th>4</th>\n",
              "      <td>https://technofizi.net/top-best-mp3-downloader...</td>\n",
              "      <td>0</td>\n",
              "    </tr>\n",
              "  </tbody>\n",
              "</table>\n",
              "</div>\n",
              "    <div class=\"colab-df-buttons\">\n",
              "\n",
              "  <div class=\"colab-df-container\">\n",
              "    <button class=\"colab-df-convert\" onclick=\"convertToInteractive('df-b1c7ab0e-7811-412b-8977-8299f27f516b')\"\n",
              "            title=\"Convert this dataframe to an interactive table.\"\n",
              "            style=\"display:none;\">\n",
              "\n",
              "  <svg xmlns=\"http://www.w3.org/2000/svg\" height=\"24px\" viewBox=\"0 -960 960 960\">\n",
              "    <path d=\"M120-120v-720h720v720H120Zm60-500h600v-160H180v160Zm220 220h160v-160H400v160Zm0 220h160v-160H400v160ZM180-400h160v-160H180v160Zm440 0h160v-160H620v160ZM180-180h160v-160H180v160Zm440 0h160v-160H620v160Z\"/>\n",
              "  </svg>\n",
              "    </button>\n",
              "\n",
              "  <style>\n",
              "    .colab-df-container {\n",
              "      display:flex;\n",
              "      gap: 12px;\n",
              "    }\n",
              "\n",
              "    .colab-df-convert {\n",
              "      background-color: #E8F0FE;\n",
              "      border: none;\n",
              "      border-radius: 50%;\n",
              "      cursor: pointer;\n",
              "      display: none;\n",
              "      fill: #1967D2;\n",
              "      height: 32px;\n",
              "      padding: 0 0 0 0;\n",
              "      width: 32px;\n",
              "    }\n",
              "\n",
              "    .colab-df-convert:hover {\n",
              "      background-color: #E2EBFA;\n",
              "      box-shadow: 0px 1px 2px rgba(60, 64, 67, 0.3), 0px 1px 3px 1px rgba(60, 64, 67, 0.15);\n",
              "      fill: #174EA6;\n",
              "    }\n",
              "\n",
              "    .colab-df-buttons div {\n",
              "      margin-bottom: 4px;\n",
              "    }\n",
              "\n",
              "    [theme=dark] .colab-df-convert {\n",
              "      background-color: #3B4455;\n",
              "      fill: #D2E3FC;\n",
              "    }\n",
              "\n",
              "    [theme=dark] .colab-df-convert:hover {\n",
              "      background-color: #434B5C;\n",
              "      box-shadow: 0px 1px 3px 1px rgba(0, 0, 0, 0.15);\n",
              "      filter: drop-shadow(0px 1px 2px rgba(0, 0, 0, 0.3));\n",
              "      fill: #FFFFFF;\n",
              "    }\n",
              "  </style>\n",
              "\n",
              "    <script>\n",
              "      const buttonEl =\n",
              "        document.querySelector('#df-b1c7ab0e-7811-412b-8977-8299f27f516b button.colab-df-convert');\n",
              "      buttonEl.style.display =\n",
              "        google.colab.kernel.accessAllowed ? 'block' : 'none';\n",
              "\n",
              "      async function convertToInteractive(key) {\n",
              "        const element = document.querySelector('#df-b1c7ab0e-7811-412b-8977-8299f27f516b');\n",
              "        const dataTable =\n",
              "          await google.colab.kernel.invokeFunction('convertToInteractive',\n",
              "                                                    [key], {});\n",
              "        if (!dataTable) return;\n",
              "\n",
              "        const docLinkHtml = 'Like what you see? Visit the ' +\n",
              "          '<a target=\"_blank\" href=https://colab.research.google.com/notebooks/data_table.ipynb>data table notebook</a>'\n",
              "          + ' to learn more about interactive tables.';\n",
              "        element.innerHTML = '';\n",
              "        dataTable['output_type'] = 'display_data';\n",
              "        await google.colab.output.renderOutput(dataTable, element);\n",
              "        const docLink = document.createElement('div');\n",
              "        docLink.innerHTML = docLinkHtml;\n",
              "        element.appendChild(docLink);\n",
              "      }\n",
              "    </script>\n",
              "  </div>\n",
              "\n",
              "\n",
              "<div id=\"df-7b2becd1-dae8-4314-b2b3-9f1759673c9a\">\n",
              "  <button class=\"colab-df-quickchart\" onclick=\"quickchart('df-7b2becd1-dae8-4314-b2b3-9f1759673c9a')\"\n",
              "            title=\"Suggest charts\"\n",
              "            style=\"display:none;\">\n",
              "\n",
              "<svg xmlns=\"http://www.w3.org/2000/svg\" height=\"24px\"viewBox=\"0 0 24 24\"\n",
              "     width=\"24px\">\n",
              "    <g>\n",
              "        <path d=\"M19 3H5c-1.1 0-2 .9-2 2v14c0 1.1.9 2 2 2h14c1.1 0 2-.9 2-2V5c0-1.1-.9-2-2-2zM9 17H7v-7h2v7zm4 0h-2V7h2v10zm4 0h-2v-4h2v4z\"/>\n",
              "    </g>\n",
              "</svg>\n",
              "  </button>\n",
              "\n",
              "<style>\n",
              "  .colab-df-quickchart {\n",
              "      --bg-color: #E8F0FE;\n",
              "      --fill-color: #1967D2;\n",
              "      --hover-bg-color: #E2EBFA;\n",
              "      --hover-fill-color: #174EA6;\n",
              "      --disabled-fill-color: #AAA;\n",
              "      --disabled-bg-color: #DDD;\n",
              "  }\n",
              "\n",
              "  [theme=dark] .colab-df-quickchart {\n",
              "      --bg-color: #3B4455;\n",
              "      --fill-color: #D2E3FC;\n",
              "      --hover-bg-color: #434B5C;\n",
              "      --hover-fill-color: #FFFFFF;\n",
              "      --disabled-bg-color: #3B4455;\n",
              "      --disabled-fill-color: #666;\n",
              "  }\n",
              "\n",
              "  .colab-df-quickchart {\n",
              "    background-color: var(--bg-color);\n",
              "    border: none;\n",
              "    border-radius: 50%;\n",
              "    cursor: pointer;\n",
              "    display: none;\n",
              "    fill: var(--fill-color);\n",
              "    height: 32px;\n",
              "    padding: 0;\n",
              "    width: 32px;\n",
              "  }\n",
              "\n",
              "  .colab-df-quickchart:hover {\n",
              "    background-color: var(--hover-bg-color);\n",
              "    box-shadow: 0 1px 2px rgba(60, 64, 67, 0.3), 0 1px 3px 1px rgba(60, 64, 67, 0.15);\n",
              "    fill: var(--button-hover-fill-color);\n",
              "  }\n",
              "\n",
              "  .colab-df-quickchart-complete:disabled,\n",
              "  .colab-df-quickchart-complete:disabled:hover {\n",
              "    background-color: var(--disabled-bg-color);\n",
              "    fill: var(--disabled-fill-color);\n",
              "    box-shadow: none;\n",
              "  }\n",
              "\n",
              "  .colab-df-spinner {\n",
              "    border: 2px solid var(--fill-color);\n",
              "    border-color: transparent;\n",
              "    border-bottom-color: var(--fill-color);\n",
              "    animation:\n",
              "      spin 1s steps(1) infinite;\n",
              "  }\n",
              "\n",
              "  @keyframes spin {\n",
              "    0% {\n",
              "      border-color: transparent;\n",
              "      border-bottom-color: var(--fill-color);\n",
              "      border-left-color: var(--fill-color);\n",
              "    }\n",
              "    20% {\n",
              "      border-color: transparent;\n",
              "      border-left-color: var(--fill-color);\n",
              "      border-top-color: var(--fill-color);\n",
              "    }\n",
              "    30% {\n",
              "      border-color: transparent;\n",
              "      border-left-color: var(--fill-color);\n",
              "      border-top-color: var(--fill-color);\n",
              "      border-right-color: var(--fill-color);\n",
              "    }\n",
              "    40% {\n",
              "      border-color: transparent;\n",
              "      border-right-color: var(--fill-color);\n",
              "      border-top-color: var(--fill-color);\n",
              "    }\n",
              "    60% {\n",
              "      border-color: transparent;\n",
              "      border-right-color: var(--fill-color);\n",
              "    }\n",
              "    80% {\n",
              "      border-color: transparent;\n",
              "      border-right-color: var(--fill-color);\n",
              "      border-bottom-color: var(--fill-color);\n",
              "    }\n",
              "    90% {\n",
              "      border-color: transparent;\n",
              "      border-bottom-color: var(--fill-color);\n",
              "    }\n",
              "  }\n",
              "</style>\n",
              "\n",
              "  <script>\n",
              "    async function quickchart(key) {\n",
              "      const quickchartButtonEl =\n",
              "        document.querySelector('#' + key + ' button');\n",
              "      quickchartButtonEl.disabled = true;  // To prevent multiple clicks.\n",
              "      quickchartButtonEl.classList.add('colab-df-spinner');\n",
              "      try {\n",
              "        const charts = await google.colab.kernel.invokeFunction(\n",
              "            'suggestCharts', [key], {});\n",
              "      } catch (error) {\n",
              "        console.error('Error during call to suggestCharts:', error);\n",
              "      }\n",
              "      quickchartButtonEl.classList.remove('colab-df-spinner');\n",
              "      quickchartButtonEl.classList.add('colab-df-quickchart-complete');\n",
              "    }\n",
              "    (() => {\n",
              "      let quickchartButtonEl =\n",
              "        document.querySelector('#df-7b2becd1-dae8-4314-b2b3-9f1759673c9a button');\n",
              "      quickchartButtonEl.style.display =\n",
              "        google.colab.kernel.accessAllowed ? 'block' : 'none';\n",
              "    })();\n",
              "  </script>\n",
              "</div>\n",
              "\n",
              "    </div>\n",
              "  </div>\n"
            ],
            "text/plain": [
              "                                                 url  isMalicious\n",
              "0              http://www.crestonwood.com/router.php            0\n",
              "1         http://vamoaestudiarmedicina.blogspot.com/            0\n",
              "2  https://www.astrologyonline.eu/Astro_MemoNew/P...            0\n",
              "3        https://www.lifewire.com/tcp-port-21-818146            0\n",
              "4  https://technofizi.net/top-best-mp3-downloader...            0"
            ]
          },
          "execution_count": 3,
          "metadata": {},
          "output_type": "execute_result"
        }
      ],
      "source": [
        "df.head(5)"
      ]
    },
    {
      "cell_type": "code",
      "execution_count": null,
      "metadata": {
        "colab": {
          "base_uri": "https://localhost:8080/"
        },
        "id": "kTPu-P_ShJis",
        "outputId": "46f719b4-989a-4286-dde5-509670a56f76"
      },
      "outputs": [
        {
          "name": "stdout",
          "output_type": "stream",
          "text": [
            "Số lượng mẫu ban đầu: 9586\n",
            "Số lượng nhãn 0: 7346\n",
            "Số lượng nhãn 1: 1397\n",
            "Số lượng nhãn 2: 426\n"
          ]
        }
      ],
      "source": [
        "print(f\"Số lượng mẫu ban đầu: {len(df)}\")\n",
        "print(f\"Số lượng nhãn 0: {sum(df['isMalicious'] == 0)}\")\n",
        "print(f\"Số lượng nhãn 1: {sum(df['isMalicious'] == 1)}\")\n",
        "print(f\"Số lượng nhãn 2: {sum(df['isMalicious'] == 2)}\")"
      ]
    },
    {
      "cell_type": "markdown",
      "metadata": {
        "id": "fHOcJPWNh5ZU"
      },
      "source": []
    },
    {
      "cell_type": "code",
      "execution_count": 30,
      "metadata": {
        "colab": {
          "base_uri": "https://localhost:8080/"
        },
        "id": "b_-oaYQELXVw",
        "outputId": "f6f834ce-4e23-4683-f11b-b41b05a84cb9"
      },
      "outputs": [
        {
          "output_type": "stream",
          "name": "stdout",
          "text": [
            "Matrix dimensions of X:  (2135, 75) Vector dimension of target:  (2135,)\n"
          ]
        }
      ],
      "source": [
        "# Initial Data Preparation URL\n",
        "\n",
        "# Step 1: Convert raw URL string in list of lists where characters that are contained in \"printable\" are stored encoded as integer\n",
        "url_int_tokens = [[printable.index(x) + 1 for x in url if x in printable] for url in df.url]\n",
        "\n",
        "# Step 2: Cut URL string at max_len or pad with zeros if shorter\n",
        "max_len=75\n",
        "X = sequence.pad_sequences(url_int_tokens, maxlen=max_len)\n",
        "\n",
        "# Step 3: Extract labels form df to numpy array\n",
        "target = np.array(df.isMalicious)\n",
        "\n",
        "print('Matrix dimensions of X: ', X.shape, 'Vector dimension of target: ', target.shape)"
      ]
    },
    {
      "cell_type": "code",
      "execution_count": 22,
      "metadata": {
        "colab": {
          "base_uri": "https://localhost:8080/"
        },
        "id": "Jhw70flyqfEv",
        "outputId": "1819181b-68e4-49a0-bffe-3e0a39d66d28"
      },
      "outputs": [
        {
          "output_type": "execute_result",
          "data": {
            "text/plain": [
              "array([[ 0,  0,  0, ..., 26, 18, 26],\n",
              "       [ 0,  0,  0, ..., 25, 23, 77],\n",
              "       [ 0,  0,  0, ..., 11, 29, 26],\n",
              "       ...,\n",
              "       [ 0,  0,  0, ..., 30, 23, 22],\n",
              "       [77, 18, 25, ..., 24, 30, 77],\n",
              "       [11, 13, 30, ..., 24, 11, 22]], dtype=int32)"
            ]
          },
          "metadata": {},
          "execution_count": 22
        }
      ],
      "source": [
        "X"
      ]
    },
    {
      "cell_type": "code",
      "execution_count": null,
      "metadata": {
        "id": "9vCyc_SvLXVw"
      },
      "outputs": [],
      "source": [
        "# Simple Cross-Validation: Split the data set into training and test data\n",
        "# X_train, X_test, target_train, target_test = model_selection.train_test_split(X, target, test_size=0.25, random_state=33)\n",
        "n_samples = len(df.index)\n",
        "np.random.seed(0)\n",
        "train_idx = list(np.random.choice(list(range(n_samples)), int(0.8*n_samples), replace=False))\n",
        "test_idx = list(set(list(range(n_samples))).difference(set(train_idx)))\n",
        "X_train = X[train_idx]; X_test = X[test_idx]; target_train = target[train_idx]; target_test = target[test_idx]"
      ]
    },
    {
      "cell_type": "code",
      "execution_count": null,
      "metadata": {
        "colab": {
          "base_uri": "https://localhost:8080/"
        },
        "id": "AhQgq_FwqfEv",
        "outputId": "0d2c58dc-e800-4f55-bab8-2c1a34356794"
      },
      "outputs": [
        {
          "name": "stdout",
          "output_type": "stream",
          "text": [
            "Train freq:  [325, 123]\n"
          ]
        }
      ],
      "source": [
        "print(\"Train freq: \", [len(list(group)) for key, group in groupby(sorted(target_train))])"
      ]
    },
    {
      "cell_type": "markdown",
      "metadata": {
        "id": "ucimrZZiLXVx"
      },
      "source": [
        "## Architecture 1 - Simple LSTM"
      ]
    },
    {
      "cell_type": "code",
      "execution_count": 31,
      "metadata": {
        "id": "ok3tamw9LXVx"
      },
      "outputs": [],
      "source": [
        "## Deep Learning model Definition --- A --- (Simple LSTM)\n",
        "\n",
        "\n",
        "def simple_lstm(max_len=75, emb_dim=32, max_vocab_len=100, lstm_output_size=32, W_reg=regularizers.l2(1e-4)):\n",
        "    # Input\n",
        "    main_input = Input(shape=(max_len,), dtype='int32', name='main_input')\n",
        "    # Embedding layer\n",
        "    emb = Embedding(input_dim=max_vocab_len, output_dim=emb_dim, input_length=max_len, embeddings_regularizer=W_reg)(main_input)\n",
        "    emb = Dropout(0.2)(emb)\n",
        "    # LSTM layer\n",
        "    lstm = LSTM(lstm_output_size)(emb)\n",
        "    lstm = Dropout(0.5)(lstm)\n",
        "\n",
        "    # Output layer (last fully connected layer)\n",
        "    output = Dense(1, activation='sigmoid', name='output')(lstm)\n",
        "\n",
        "    # Compile model and define optimizer\n",
        "    model = Model(inputs=main_input, outputs=output)\n",
        "    # adam = Adam(lr=1e-4, beta_1=0.9, beta_2=0.999, epsilon=1e-08)\n",
        "    model.compile(optimizer='adam', loss='binary_crossentropy', metrics=[\"accuracy\"])\n",
        "\n",
        "    return model"
      ]
    },
    {
      "cell_type": "code",
      "execution_count": null,
      "metadata": {
        "colab": {
          "base_uri": "https://localhost:8080/"
        },
        "id": "xFdIIFJnLXVy",
        "outputId": "0d377ac9-514e-4f19-f903-baeb1dda2156"
      },
      "outputs": [
        {
          "name": "stdout",
          "output_type": "stream",
          "text": [
            "Epoch 1/10\n",
            "21/21 [==============================] - 3s 32ms/step - loss: 0.6908 - accuracy: 0.5849\n",
            "Epoch 2/10\n",
            "21/21 [==============================] - 1s 32ms/step - loss: 0.6804 - accuracy: 0.5463\n",
            "Epoch 3/10\n",
            "21/21 [==============================] - 1s 32ms/step - loss: 0.6266 - accuracy: 0.6605\n",
            "Epoch 4/10\n",
            "21/21 [==============================] - 1s 32ms/step - loss: 0.5174 - accuracy: 0.7948\n",
            "Epoch 5/10\n",
            "21/21 [==============================] - 1s 32ms/step - loss: 0.4606 - accuracy: 0.7978\n",
            "Epoch 6/10\n",
            "21/21 [==============================] - 1s 31ms/step - loss: 0.4239 - accuracy: 0.8117\n",
            "Epoch 7/10\n",
            "21/21 [==============================] - 1s 34ms/step - loss: 0.4031 - accuracy: 0.8333\n",
            "Epoch 8/10\n",
            "21/21 [==============================] - 1s 52ms/step - loss: 0.3807 - accuracy: 0.8395\n",
            "Epoch 9/10\n",
            "21/21 [==============================] - 1s 53ms/step - loss: 0.3721 - accuracy: 0.8349\n",
            "Epoch 10/10\n",
            "21/21 [==============================] - 1s 54ms/step - loss: 0.3523 - accuracy: 0.8565\n",
            "6/6 [==============================] - 1s 10ms/step - loss: 0.4650 - accuracy: 0.7914\n",
            "\n",
            "Final Cross-Validation Accuracy 0.7914110422134399 \n",
            "\n"
          ]
        }
      ],
      "source": [
        "# Fit model and Cross-Validation, ARCHITECTURE 1 SIMPLE LSTM\n",
        "epochs = 10\n",
        "batch_size = 32\n",
        "\n",
        "model = simple_lstm()\n",
        "model.fit(X_train, target_train, epochs=epochs, batch_size=batch_size)\n",
        "loss, accuracy = model.evaluate(X_test, target_test, verbose=1)\n",
        "\n",
        "print('\\nFinal Cross-Validation Accuracy', accuracy, '\\n')\n",
        "# print_layers_dims(model)"
      ]
    },
    {
      "cell_type": "code",
      "execution_count": 32,
      "metadata": {
        "colab": {
          "base_uri": "https://localhost:8080/"
        },
        "id": "rGpBlLPoGBx_",
        "outputId": "57894e7d-fefe-411f-a566-f3249290aeeb"
      },
      "outputs": [
        {
          "output_type": "stream",
          "name": "stdout",
          "text": [
            "Run:  0 , fold:  0\n",
            "54/54 [==============================] - 5s 42ms/step - loss: 0.3861 - accuracy: 0.9403\n",
            "14/14 [==============================] - 1s 29ms/step\n",
            "Best threshold:  0.0503397005561151\n",
            "Best F1 score:  0.16666666666666666\n",
            "[0 0 0 0 0 0 0 0 0 0 0 0 0 0 0 0 0 0 0 0 0 0 0 0 1 0 0 0 0 0 0 0 0 0 0 0 0\n",
            " 0 0 0 0 0 0 0 0 0 1 0 1 0 0 0 0 0 0 0 0 0 0 0 0 0 0 0 0 0 0 0 0 0 0 0 0 0\n",
            " 0 0 0 0 0 0 0 0 0 0 0 0 0 0 0 0 0 0 0 0 0 0 0 0 0 0 0 0 0 0 0 0 0 0 0 0 0\n",
            " 0 0 0 0 0 0 0 0 0 1 1 0 0 0 0 0 0 0 0 0 0 0 0 0 0 0 0 0 0 0 0 0 0 0 0 0 1\n",
            " 0 0 0 0 0 0 0 0 0 0 1 0 0 0 0 0 0 0 0 0 0 0 0 0 0 0 0 0 0 0 0 0 0 0 0 0 0\n",
            " 0 0 0 0 0 0 0 0 1 0 0 0 0 0 0 1 0 0 0 0 1 1 0 0 0 0 0 0 0 0 0 0 0 0 0 0 0\n",
            " 0 0 0 0 0 0 0 0 0 0 0 0 0 0 0 0 0 1 0 0 0 0 0 0 0 0 1 0 0 0 0 0 0 0 0 0 0\n",
            " 0 0 0 0 0 0 0 0 0 0 0 0 0 0 0 0 0 0 0 0 0 0 0 0 0 0 0 0 0 0 0 0 0 0 1 0 0\n",
            " 0 0 0 0 0 0 1 0 0 0 0 0 0 0 0 0 0 0 0 0 0 0 0 0 0 0 0 0 0 0 0 0 0 0 0 0 0\n",
            " 0 0 0 0 0 0 0 0 0 0 0 0 0 0 0 0 0 0 0 0 0 0 0 0 0 0 0 0 0 1 0 0 0 0 0 0 0\n",
            " 0 0 0 0 0 0 0 0 0 0 0 0 0 0 0 0 0 0 0 0 0 0 0 0 0 0 0 0 0 0 0 0 0 0 0 0 0\n",
            " 0 0 0 0 0 0 0 1 0 0 1 0 0 0 0 0 0 0 0 0]\n",
            "Run:  0 , fold:  1\n",
            "54/54 [==============================] - 7s 37ms/step - loss: 0.3723 - accuracy: 0.9368\n",
            "14/14 [==============================] - 1s 9ms/step\n",
            "Best threshold:  0.028440255279603758\n",
            "Best F1 score:  0.26315789473684215\n",
            "[0 0 0 0 0 0 0 0 0 0 0 0 0 0 0 1 0 0 0 0 0 0 0 0 0 0 0 0 0 0 0 0 0 0 0 0 0\n",
            " 0 0 0 0 0 0 0 0 0 0 0 0 0 0 0 0 0 0 0 0 0 0 0 0 0 0 0 0 0 0 0 0 0 0 0 0 0\n",
            " 0 0 0 0 0 0 0 0 0 0 0 0 0 0 0 0 0 0 0 0 0 0 0 0 0 0 0 0 0 0 0 0 0 0 0 0 0\n",
            " 0 0 0 0 0 0 0 0 0 0 0 1 0 0 0 0 0 0 0 0 0 0 0 0 0 0 0 0 0 0 0 0 0 0 0 0 0\n",
            " 0 1 0 0 0 0 0 0 0 0 0 0 0 0 0 0 0 0 0 0 0 0 0 0 0 0 0 0 0 0 0 0 0 0 0 0 0\n",
            " 0 0 0 0 0 0 0 0 0 0 1 0 0 0 0 0 0 0 0 0 0 0 0 0 0 0 0 0 0 0 0 0 0 1 0 0 0\n",
            " 0 0 1 0 0 0 0 0 0 0 0 0 0 0 0 0 0 0 0 0 0 0 0 0 0 0 0 0 0 0 0 0 0 0 0 0 0\n",
            " 0 0 0 0 0 0 0 0 0 0 0 0 0 0 0 0 0 0 0 0 0 0 0 0 0 0 0 0 0 0 0 0 0 0 0 0 0\n",
            " 0 0 0 0 0 0 0 0 0 0 0 0 0 0 0 0 0 0 0 0 0 0 0 0 0 0 0 0 1 0 0 0 1 0 0 0 0\n",
            " 0 0 0 0 0 0 0 0 0 0 0 0 0 0 0 0 0 0 0 0 0 0 0 0 0 0 0 0 0 0 0 0 0 0 0 0 0\n",
            " 0 0 0 0 0 0 1 0 0 0 0 0 0 0 0 0 0 0 0 0 0 0 0 0 0 0 0 0 0 0 0 0 0 0 0 0 0\n",
            " 0 0 0 0 0 0 0 0 0 0 0 0 0 0 0 0 0 0 0 0]\n",
            "Run:  0 , fold:  2\n",
            "54/54 [==============================] - 9s 92ms/step - loss: 0.3595 - accuracy: 0.9368\n",
            "14/14 [==============================] - 1s 9ms/step\n",
            "Best threshold:  0.02737279334350636\n",
            "Best F1 score:  0.10309278350515462\n",
            "[0 0 0 1 0 0 0 0 0 0 0 0 0 0 0 0 0 0 1 0 0 0 0 0 0 1 0 0 0 0 1 0 1 0 0 1 0\n",
            " 0 0 0 0 0 0 1 0 0 0 1 0 0 0 0 0 0 0 0 0 0 1 0 1 0 0 0 0 0 0 1 0 0 0 0 1 0\n",
            " 0 0 0 0 0 0 0 0 0 0 0 0 0 0 0 0 0 1 0 0 0 0 1 0 0 0 0 0 0 0 0 0 0 1 0 1 0\n",
            " 0 0 0 0 0 0 0 0 0 0 0 0 0 0 0 1 0 0 1 0 0 0 1 0 0 0 0 0 0 0 0 0 0 0 0 0 0\n",
            " 0 0 0 1 0 0 0 1 1 0 0 1 0 1 0 0 1 0 0 0 0 0 1 0 1 0 1 0 0 0 1 0 1 1 1 0 1\n",
            " 1 0 1 1 1 0 0 0 0 0 0 1 1 1 0 0 0 0 1 1 0 0 0 0 0 0 0 0 0 0 1 0 0 0 0 0 0\n",
            " 0 0 0 0 0 0 0 1 0 0 0 0 0 0 0 0 0 0 0 0 1 0 0 1 0 1 1 0 1 0 0 1 1 0 0 1 0\n",
            " 0 0 0 1 0 0 0 0 1 1 1 0 0 0 0 0 1 0 0 0 0 0 0 0 0 0 0 0 0 0 0 0 0 0 1 0 0\n",
            " 0 0 1 1 1 0 1 0 1 0 0 0 0 0 0 0 1 0 0 0 0 0 0 0 0 0 0 0 0 0 0 0 0 1 1 0 0\n",
            " 0 1 0 0 0 0 0 0 1 1 0 1 0 0 0 0 0 0 0 0 0 0 1 1 0 0 0 0 1 0 1 0 0 0 0 0 1\n",
            " 0 0 0 0 0 0 0 0 0 1 0 0 0 0 0 0 0 0 0 0 0 0 0 0 1 0 1 0 1 0 0 0 0 0 0 0 0\n",
            " 0 0 0 0 0 0 0 0 0 1 0 0 0 0 1 1 0 1 0 0]\n",
            "Run:  0 , fold:  3\n",
            "54/54 [==============================] - 5s 45ms/step - loss: 0.3621 - accuracy: 0.9426\n",
            "14/14 [==============================] - 1s 10ms/step\n",
            "Best threshold:  0.02806607525991766\n",
            "Best F1 score:  0.28169014084507044\n",
            "[0 1 0 0 0 0 0 0 0 0 0 0 0 0 0 0 0 0 0 0 0 1 0 0 0 0 0 0 0 0 0 0 1 0 0 0 0\n",
            " 0 0 0 0 0 0 0 0 0 0 0 0 1 0 0 0 0 0 0 1 0 0 0 0 0 0 0 0 0 0 0 0 0 0 0 1 0\n",
            " 1 0 0 0 0 0 0 0 0 0 1 0 0 0 0 0 0 0 0 0 0 0 0 1 1 0 0 1 0 0 0 0 0 0 0 1 0\n",
            " 0 0 0 0 0 0 0 0 1 0 1 0 0 0 1 0 0 0 0 0 0 0 0 1 0 0 0 0 0 0 0 0 1 0 0 0 0\n",
            " 0 1 0 0 0 0 0 1 0 0 0 0 0 0 0 0 0 0 0 0 0 0 0 0 0 0 0 0 0 0 0 0 1 0 0 1 1\n",
            " 0 0 0 0 0 0 0 0 0 0 0 1 0 0 1 0 0 0 0 0 1 0 0 0 0 0 0 0 0 0 0 0 0 1 0 0 0\n",
            " 0 0 0 0 0 0 1 0 0 0 0 0 0 0 0 0 0 0 1 0 1 0 0 0 0 0 0 0 1 0 0 0 0 0 0 0 0\n",
            " 0 0 0 0 0 0 0 0 0 1 0 0 0 1 1 0 0 0 0 0 0 0 0 0 0 0 0 0 0 0 0 0 0 0 0 0 0\n",
            " 0 0 0 0 0 0 0 0 0 0 0 0 0 0 0 0 0 0 0 0 1 0 0 0 0 0 0 0 0 0 0 0 0 0 0 0 0\n",
            " 0 0 1 0 0 1 0 0 0 0 1 0 0 0 0 0 0 0 1 0 0 0 0 1 0 0 0 0 0 0 0 0 0 0 0 0 0\n",
            " 0 0 0 0 1 0 0 0 0 1 0 0 0 0 0 0 0 0 0 0 1 1 0 0 0 0 0 0 0 0 0 0 0 0 0 0 1\n",
            " 0 0 0 0 0 0 0 0 0 0 1 0 0 0 0 0 1 0 0 0]\n",
            "Run:  0 , fold:  4\n",
            "54/54 [==============================] - 4s 34ms/step - loss: 0.3663 - accuracy: 0.9344\n",
            "14/14 [==============================] - 1s 9ms/step\n",
            "Best threshold:  0.03502953836792394\n",
            "Best F1 score:  0.2033898305084746\n",
            "[0 0 0 0 0 0 1 0 0 0 1 0 1 0 0 0 0 0 0 0 0 0 0 0 0 0 0 0 0 0 0 0 0 0 0 0 0\n",
            " 1 0 0 0 0 0 0 0 0 0 0 0 0 0 0 0 0 0 0 1 0 0 0 0 0 0 0 0 0 0 0 0 0 0 0 0 0\n",
            " 0 0 0 1 1 1 0 0 0 0 0 0 0 0 0 0 0 0 0 1 0 0 0 0 0 0 0 0 0 0 0 0 0 0 0 0 0\n",
            " 0 0 0 0 0 0 0 1 1 0 1 0 1 0 0 0 0 0 0 0 0 0 0 0 0 0 0 0 0 0 0 0 0 1 0 0 0\n",
            " 0 0 0 0 0 0 1 0 0 1 0 0 0 0 0 1 0 0 0 0 0 0 0 0 1 0 0 0 0 0 0 0 0 1 0 0 0\n",
            " 0 0 0 0 0 0 1 0 0 0 0 0 0 0 0 0 0 0 0 0 1 0 0 1 0 0 0 0 0 0 0 0 0 0 0 0 1\n",
            " 0 0 1 0 0 0 0 1 0 0 0 0 0 0 0 0 0 0 0 1 0 1 1 0 0 0 0 0 0 0 0 0 0 0 0 0 0\n",
            " 0 0 0 0 0 1 0 0 0 0 0 0 0 0 0 0 0 0 0 0 0 0 0 0 0 0 0 0 0 0 0 0 0 1 0 0 0\n",
            " 1 0 0 0 0 0 0 0 0 0 0 0 0 0 0 0 0 0 0 1 0 0 0 0 0 0 0 0 1 0 0 0 0 1 0 1 0\n",
            " 0 0 0 0 0 0 0 0 0 0 1 0 0 0 0 0 0 0 0 0 0 0 0 0 0 0 0 0 0 0 0 0 0 1 0 0 0\n",
            " 0 0 0 0 0 0 0 0 0 0 0 0 0 0 0 0 0 0 1 1 0 0 0 0 0 0 0 0 0 0 0 0 0 0 0 0 0\n",
            " 0 0 0 0 0 0 0 0 0 0 0 0 0 0 0 0 0 0 0 0]\n"
          ]
        }
      ],
      "source": [
        "\n",
        "from sklearn.model_selection import KFold\n",
        "base_dir = 'results'\n",
        "n_loops = 1\n",
        "n_folds = 5\n",
        "n_samples = X.shape[0]\n",
        "for i in range(n_loops):\n",
        "  cv = KFold(n_splits=n_folds, shuffle=True, random_state = i)\n",
        "  for fold, (train_idx, test_idx) in enumerate(cv.split(X,target)):\n",
        "    path_dir = base_dir +'/' + \"URLdatasetX2_1sub5\" + '_run_'+str(i)+'_'+ 'fold_'+str(fold)+'_'\n",
        "    print('Run: ', i, ', fold: ', fold)\n",
        "    X_train = X[train_idx]\n",
        "    X_test = X[test_idx]\n",
        "    y_train = target[train_idx]\n",
        "    y_test = target[test_idx]\n",
        "    model = simple_lstm()\n",
        "    model.fit(X_train, y_train)\n",
        "    y_pred_score = model.predict(X_test).flatten()\n",
        "\n",
        "    # Chia giá trị từ min đến max thành 20 đoạn\n",
        "    thresholds = np.linspace(y_pred_score.min(), y_pred_score.max(), 20)\n",
        "\n",
        "    best_threshold = 0\n",
        "    best_f1 = 0\n",
        "\n",
        "    # Duyệt qua các threshold để tìm threshold có f1_score tốt nhất\n",
        "    for threshold in thresholds:\n",
        "        y_predict = (y_pred_score > threshold).astype(int)\n",
        "        score = f1_score(y_test, y_predict, pos_label=1, zero_division=0.0)\n",
        "        if score > best_f1:\n",
        "            best_f1 = score\n",
        "            best_threshold = threshold\n",
        "\n",
        "    print(\"Best threshold: \", best_threshold)\n",
        "    print(\"Best F1 score: \", best_f1)\n",
        "    y_predict = (y_pred_score > best_threshold).astype(int)\n",
        "    print(y_predict)\n",
        "\n",
        "    df = pd.DataFrame({'Actual': y_test, 'Predicted': y_predict, 'y_score': y_pred_score})\n",
        "    df.to_csv(path_dir + \"LSTM_labels.csv\", index=False)\n",
        "\n"
      ]
    },
    {
      "cell_type": "code",
      "execution_count": null,
      "metadata": {
        "id": "m1UohCKlaXbT"
      },
      "outputs": [],
      "source": [
        "def save_predictions_to_csv(true_labels, predicted_labels, filename):\n",
        "    # Tạo dataframe từ danh sách các nhãn\n",
        "    df = pd.DataFrame({\n",
        "        'True Label': true_labels,\n",
        "        'Predicted Label': predicted_labels\n",
        "    })\n",
        "\n",
        "    # Lưu dataframe vào file CSV\n",
        "    df.to_csv(filename, index=False)\n",
        "\n"
      ]
    },
    {
      "cell_type": "code",
      "execution_count": null,
      "metadata": {
        "colab": {
          "base_uri": "https://localhost:8080/"
        },
        "id": "f618LP8VqfEw",
        "outputId": "1ec2fa58-918f-472b-ea4e-10a7c0c6fd0e"
      },
      "outputs": [
        {
          "name": "stdout",
          "output_type": "stream",
          "text": [
            "18/18 [==============================] - 1s 26ms/step\n",
            "F1 score:  0.8409090909090908\n"
          ]
        }
      ],
      "source": [
        "y_pred = tf.argmax(model.predict(X_test), axis=-1)\n",
        "print(\"F1 score: \", f1_score(y_pred, target_test, average='weighted'))\n",
        "# Kiểm tra định dạng của target_test\n",
        "if target_test.ndim > 1 and target_test.shape[1] > 1:\n",
        "    target_test = tf.argmax(target_test, axis=-1)\n",
        "    print(\"true\")\n",
        "\n",
        "save_predictions_to_csv(target_test, y_pred, 'PredictionsSimpleLSTM.csv')"
      ]
    },
    {
      "cell_type": "code",
      "execution_count": null,
      "metadata": {
        "colab": {
          "base_uri": "https://localhost:8080/"
        },
        "id": "krv6q7WTfwV3",
        "outputId": "bcfd311e-5b1e-42e8-f416-7d23af21888b"
      },
      "outputs": [
        {
          "name": "stdout",
          "output_type": "stream",
          "text": [
            "561\n",
            "2241\n",
            "0\n"
          ]
        }
      ],
      "source": [
        "print(len(target_test))\n",
        "print(len(target_train))\n",
        "print(target_test[1])"
      ]
    },
    {
      "cell_type": "code",
      "execution_count": null,
      "metadata": {
        "colab": {
          "base_uri": "https://localhost:8080/",
          "height": 193
        },
        "id": "opi7uHwyLXVz",
        "outputId": "284b5dde-46f6-44c1-98c7-7c3bff72a6fb"
      },
      "outputs": [
        {
          "ename": "NameError",
          "evalue": "name 'DATA_HOME' is not defined",
          "output_type": "error",
          "traceback": [
            "\u001b[0;31m---------------------------------------------------------------------------\u001b[0m",
            "\u001b[0;31mNameError\u001b[0m                                 Traceback (most recent call last)",
            "\u001b[0;32m<ipython-input-16-9910c2a340d2>\u001b[0m in \u001b[0;36m<cell line: 4>\u001b[0;34m()\u001b[0m\n\u001b[1;32m      2\u001b[0m \u001b[0;31m# save_model(DATA_HOME + model_name + \".json\", DATA_HOME + model_name + \".h5\")\u001b[0m\u001b[0;34m\u001b[0m\u001b[0;34m\u001b[0m\u001b[0m\n\u001b[1;32m      3\u001b[0m \u001b[0;31m# model = load_model(DATA_HOME + model_name + \".json\", DATA_HOME + model_name + \".h5\")\u001b[0m\u001b[0;34m\u001b[0m\u001b[0;34m\u001b[0m\u001b[0m\n\u001b[0;32m----> 4\u001b[0;31m \u001b[0mmodel\u001b[0m\u001b[0;34m.\u001b[0m\u001b[0msave\u001b[0m\u001b[0;34m(\u001b[0m\u001b[0mDATA_HOME\u001b[0m \u001b[0;34m+\u001b[0m \u001b[0mmodel_name\u001b[0m \u001b[0;34m+\u001b[0m \u001b[0;34m\".keras\"\u001b[0m\u001b[0;34m)\u001b[0m\u001b[0;34m\u001b[0m\u001b[0;34m\u001b[0m\u001b[0m\n\u001b[0m\u001b[1;32m      5\u001b[0m \u001b[0mmodel\u001b[0m \u001b[0;34m=\u001b[0m \u001b[0mkeras\u001b[0m\u001b[0;34m.\u001b[0m\u001b[0mmodels\u001b[0m\u001b[0;34m.\u001b[0m\u001b[0mload_model\u001b[0m\u001b[0;34m(\u001b[0m\u001b[0mDATA_HOME\u001b[0m \u001b[0;34m+\u001b[0m \u001b[0mmodel_name\u001b[0m \u001b[0;34m+\u001b[0m \u001b[0;34m\".keras\"\u001b[0m\u001b[0;34m)\u001b[0m\u001b[0;34m\u001b[0m\u001b[0;34m\u001b[0m\u001b[0m\n",
            "\u001b[0;31mNameError\u001b[0m: name 'DATA_HOME' is not defined"
          ]
        }
      ],
      "source": [
        "model_name = \"deeplearning_LSTM\"\n",
        "# save_model(DATA_HOME + model_name + \".json\", DATA_HOME + model_name + \".h5\")\n",
        "# model = load_model(DATA_HOME + model_name + \".json\", DATA_HOME + model_name + \".h5\")\n",
        "model.save(DATA_HOME + model_name + \".keras\")\n",
        "model = keras.models.load_model(DATA_HOME + model_name + \".keras\")"
      ]
    },
    {
      "cell_type": "markdown",
      "metadata": {
        "id": "seHKI0fdLXVz"
      },
      "source": [
        "## Architecture 2 - 1D Convolution and LSTM"
      ]
    },
    {
      "cell_type": "code",
      "execution_count": 33,
      "metadata": {
        "id": "LNBmTYAXLXVz"
      },
      "outputs": [],
      "source": [
        "## Deep Learning model Definition --- B --- (1D Convolution and LSTM)\n",
        "\n",
        "def lstm_conv(max_len=75, emb_dim=32, max_vocab_len=100, lstm_output_size=32, W_reg=regularizers.l2(1e-4)):\n",
        "    # Input\n",
        "    main_input = Input(shape=(max_len,), dtype='int32', name='main_input')\n",
        "    # Embedding layer\n",
        "    emb = Embedding(input_dim=max_vocab_len, output_dim=emb_dim, input_length=max_len,\n",
        "                embeddings_regularizer=W_reg)(main_input)\n",
        "    emb = Dropout(0.25)(emb)\n",
        "\n",
        "    # Conv layer\n",
        "    conv = Conv1D(kernel_size=5, filters=256, \\\n",
        "                     padding ='same')(emb)\n",
        "    conv = ELU()(conv)\n",
        "\n",
        "    conv = MaxPooling1D(pool_size=4)(conv)\n",
        "    conv = Dropout(0.5)(conv)\n",
        "\n",
        "    # LSTM layer\n",
        "    lstm = LSTM(lstm_output_size)(conv)\n",
        "    lstm = Dropout(0.5)(lstm)\n",
        "\n",
        "    # Output layer (last fully connected layer)\n",
        "    output = Dense(1, activation='sigmoid', name='output')(lstm)\n",
        "\n",
        "    # Compile model and define optimizer\n",
        "    model = Model(inputs=main_input, outputs=output)\n",
        "    adam = Adam(learning_rate=1e-4, beta_1=0.9, beta_2=0.999, epsilon=1e-08)\n",
        "    model.compile(optimizer=adam, loss='binary_crossentropy', metrics=['accuracy'])\n",
        "    return model"
      ]
    },
    {
      "cell_type": "code",
      "execution_count": null,
      "metadata": {
        "colab": {
          "base_uri": "https://localhost:8080/"
        },
        "id": "gbnZRX6HLXVz",
        "outputId": "7cd47b76-7bcd-4a20-cd80-d889056d8db5"
      },
      "outputs": [
        {
          "name": "stdout",
          "output_type": "stream",
          "text": [
            "Epoch 1/5\n",
            "14/14 [==============================] - 3s 34ms/step - loss: 0.6773 - accuracy: 0.7031\n",
            "Epoch 2/5\n",
            "14/14 [==============================] - 0s 31ms/step - loss: 0.6586 - accuracy: 0.7254\n",
            "Epoch 3/5\n",
            "14/14 [==============================] - 0s 34ms/step - loss: 0.6405 - accuracy: 0.7254\n",
            "Epoch 4/5\n",
            "14/14 [==============================] - 0s 32ms/step - loss: 0.6154 - accuracy: 0.7254\n",
            "Epoch 5/5\n",
            "14/14 [==============================] - 0s 35ms/step - loss: 0.5996 - accuracy: 0.7254\n",
            "4/4 [==============================] - 0s 10ms/step - loss: 0.2753 - accuracy: 0.9196\n",
            "\n",
            "Final Cross-Validation Accuracy 0.9196428656578064 \n",
            "\n"
          ]
        }
      ],
      "source": [
        "# Fit model and Cross-Validation, ARCHITECTURE 2 CONV + LSTM\n",
        "epochs = 5\n",
        "batch_size = 32\n",
        "\n",
        "model2 = lstm_conv()\n",
        "model2.fit(X_train, target_train, epochs=epochs, batch_size=batch_size)\n",
        "loss, accuracy = model.evaluate(X_test, target_test, verbose=1)\n",
        "\n",
        "print('\\nFinal Cross-Validation Accuracy', accuracy, '\\n')\n",
        "# print_layers_dims(model)"
      ]
    },
    {
      "cell_type": "code",
      "execution_count": 34,
      "metadata": {
        "colab": {
          "base_uri": "https://localhost:8080/"
        },
        "id": "QKeeALPYPGh5",
        "outputId": "118a83a5-a6f1-47f7-a297-06e830eaae11"
      },
      "outputs": [
        {
          "output_type": "stream",
          "name": "stdout",
          "text": [
            "Run:  0 , fold:  0\n",
            "54/54 [==============================] - 6s 41ms/step - loss: 0.6167 - accuracy: 0.8975\n",
            "14/14 [==============================] - 0s 10ms/step\n",
            "Best threshold:  0.0353375628198448\n",
            "Best F1 score:  0.20512820512820512\n",
            "[0 0 0 0 0 0 0 0 0 0 0 0 0 0 0 0 0 0 0 0 0 0 1 0 1 0 0 0 0 0 0 0 0 0 0 0 0\n",
            " 0 0 0 0 0 0 0 0 0 1 0 1 0 0 0 0 0 0 0 0 1 0 0 0 0 0 0 0 0 0 0 0 0 0 0 0 0\n",
            " 0 0 0 0 0 0 0 0 0 0 0 0 0 0 0 0 0 0 0 0 0 0 0 0 1 0 0 0 0 0 0 0 0 0 0 0 0\n",
            " 0 0 0 0 0 0 0 0 0 1 0 0 0 0 0 0 0 0 0 0 0 0 0 0 0 0 0 0 0 0 0 0 0 0 0 0 1\n",
            " 0 0 0 0 0 0 0 0 0 0 0 0 0 0 0 0 0 0 0 0 0 0 0 0 0 0 0 0 0 0 0 0 0 0 0 1 0\n",
            " 0 0 0 0 0 0 0 0 1 0 0 0 0 0 0 1 0 0 0 1 0 0 0 0 0 0 0 0 0 0 0 0 0 1 0 0 0\n",
            " 0 0 0 0 0 0 0 0 0 0 0 0 0 1 0 0 0 1 0 0 0 0 0 0 0 0 1 0 0 0 0 0 0 0 0 0 0\n",
            " 0 0 0 0 0 0 0 0 0 0 0 0 0 0 0 0 0 0 0 0 0 0 0 0 0 0 0 0 0 0 0 0 0 0 0 0 0\n",
            " 0 0 0 0 0 0 1 0 0 0 0 0 0 0 0 0 0 0 0 0 0 0 0 0 0 0 0 0 0 0 0 0 0 0 0 0 0\n",
            " 0 0 0 0 0 1 0 0 0 0 0 0 0 0 0 0 0 0 0 0 0 0 0 0 0 0 0 0 0 1 0 0 0 0 0 0 0\n",
            " 0 0 0 0 0 0 0 0 0 0 0 0 0 0 0 0 0 0 0 0 0 0 0 0 0 0 0 0 0 0 0 0 0 0 0 0 0\n",
            " 0 0 0 0 0 0 0 1 0 0 1 0 0 0 0 0 0 0 0 0]\n",
            "Run:  0 , fold:  1\n",
            "54/54 [==============================] - 5s 38ms/step - loss: 0.5572 - accuracy: 0.9415\n",
            "14/14 [==============================] - 0s 10ms/step\n",
            "Best threshold:  0.03518715089088992\n",
            "Best F1 score:  0.22950819672131145\n",
            "[0 0 0 0 0 0 0 0 0 0 0 0 0 0 0 1 0 0 0 0 0 0 0 0 0 0 0 0 0 0 0 0 0 0 0 0 1\n",
            " 0 0 0 0 0 0 0 0 0 0 0 0 0 0 0 0 0 0 0 0 0 0 0 0 0 0 0 0 1 0 0 0 0 0 0 0 0\n",
            " 0 0 0 0 0 0 0 0 0 0 0 0 1 0 0 0 0 0 0 0 0 0 0 0 0 0 0 0 0 0 0 0 0 0 0 0 1\n",
            " 0 0 0 0 1 0 0 1 0 0 0 1 0 0 0 0 0 0 0 0 0 0 0 0 0 0 0 0 0 0 0 0 0 0 0 0 0\n",
            " 0 1 0 0 1 0 0 0 0 0 0 0 0 0 0 0 0 0 0 0 1 0 0 1 0 1 0 0 0 0 0 0 0 0 0 0 0\n",
            " 0 1 0 0 0 0 1 0 0 0 1 0 0 0 0 0 0 0 0 0 0 0 0 0 0 0 0 0 0 0 0 0 0 1 0 0 0\n",
            " 0 0 1 0 0 0 0 0 0 0 0 0 1 0 0 1 0 1 0 0 0 0 0 0 0 0 0 0 0 0 0 0 0 0 0 0 0\n",
            " 1 0 0 0 0 0 0 0 0 0 0 0 0 0 0 0 0 0 0 0 0 0 0 0 0 0 0 0 0 0 0 0 0 0 1 0 0\n",
            " 0 0 0 0 0 0 0 0 0 0 0 0 0 0 0 0 0 0 0 0 0 0 0 0 0 0 0 0 1 0 0 0 1 0 0 0 0\n",
            " 0 0 0 0 0 0 0 0 1 0 0 0 0 0 0 0 0 1 1 0 0 0 0 0 0 0 0 0 0 0 0 0 0 0 0 0 0\n",
            " 0 0 0 0 0 0 1 0 0 0 0 0 0 0 0 0 0 0 0 0 0 0 0 0 0 0 0 0 0 0 0 0 0 0 0 0 0\n",
            " 0 0 0 0 0 0 0 0 0 0 1 0 0 0 0 0 1 1 0 0]\n",
            "Run:  0 , fold:  2\n",
            "54/54 [==============================] - 6s 54ms/step - loss: 0.6018 - accuracy: 0.8964\n",
            "14/14 [==============================] - 0s 9ms/step\n",
            "Best threshold:  0.03481941630965785\n",
            "Best F1 score:  0.1111111111111111\n",
            "[0 1 0 1 0 1 0 0 0 0 0 0 0 0 0 0 0 0 0 0 0 0 0 0 0 0 0 0 0 0 1 0 0 0 0 0 0\n",
            " 0 0 0 0 0 0 1 0 0 0 1 0 0 0 0 0 0 0 0 0 0 1 0 0 0 0 0 0 0 0 1 0 0 0 0 1 0\n",
            " 0 0 0 0 1 0 0 0 0 0 0 0 0 0 0 0 0 0 0 0 0 0 1 0 0 0 0 1 0 0 1 0 0 0 0 0 0\n",
            " 0 0 0 1 0 0 0 0 0 0 0 0 0 0 0 1 0 0 1 0 0 0 1 0 0 0 1 0 0 0 0 0 0 1 0 0 0\n",
            " 0 0 0 1 0 0 0 0 0 0 0 1 1 0 0 0 0 0 0 0 1 0 1 0 0 1 1 0 1 0 0 0 0 1 1 0 1\n",
            " 0 0 0 0 1 0 0 0 0 0 0 0 1 0 0 0 0 1 0 1 0 0 0 0 0 0 0 0 0 0 1 0 0 0 0 0 0\n",
            " 0 0 0 0 0 0 0 1 0 0 0 0 0 0 0 0 0 0 0 0 0 0 0 1 0 1 0 0 0 0 0 1 1 0 0 0 0\n",
            " 0 0 0 0 0 1 0 0 0 1 0 0 0 0 0 0 1 0 0 0 1 0 0 0 0 0 0 0 0 0 0 0 0 0 0 0 0\n",
            " 0 0 0 0 0 0 0 0 1 0 0 0 0 0 0 0 0 0 0 0 0 0 0 1 0 0 0 1 0 0 0 0 0 1 0 1 0\n",
            " 0 0 0 0 0 0 0 1 0 0 0 0 0 0 0 0 0 0 0 0 0 0 0 0 0 0 0 0 1 0 1 0 0 0 0 0 1\n",
            " 1 0 0 0 0 0 0 0 0 0 0 0 0 0 0 0 0 0 0 0 0 0 0 0 0 0 1 0 0 0 0 0 0 0 0 0 0\n",
            " 0 0 1 0 0 0 0 0 0 1 0 0 0 0 0 1 0 0 0 0]\n",
            "Run:  0 , fold:  3\n",
            "54/54 [==============================] - 5s 37ms/step - loss: 0.6227 - accuracy: 0.9239\n",
            "14/14 [==============================] - 0s 10ms/step\n",
            "Best threshold:  0.03464620344732937\n",
            "Best F1 score:  0.27450980392156865\n",
            "[1 1 0 1 0 0 0 0 0 0 0 0 0 0 0 1 0 0 0 0 0 1 0 0 0 0 0 0 0 0 0 0 1 0 0 0 0\n",
            " 0 0 0 0 0 0 0 0 1 0 0 0 1 0 0 0 0 1 0 1 0 0 0 1 0 0 0 0 0 0 0 0 0 0 0 1 0\n",
            " 0 0 0 0 0 0 0 0 0 1 1 0 0 0 0 0 0 0 0 0 0 0 0 1 1 0 0 1 0 0 0 0 0 0 0 1 0\n",
            " 0 0 0 0 0 0 0 0 0 0 1 1 0 0 1 1 1 0 0 0 0 0 0 1 1 0 0 0 0 0 0 0 0 0 0 0 0\n",
            " 0 1 1 0 0 0 0 1 0 0 0 0 1 0 0 0 0 0 0 0 0 0 0 1 0 0 0 1 0 0 0 0 1 0 0 1 1\n",
            " 0 0 0 0 0 0 0 0 0 0 0 1 0 0 1 0 0 0 0 0 1 0 0 1 0 0 0 0 0 0 0 0 0 1 0 0 0\n",
            " 0 0 0 0 0 0 1 0 0 0 0 0 0 0 0 0 0 0 1 0 1 0 0 0 0 0 0 0 0 0 0 0 0 0 0 0 0\n",
            " 0 0 0 0 0 0 0 0 0 1 0 0 0 1 1 1 0 0 1 0 0 0 0 1 0 0 0 0 0 0 0 0 0 0 0 0 0\n",
            " 0 0 0 0 0 0 0 1 0 0 1 0 0 0 0 0 0 0 0 0 1 0 0 1 0 0 1 0 0 0 0 0 0 0 0 0 0\n",
            " 0 1 1 0 1 1 0 0 0 0 1 0 0 1 0 0 0 0 1 0 0 1 0 1 0 0 0 0 0 0 0 0 0 0 0 0 0\n",
            " 0 1 0 0 1 1 0 0 0 1 0 0 0 0 0 0 0 0 0 0 1 1 0 0 1 1 1 0 0 0 0 0 0 0 0 1 1\n",
            " 0 0 0 1 0 0 0 0 0 0 1 0 0 0 0 1 1 0 0 0]\n",
            "Run:  0 , fold:  4\n",
            "54/54 [==============================] - 8s 53ms/step - loss: 0.5956 - accuracy: 0.8940\n",
            "14/14 [==============================] - 0s 11ms/step\n",
            "Best threshold:  0.03502953836792394\n",
            "Best F1 score:  0.2033898305084746\n",
            "[0 0 0 0 0 0 1 0 0 0 1 0 1 0 0 0 0 0 0 0 0 0 0 0 0 0 0 0 0 0 0 0 0 0 0 0 0\n",
            " 1 0 0 0 0 0 0 0 0 0 0 0 0 0 0 0 0 0 0 1 0 0 0 0 0 0 0 0 0 0 0 0 0 0 0 0 0\n",
            " 0 0 0 1 1 1 0 0 0 0 0 0 0 0 0 0 0 0 0 1 0 0 0 0 0 0 0 0 0 0 0 0 0 0 0 0 0\n",
            " 0 0 0 0 0 0 0 1 1 0 1 0 1 0 0 0 0 0 0 0 0 0 0 0 0 0 0 0 0 0 0 0 0 1 0 0 0\n",
            " 0 0 0 0 0 0 1 0 0 1 0 0 0 0 0 1 0 0 0 0 0 0 0 0 1 0 0 0 0 0 0 0 0 1 0 0 0\n",
            " 0 0 0 0 0 0 1 0 0 0 0 0 0 0 0 0 0 0 0 0 1 0 0 1 0 0 0 0 0 0 0 0 0 0 0 0 1\n",
            " 0 0 1 0 0 0 0 1 0 0 0 0 0 0 0 0 0 0 0 1 0 1 1 0 0 0 0 0 0 0 0 0 0 0 0 0 0\n",
            " 0 0 0 0 0 1 0 0 0 0 0 0 0 0 0 0 0 0 0 0 0 0 0 0 0 0 0 0 0 0 0 0 0 1 0 0 0\n",
            " 1 0 0 0 0 0 0 0 0 0 0 0 0 0 0 0 0 0 0 1 0 0 0 0 0 0 0 0 1 0 0 0 0 1 0 1 0\n",
            " 0 0 0 0 0 0 0 0 0 0 1 0 0 0 0 0 0 0 0 0 0 0 0 0 0 0 0 0 0 0 0 0 0 1 0 0 0\n",
            " 0 0 0 0 0 0 0 0 0 0 0 0 0 0 0 0 0 0 1 1 0 0 0 0 0 0 0 0 0 0 0 0 0 0 0 0 0\n",
            " 0 0 0 0 0 0 0 0 0 0 0 0 0 0 0 0 0 0 0 0]\n"
          ]
        }
      ],
      "source": [
        "from sklearn.model_selection import KFold\n",
        "base_dir = 'results'\n",
        "n_loops = 1\n",
        "n_folds = 5\n",
        "n_samples = X.shape[0]\n",
        "for i in range(n_loops):\n",
        "  cv = KFold(n_splits=n_folds, shuffle=True, random_state = i)\n",
        "  for fold, (train_idx, test_idx) in enumerate(cv.split(X,target)):\n",
        "    path_dir = base_dir +'/' + \"URLdatasetX2_1sub5\" + '_run_'+str(i)+'_'+ 'fold_'+str(fold)+'_'\n",
        "    print('Run: ', i, ', fold: ', fold)\n",
        "    X_train = X[train_idx]\n",
        "    X_test = X[test_idx]\n",
        "    y_train = target[train_idx]\n",
        "    y_test = target[test_idx]\n",
        "    model2 = lstm_conv()\n",
        "    model2.fit(X_train, y_train)\n",
        "    y_pred_score = model.predict(X_test).flatten()\n",
        "\n",
        "\n",
        "    # Chia giá trị từ min đến max thành 20 đoạn\n",
        "    thresholds = np.linspace(y_pred_score.min(), y_pred_score.max(), 20)\n",
        "\n",
        "    best_threshold = 0\n",
        "    best_f1 = 0\n",
        "\n",
        "    # Duyệt qua các threshold để tìm threshold có f1_score tốt nhất\n",
        "    for threshold in thresholds:\n",
        "        y_predict = (y_pred_score > threshold).astype(int)\n",
        "        score = f1_score(y_test, y_predict, pos_label=1, zero_division=0.0)\n",
        "        if score > best_f1:\n",
        "            best_f1 = score\n",
        "            best_threshold = threshold\n",
        "\n",
        "    print(\"Best threshold: \", best_threshold)\n",
        "    print(\"Best F1 score: \", best_f1)\n",
        "    y_predict = (y_pred_score > best_threshold).astype(int)\n",
        "    print(y_predict)\n",
        "\n",
        "\n",
        "    df = pd.DataFrame({'Actual': y_test, 'Predicted': y_predict, 'y_score': y_pred_score})\n",
        "    df.to_csv(path_dir + \"LSTMConv_labels.csv\", index=False)"
      ]
    },
    {
      "cell_type": "code",
      "execution_count": null,
      "metadata": {
        "colab": {
          "base_uri": "https://localhost:8080/",
          "height": 356
        },
        "id": "8bBGt8bKqfEy",
        "outputId": "be307304-5c5a-4c05-f23d-321453913217"
      },
      "outputs": [
        {
          "name": "stdout",
          "output_type": "stream",
          "text": [
            "18/18 [==============================] - 0s 22ms/step\n"
          ]
        },
        {
          "ename": "ValueError",
          "evalue": "Per-column arrays must each be 1-dimensional",
          "output_type": "error",
          "traceback": [
            "\u001b[0;31m---------------------------------------------------------------------------\u001b[0m",
            "\u001b[0;31mValueError\u001b[0m                                Traceback (most recent call last)",
            "\u001b[0;32m<ipython-input-20-e707ccc9d2de>\u001b[0m in \u001b[0;36m<cell line: 4>\u001b[0;34m()\u001b[0m\n\u001b[1;32m      2\u001b[0m \u001b[0my_pred\u001b[0m \u001b[0;34m=\u001b[0m \u001b[0mmodel\u001b[0m\u001b[0;34m.\u001b[0m\u001b[0mpredict\u001b[0m\u001b[0;34m(\u001b[0m\u001b[0mX_test\u001b[0m\u001b[0;34m)\u001b[0m\u001b[0;34m\u001b[0m\u001b[0;34m\u001b[0m\u001b[0m\n\u001b[1;32m      3\u001b[0m \u001b[0;31m#print(\"F1 score: \", f1_score(y_pred, target_test))\u001b[0m\u001b[0;34m\u001b[0m\u001b[0;34m\u001b[0m\u001b[0m\n\u001b[0;32m----> 4\u001b[0;31m \u001b[0msave_predictions_to_csv\u001b[0m\u001b[0;34m(\u001b[0m\u001b[0mtarget_test\u001b[0m\u001b[0;34m,\u001b[0m \u001b[0my_pred\u001b[0m\u001b[0;34m,\u001b[0m \u001b[0;34m'PredictionsSimpleLSTM2.csv'\u001b[0m\u001b[0;34m)\u001b[0m\u001b[0;34m\u001b[0m\u001b[0;34m\u001b[0m\u001b[0m\n\u001b[0m",
            "\u001b[0;32m<ipython-input-12-66d9ca69dde5>\u001b[0m in \u001b[0;36msave_predictions_to_csv\u001b[0;34m(true_labels, predicted_labels, filename)\u001b[0m\n\u001b[1;32m      1\u001b[0m \u001b[0;32mdef\u001b[0m \u001b[0msave_predictions_to_csv\u001b[0m\u001b[0;34m(\u001b[0m\u001b[0mtrue_labels\u001b[0m\u001b[0;34m,\u001b[0m \u001b[0mpredicted_labels\u001b[0m\u001b[0;34m,\u001b[0m \u001b[0mfilename\u001b[0m\u001b[0;34m)\u001b[0m\u001b[0;34m:\u001b[0m\u001b[0;34m\u001b[0m\u001b[0;34m\u001b[0m\u001b[0m\n\u001b[1;32m      2\u001b[0m     \u001b[0;31m# Tạo dataframe từ danh sách các nhãn\u001b[0m\u001b[0;34m\u001b[0m\u001b[0;34m\u001b[0m\u001b[0m\n\u001b[0;32m----> 3\u001b[0;31m     df = pd.DataFrame({\n\u001b[0m\u001b[1;32m      4\u001b[0m         \u001b[0;34m'True Label'\u001b[0m\u001b[0;34m:\u001b[0m \u001b[0mtrue_labels\u001b[0m\u001b[0;34m,\u001b[0m\u001b[0;34m\u001b[0m\u001b[0;34m\u001b[0m\u001b[0m\n\u001b[1;32m      5\u001b[0m         \u001b[0;34m'Predicted Label'\u001b[0m\u001b[0;34m:\u001b[0m \u001b[0mpredicted_labels\u001b[0m\u001b[0;34m\u001b[0m\u001b[0;34m\u001b[0m\u001b[0m\n",
            "\u001b[0;32m/usr/local/lib/python3.10/dist-packages/pandas/core/frame.py\u001b[0m in \u001b[0;36m__init__\u001b[0;34m(self, data, index, columns, dtype, copy)\u001b[0m\n\u001b[1;32m    707\u001b[0m         \u001b[0;32melif\u001b[0m \u001b[0misinstance\u001b[0m\u001b[0;34m(\u001b[0m\u001b[0mdata\u001b[0m\u001b[0;34m,\u001b[0m \u001b[0mdict\u001b[0m\u001b[0;34m)\u001b[0m\u001b[0;34m:\u001b[0m\u001b[0;34m\u001b[0m\u001b[0;34m\u001b[0m\u001b[0m\n\u001b[1;32m    708\u001b[0m             \u001b[0;31m# GH#38939 de facto copy defaults to False only in non-dict cases\u001b[0m\u001b[0;34m\u001b[0m\u001b[0;34m\u001b[0m\u001b[0m\n\u001b[0;32m--> 709\u001b[0;31m             \u001b[0mmgr\u001b[0m \u001b[0;34m=\u001b[0m \u001b[0mdict_to_mgr\u001b[0m\u001b[0;34m(\u001b[0m\u001b[0mdata\u001b[0m\u001b[0;34m,\u001b[0m \u001b[0mindex\u001b[0m\u001b[0;34m,\u001b[0m \u001b[0mcolumns\u001b[0m\u001b[0;34m,\u001b[0m \u001b[0mdtype\u001b[0m\u001b[0;34m=\u001b[0m\u001b[0mdtype\u001b[0m\u001b[0;34m,\u001b[0m \u001b[0mcopy\u001b[0m\u001b[0;34m=\u001b[0m\u001b[0mcopy\u001b[0m\u001b[0;34m,\u001b[0m \u001b[0mtyp\u001b[0m\u001b[0;34m=\u001b[0m\u001b[0mmanager\u001b[0m\u001b[0;34m)\u001b[0m\u001b[0;34m\u001b[0m\u001b[0;34m\u001b[0m\u001b[0m\n\u001b[0m\u001b[1;32m    710\u001b[0m         \u001b[0;32melif\u001b[0m \u001b[0misinstance\u001b[0m\u001b[0;34m(\u001b[0m\u001b[0mdata\u001b[0m\u001b[0;34m,\u001b[0m \u001b[0mma\u001b[0m\u001b[0;34m.\u001b[0m\u001b[0mMaskedArray\u001b[0m\u001b[0;34m)\u001b[0m\u001b[0;34m:\u001b[0m\u001b[0;34m\u001b[0m\u001b[0;34m\u001b[0m\u001b[0m\n\u001b[1;32m    711\u001b[0m             \u001b[0;32mfrom\u001b[0m \u001b[0mnumpy\u001b[0m\u001b[0;34m.\u001b[0m\u001b[0mma\u001b[0m \u001b[0;32mimport\u001b[0m \u001b[0mmrecords\u001b[0m\u001b[0;34m\u001b[0m\u001b[0;34m\u001b[0m\u001b[0m\n",
            "\u001b[0;32m/usr/local/lib/python3.10/dist-packages/pandas/core/internals/construction.py\u001b[0m in \u001b[0;36mdict_to_mgr\u001b[0;34m(data, index, columns, dtype, typ, copy)\u001b[0m\n\u001b[1;32m    479\u001b[0m             \u001b[0marrays\u001b[0m \u001b[0;34m=\u001b[0m \u001b[0;34m[\u001b[0m\u001b[0mx\u001b[0m\u001b[0;34m.\u001b[0m\u001b[0mcopy\u001b[0m\u001b[0;34m(\u001b[0m\u001b[0;34m)\u001b[0m \u001b[0;32mif\u001b[0m \u001b[0mhasattr\u001b[0m\u001b[0;34m(\u001b[0m\u001b[0mx\u001b[0m\u001b[0;34m,\u001b[0m \u001b[0;34m\"dtype\"\u001b[0m\u001b[0;34m)\u001b[0m \u001b[0;32melse\u001b[0m \u001b[0mx\u001b[0m \u001b[0;32mfor\u001b[0m \u001b[0mx\u001b[0m \u001b[0;32min\u001b[0m \u001b[0marrays\u001b[0m\u001b[0;34m]\u001b[0m\u001b[0;34m\u001b[0m\u001b[0;34m\u001b[0m\u001b[0m\n\u001b[1;32m    480\u001b[0m \u001b[0;34m\u001b[0m\u001b[0m\n\u001b[0;32m--> 481\u001b[0;31m     \u001b[0;32mreturn\u001b[0m \u001b[0marrays_to_mgr\u001b[0m\u001b[0;34m(\u001b[0m\u001b[0marrays\u001b[0m\u001b[0;34m,\u001b[0m \u001b[0mcolumns\u001b[0m\u001b[0;34m,\u001b[0m \u001b[0mindex\u001b[0m\u001b[0;34m,\u001b[0m \u001b[0mdtype\u001b[0m\u001b[0;34m=\u001b[0m\u001b[0mdtype\u001b[0m\u001b[0;34m,\u001b[0m \u001b[0mtyp\u001b[0m\u001b[0;34m=\u001b[0m\u001b[0mtyp\u001b[0m\u001b[0;34m,\u001b[0m \u001b[0mconsolidate\u001b[0m\u001b[0;34m=\u001b[0m\u001b[0mcopy\u001b[0m\u001b[0;34m)\u001b[0m\u001b[0;34m\u001b[0m\u001b[0;34m\u001b[0m\u001b[0m\n\u001b[0m\u001b[1;32m    482\u001b[0m \u001b[0;34m\u001b[0m\u001b[0m\n\u001b[1;32m    483\u001b[0m \u001b[0;34m\u001b[0m\u001b[0m\n",
            "\u001b[0;32m/usr/local/lib/python3.10/dist-packages/pandas/core/internals/construction.py\u001b[0m in \u001b[0;36marrays_to_mgr\u001b[0;34m(arrays, columns, index, dtype, verify_integrity, typ, consolidate)\u001b[0m\n\u001b[1;32m    113\u001b[0m         \u001b[0;31m# figure out the index, if necessary\u001b[0m\u001b[0;34m\u001b[0m\u001b[0;34m\u001b[0m\u001b[0m\n\u001b[1;32m    114\u001b[0m         \u001b[0;32mif\u001b[0m \u001b[0mindex\u001b[0m \u001b[0;32mis\u001b[0m \u001b[0;32mNone\u001b[0m\u001b[0;34m:\u001b[0m\u001b[0;34m\u001b[0m\u001b[0;34m\u001b[0m\u001b[0m\n\u001b[0;32m--> 115\u001b[0;31m             \u001b[0mindex\u001b[0m \u001b[0;34m=\u001b[0m \u001b[0m_extract_index\u001b[0m\u001b[0;34m(\u001b[0m\u001b[0marrays\u001b[0m\u001b[0;34m)\u001b[0m\u001b[0;34m\u001b[0m\u001b[0;34m\u001b[0m\u001b[0m\n\u001b[0m\u001b[1;32m    116\u001b[0m         \u001b[0;32melse\u001b[0m\u001b[0;34m:\u001b[0m\u001b[0;34m\u001b[0m\u001b[0;34m\u001b[0m\u001b[0m\n\u001b[1;32m    117\u001b[0m             \u001b[0mindex\u001b[0m \u001b[0;34m=\u001b[0m \u001b[0mensure_index\u001b[0m\u001b[0;34m(\u001b[0m\u001b[0mindex\u001b[0m\u001b[0;34m)\u001b[0m\u001b[0;34m\u001b[0m\u001b[0;34m\u001b[0m\u001b[0m\n",
            "\u001b[0;32m/usr/local/lib/python3.10/dist-packages/pandas/core/internals/construction.py\u001b[0m in \u001b[0;36m_extract_index\u001b[0;34m(data)\u001b[0m\n\u001b[1;32m    640\u001b[0m             \u001b[0mraw_lengths\u001b[0m\u001b[0;34m.\u001b[0m\u001b[0mappend\u001b[0m\u001b[0;34m(\u001b[0m\u001b[0mlen\u001b[0m\u001b[0;34m(\u001b[0m\u001b[0mval\u001b[0m\u001b[0;34m)\u001b[0m\u001b[0;34m)\u001b[0m\u001b[0;34m\u001b[0m\u001b[0;34m\u001b[0m\u001b[0m\n\u001b[1;32m    641\u001b[0m         \u001b[0;32melif\u001b[0m \u001b[0misinstance\u001b[0m\u001b[0;34m(\u001b[0m\u001b[0mval\u001b[0m\u001b[0;34m,\u001b[0m \u001b[0mnp\u001b[0m\u001b[0;34m.\u001b[0m\u001b[0mndarray\u001b[0m\u001b[0;34m)\u001b[0m \u001b[0;32mand\u001b[0m \u001b[0mval\u001b[0m\u001b[0;34m.\u001b[0m\u001b[0mndim\u001b[0m \u001b[0;34m>\u001b[0m \u001b[0;36m1\u001b[0m\u001b[0;34m:\u001b[0m\u001b[0;34m\u001b[0m\u001b[0;34m\u001b[0m\u001b[0m\n\u001b[0;32m--> 642\u001b[0;31m             \u001b[0;32mraise\u001b[0m \u001b[0mValueError\u001b[0m\u001b[0;34m(\u001b[0m\u001b[0;34m\"Per-column arrays must each be 1-dimensional\"\u001b[0m\u001b[0;34m)\u001b[0m\u001b[0;34m\u001b[0m\u001b[0;34m\u001b[0m\u001b[0m\n\u001b[0m\u001b[1;32m    643\u001b[0m \u001b[0;34m\u001b[0m\u001b[0m\n\u001b[1;32m    644\u001b[0m     \u001b[0;32mif\u001b[0m \u001b[0;32mnot\u001b[0m \u001b[0mindexes\u001b[0m \u001b[0;32mand\u001b[0m \u001b[0;32mnot\u001b[0m \u001b[0mraw_lengths\u001b[0m\u001b[0;34m:\u001b[0m\u001b[0;34m\u001b[0m\u001b[0;34m\u001b[0m\u001b[0m\n",
            "\u001b[0;31mValueError\u001b[0m: Per-column arrays must each be 1-dimensional"
          ]
        }
      ],
      "source": [
        "y_pred = tf.argmax(model.predict(X_test), axis=-1)\n",
        "#y_pred = model.predict(X_test)\n",
        "print(\"F1 score: \", f1_score(y_pred, target_test))\n",
        "save_predictions_to_csv(target_test, y_pred, 'PredictionsSimpleLSTM2.csv')"
      ]
    },
    {
      "cell_type": "code",
      "execution_count": null,
      "metadata": {
        "colab": {
          "base_uri": "https://localhost:8080/",
          "height": 193
        },
        "id": "TNbU78F1LXV0",
        "outputId": "0b6896bc-0064-423a-9bc7-8ecd0f54b18b"
      },
      "outputs": [
        {
          "ename": "NameError",
          "evalue": "name 'DATA_HOME' is not defined",
          "output_type": "error",
          "traceback": [
            "\u001b[0;31m---------------------------------------------------------------------------\u001b[0m",
            "\u001b[0;31mNameError\u001b[0m                                 Traceback (most recent call last)",
            "\u001b[0;32m<ipython-input-20-58fbe512198d>\u001b[0m in \u001b[0;36m<cell line: 5>\u001b[0;34m()\u001b[0m\n\u001b[1;32m      3\u001b[0m \u001b[0;31m# model = load_model(DATA_HOME + model_name + \".json\", DATA_HOME + model_name + \".h5\")\u001b[0m\u001b[0;34m\u001b[0m\u001b[0;34m\u001b[0m\u001b[0m\n\u001b[1;32m      4\u001b[0m \u001b[0;31m# #print_layers_dims(model)\u001b[0m\u001b[0;34m\u001b[0m\u001b[0;34m\u001b[0m\u001b[0m\n\u001b[0;32m----> 5\u001b[0;31m \u001b[0mmodel\u001b[0m\u001b[0;34m.\u001b[0m\u001b[0msave\u001b[0m\u001b[0;34m(\u001b[0m\u001b[0mDATA_HOME\u001b[0m \u001b[0;34m+\u001b[0m \u001b[0mmodel_name\u001b[0m \u001b[0;34m+\u001b[0m \u001b[0;34m\".keras\"\u001b[0m\u001b[0;34m)\u001b[0m\u001b[0;34m\u001b[0m\u001b[0;34m\u001b[0m\u001b[0m\n\u001b[0m\u001b[1;32m      6\u001b[0m \u001b[0mmodel\u001b[0m \u001b[0;34m=\u001b[0m \u001b[0mkeras\u001b[0m\u001b[0;34m.\u001b[0m\u001b[0mmodels\u001b[0m\u001b[0;34m.\u001b[0m\u001b[0mload_model\u001b[0m\u001b[0;34m(\u001b[0m\u001b[0mDATA_HOME\u001b[0m \u001b[0;34m+\u001b[0m \u001b[0mmodel_name\u001b[0m \u001b[0;34m+\u001b[0m \u001b[0;34m\".keras\"\u001b[0m\u001b[0;34m)\u001b[0m\u001b[0;34m\u001b[0m\u001b[0;34m\u001b[0m\u001b[0m\n",
            "\u001b[0;31mNameError\u001b[0m: name 'DATA_HOME' is not defined"
          ]
        }
      ],
      "source": [
        "model_name = \"deeplearning_1DConvLSTM\"\n",
        "# save_model(DATA_HOME + model_name + \".json\", DATA_HOME + model_name + \".h5\")\n",
        "# model = load_model(DATA_HOME + model_name + \".json\", DATA_HOME + model_name + \".h5\")\n",
        "# #print_layers_dims(model)\n",
        "model.save(DATA_HOME + model_name + \".keras\")\n",
        "model = keras.models.load_model(DATA_HOME + model_name + \".keras\")"
      ]
    },
    {
      "cell_type": "markdown",
      "metadata": {
        "id": "NTr5uA7nLXV0"
      },
      "source": [
        "## Architecture 3 - 1D Convolutions and Fully Connected Layers"
      ]
    },
    {
      "cell_type": "code",
      "execution_count": 35,
      "metadata": {
        "id": "IRgRLcCMLXV0"
      },
      "outputs": [],
      "source": [
        "## Deep Learning model Definition --- C --- (1D Convolutions and Fully Connected Layers)\n",
        "\n",
        "def conv_fully(max_len=75, emb_dim=32, max_vocab_len=100, W_reg=regularizers.l2(1e-4)):\n",
        "    # Input\n",
        "    main_input = Input(shape=(max_len,), dtype='int32', name='main_input')\n",
        "    # Embedding layer\n",
        "    emb = Embedding(input_dim=max_vocab_len, output_dim=emb_dim, input_length=max_len,\n",
        "                embeddings_regularizer=W_reg)(main_input)\n",
        "    emb = Dropout(0.25)(emb)\n",
        "\n",
        "\n",
        "    def sum_1d(X):\n",
        "        return K.sum(X, axis=1)\n",
        "\n",
        "    def get_conv_layer(emb, kernel_size=5, filters=256):\n",
        "        # Conv layer\n",
        "        conv = Conv1D(kernel_size=kernel_size, filters=filters, \\\n",
        "                     padding='same')(emb)\n",
        "        conv = ELU()(conv)\n",
        "\n",
        "        conv = Lambda(sum_1d, output_shape=(filters,))(conv)\n",
        "        #conv = BatchNormalization(mode=0)(conv)\n",
        "        conv = Dropout(0.5)(conv)\n",
        "        return conv\n",
        "\n",
        "    # Multiple Conv Layers\n",
        "\n",
        "    # calling custom conv function from above\n",
        "    conv1 = get_conv_layer(emb, kernel_size=2, filters=256)\n",
        "    conv2 = get_conv_layer(emb, kernel_size=3, filters=256)\n",
        "    conv3 = get_conv_layer(emb, kernel_size=4, filters=256)\n",
        "    conv4 = get_conv_layer(emb, kernel_size=5, filters=256)\n",
        "\n",
        "    # Fully Connected Layers\n",
        "    merged = concatenate([conv1,conv2,conv3,conv4], axis=1)\n",
        "\n",
        "    hidden1 = Dense(1024)(merged)\n",
        "    hidden1 = ELU()(hidden1)\n",
        "    # hidden1 = BatchNormalization()(hidden1)\n",
        "    hidden1 = Dropout(0.5)(hidden1)\n",
        "\n",
        "    hidden2 = Dense(1024)(hidden1)\n",
        "    hidden2 = ELU()(hidden2)\n",
        "    # hidden2 = BatchNormalization()(hidden2)\n",
        "    hidden2 = Dropout(0.5)(hidden2)\n",
        "\n",
        "    # Output layer (last fully connected layer)\n",
        "    output = Dense(1, activation='sigmoid', name='output')(hidden2)\n",
        "\n",
        "    # Compile model and define optimizer\n",
        "    model = Model(inputs=main_input, outputs=output)\n",
        "    adam = Adam(learning_rate=1e-4, beta_1=0.9, beta_2=0.999, epsilon=1e-08)\n",
        "    model.compile(optimizer=adam, loss='binary_crossentropy', metrics=['accuracy'])\n",
        "    return model"
      ]
    },
    {
      "cell_type": "code",
      "execution_count": null,
      "metadata": {
        "colab": {
          "base_uri": "https://localhost:8080/"
        },
        "id": "Y_-WAybQLXV0",
        "outputId": "bfe45ba6-d19f-4a3f-b1a0-3d8671289d65"
      },
      "outputs": [
        {
          "name": "stdout",
          "output_type": "stream",
          "text": [
            "Epoch 1/10\n",
            "7/7 [==============================] - 5s 226ms/step - loss: 0.7567 - accuracy: 0.6830\n",
            "Epoch 2/10\n",
            "7/7 [==============================] - 1s 137ms/step - loss: 0.6641 - accuracy: 0.6674\n",
            "Epoch 3/10\n",
            "7/7 [==============================] - 1s 138ms/step - loss: 0.6129 - accuracy: 0.7366\n",
            "Epoch 4/10\n",
            "7/7 [==============================] - 1s 131ms/step - loss: 0.6004 - accuracy: 0.7254\n",
            "Epoch 5/10\n",
            "7/7 [==============================] - 1s 131ms/step - loss: 0.5973 - accuracy: 0.7344\n",
            "Epoch 6/10\n",
            "7/7 [==============================] - 1s 132ms/step - loss: 0.5754 - accuracy: 0.7522\n",
            "Epoch 7/10\n",
            "7/7 [==============================] - 1s 134ms/step - loss: 0.5193 - accuracy: 0.7768\n",
            "Epoch 8/10\n",
            "7/7 [==============================] - 1s 133ms/step - loss: 0.5593 - accuracy: 0.7545\n",
            "Epoch 9/10\n",
            "7/7 [==============================] - 1s 130ms/step - loss: 0.5023 - accuracy: 0.7857\n",
            "Epoch 10/10\n",
            "7/7 [==============================] - 1s 130ms/step - loss: 0.5295 - accuracy: 0.7612\n",
            "4/4 [==============================] - 0s 21ms/step - loss: 0.3358 - accuracy: 0.8482\n",
            "\n",
            "Final Cross-Validation Accuracy 0.8482142686843872 \n",
            "\n"
          ]
        }
      ],
      "source": [
        "# Fit model and Cross-Validation, ARCHITECTURE 3 CONV + FULLY CONNECTED\n",
        "epochs = 10\n",
        "batch_size = 64\n",
        "\n",
        "model = conv_fully()\n",
        "model.fit(X_train, target_train, epochs=epochs, batch_size=batch_size)\n",
        "loss, accuracy = model.evaluate(X_test, target_test, verbose=1)\n",
        "\n",
        "print('\\nFinal Cross-Validation Accuracy', accuracy, '\\n')\n",
        "# print_layers_dims(model)"
      ]
    },
    {
      "cell_type": "code",
      "execution_count": 36,
      "metadata": {
        "colab": {
          "base_uri": "https://localhost:8080/"
        },
        "id": "gZe-yJBtQRb-",
        "outputId": "624012bc-0f54-4f81-cfac-7b1dc3767301"
      },
      "outputs": [
        {
          "output_type": "stream",
          "name": "stdout",
          "text": [
            "Run:  0 , fold:  0\n",
            "54/54 [==============================] - 7s 94ms/step - loss: 0.2308 - accuracy: 0.9444\n",
            "14/14 [==============================] - 1s 38ms/step\n",
            "Best threshold:  0.1772897768961756\n",
            "Best F1 score:  0.1818181818181818\n",
            "[0 0 0 0 0 0 0 0 0 0 0 0 0 0 0 0 0 0 0 0 0 0 0 0 0 0 0 0 0 0 0 0 0 0 0 0 0\n",
            " 0 0 0 0 0 0 0 0 0 1 0 0 0 0 0 0 0 0 0 0 0 0 0 0 0 0 0 0 0 0 0 0 0 0 0 0 0\n",
            " 0 0 0 0 0 0 0 0 0 0 0 0 0 0 0 0 0 0 0 0 0 0 0 0 0 0 0 0 0 0 0 0 0 0 0 0 0\n",
            " 0 0 0 0 0 0 0 0 0 0 0 0 0 0 0 0 0 0 0 0 0 0 0 0 0 0 0 0 0 0 0 0 0 0 0 0 0\n",
            " 0 0 0 0 0 0 0 0 0 0 0 0 0 0 0 0 0 0 0 0 0 0 0 0 0 0 0 0 0 0 0 0 0 0 0 0 0\n",
            " 0 0 0 0 0 0 0 0 0 0 0 0 0 0 0 0 0 1 0 0 0 0 0 0 0 0 0 0 0 0 0 0 0 0 0 0 0\n",
            " 0 0 0 0 0 0 0 0 0 0 0 0 0 0 0 0 0 0 0 0 0 0 0 0 0 0 0 0 0 0 0 0 0 0 0 0 0\n",
            " 0 0 0 0 0 0 0 0 1 0 0 0 0 0 0 0 0 0 0 0 0 0 0 0 0 0 0 0 0 0 0 0 0 0 0 0 0\n",
            " 0 0 0 0 0 0 0 0 0 0 0 0 0 0 0 0 0 0 0 0 0 0 0 0 0 0 0 0 0 0 0 0 0 0 0 0 0\n",
            " 0 0 0 0 0 0 0 0 0 0 0 0 0 0 0 0 0 0 0 0 0 0 0 0 0 0 0 0 0 1 0 0 0 0 0 0 0\n",
            " 0 0 0 0 0 0 0 0 0 0 0 0 0 0 0 0 0 0 0 0 0 0 0 0 0 0 0 0 0 0 0 0 0 0 0 0 0\n",
            " 0 0 0 0 0 0 0 0 0 0 0 0 0 0 0 0 0 0 0 0]\n",
            "Run:  0 , fold:  1\n",
            "54/54 [==============================] - 7s 87ms/step - loss: 0.2650 - accuracy: 0.9444\n",
            "14/14 [==============================] - 0s 22ms/step\n",
            "Best threshold:  0.10744392283652958\n",
            "Best F1 score:  0.4285714285714286\n",
            "[0 0 0 0 0 0 0 0 0 0 0 0 0 0 0 0 0 0 0 0 0 0 0 0 0 0 0 0 0 0 0 0 0 0 0 0 0\n",
            " 0 0 0 0 0 0 0 0 0 0 0 0 0 0 0 0 0 0 0 0 0 0 0 0 0 0 0 0 1 0 0 0 0 0 0 0 0\n",
            " 0 0 0 0 0 0 0 0 0 0 0 0 0 0 0 0 0 0 0 0 0 0 0 0 0 0 0 0 0 0 0 0 0 0 0 0 0\n",
            " 0 0 0 0 0 0 0 0 0 0 0 1 0 0 0 0 0 0 0 0 0 0 0 0 0 0 0 0 0 0 0 0 0 0 0 0 0\n",
            " 0 1 0 0 0 0 0 0 0 0 0 0 0 0 0 0 0 0 0 0 0 0 0 0 0 0 0 0 0 0 0 0 0 0 0 0 0\n",
            " 0 0 0 0 0 0 0 0 0 0 1 1 0 0 0 0 0 0 0 0 0 0 0 0 0 0 0 0 0 0 0 0 0 1 0 0 0\n",
            " 0 0 1 0 0 0 1 0 0 0 0 0 0 0 0 0 0 0 0 0 0 0 0 0 0 0 0 0 0 0 0 0 0 0 0 0 0\n",
            " 1 0 0 0 0 0 0 0 0 0 0 0 0 0 0 0 0 0 0 0 0 0 0 0 0 0 0 0 0 0 0 0 0 0 0 0 0\n",
            " 0 1 0 0 0 0 0 0 0 0 0 0 0 0 0 0 0 0 0 0 0 0 0 0 0 0 0 1 1 0 0 0 0 0 0 0 0\n",
            " 0 0 0 0 0 1 0 0 0 0 0 0 0 0 0 0 0 0 0 0 0 0 0 0 0 0 0 0 0 0 0 0 0 0 0 0 0\n",
            " 0 0 0 0 0 0 0 0 0 0 0 0 0 0 0 0 0 0 0 0 0 0 0 0 0 0 0 0 0 0 0 0 0 0 0 0 0\n",
            " 0 0 0 0 0 0 0 0 0 0 0 0 0 0 0 0 0 0 0 0]\n",
            "Run:  0 , fold:  2\n",
            "54/54 [==============================] - 8s 113ms/step - loss: 0.2520 - accuracy: 0.9368\n",
            "14/14 [==============================] - 0s 22ms/step\n",
            "Best threshold:  0.08999561121240013\n",
            "Best F1 score:  0.3157894736842105\n",
            "[0 0 0 0 0 0 0 0 0 0 0 0 0 0 0 0 0 0 0 0 0 0 0 0 0 0 0 0 0 0 0 0 0 0 0 0 0\n",
            " 0 0 0 0 0 0 0 0 0 0 0 0 0 0 0 0 0 0 0 0 0 0 0 0 0 0 0 0 0 0 1 0 0 0 0 0 0\n",
            " 0 0 0 0 0 0 0 0 0 0 0 0 0 0 0 0 0 0 0 0 0 0 0 0 0 0 0 0 0 0 0 0 0 0 0 0 0\n",
            " 0 0 0 0 0 0 0 0 0 0 0 0 0 0 0 0 0 0 0 0 0 0 0 0 0 0 0 0 0 0 0 0 0 0 0 0 0\n",
            " 0 0 0 0 0 0 0 0 0 0 0 0 0 0 0 0 0 0 0 0 0 0 0 0 0 0 0 0 0 0 0 0 0 0 1 0 0\n",
            " 0 0 0 0 0 0 0 0 0 0 0 0 0 0 0 0 0 0 0 0 0 0 0 0 0 0 0 0 0 0 0 0 0 0 0 0 0\n",
            " 0 0 0 0 0 0 0 0 0 0 0 0 0 0 0 0 0 0 0 0 0 0 0 0 0 0 1 0 0 0 0 0 0 0 0 0 0\n",
            " 0 0 0 0 0 0 0 0 0 0 0 0 0 0 0 0 0 0 0 0 0 0 0 0 0 0 0 0 0 0 0 0 0 0 0 0 0\n",
            " 0 0 0 0 0 0 0 0 1 1 0 0 0 0 0 0 0 0 0 0 0 0 0 0 0 0 0 0 0 0 0 0 0 0 0 0 0\n",
            " 0 0 0 0 0 0 0 0 0 0 0 0 0 0 0 0 0 0 0 0 0 0 0 0 0 0 0 0 0 0 0 0 0 0 0 0 0\n",
            " 0 0 0 0 0 0 0 0 0 0 0 0 0 0 0 0 0 0 0 0 0 0 0 0 0 0 0 0 0 0 0 0 0 0 0 0 0\n",
            " 0 0 0 0 0 0 0 0 0 0 0 0 0 0 0 0 0 0 0 0]\n",
            "Run:  0 , fold:  3\n",
            "54/54 [==============================] - 7s 91ms/step - loss: 0.2347 - accuracy: 0.9397\n",
            "14/14 [==============================] - 1s 36ms/step\n",
            "Best threshold:  0.07539738611759324\n",
            "Best F1 score:  0.3125\n",
            "[0 0 0 0 0 0 0 0 0 0 0 0 0 0 0 0 0 0 0 0 0 1 0 0 0 0 0 0 0 0 0 0 0 0 0 0 0\n",
            " 0 0 0 0 0 0 0 0 0 0 0 0 1 0 0 0 0 0 0 0 0 0 0 0 0 0 0 0 0 0 0 0 0 0 0 0 0\n",
            " 0 0 0 0 0 0 0 0 0 0 0 0 0 0 0 0 0 0 0 0 0 0 0 1 0 0 0 0 0 0 0 0 0 1 0 0 0\n",
            " 0 0 0 0 0 0 0 0 0 0 0 0 0 0 0 0 0 0 0 0 0 0 0 0 0 0 0 0 0 0 0 0 0 0 0 0 0\n",
            " 0 0 0 0 0 0 0 0 0 0 0 0 0 0 0 0 0 0 0 0 0 0 0 0 0 0 0 0 0 0 0 0 0 0 0 1 0\n",
            " 0 0 0 0 0 0 0 0 0 0 0 0 0 0 0 0 0 0 0 0 0 0 0 0 0 0 0 0 0 0 0 0 0 0 0 0 0\n",
            " 0 0 0 0 0 0 0 0 0 0 0 0 0 0 0 0 0 0 0 0 0 0 0 0 0 0 0 0 0 0 0 0 0 0 0 0 0\n",
            " 0 0 0 0 0 0 0 0 0 0 0 0 0 1 0 0 0 0 0 0 0 0 0 0 0 0 0 0 0 0 0 0 0 0 0 0 0\n",
            " 0 0 0 0 0 0 0 0 0 0 0 0 0 0 0 0 0 0 0 0 0 0 0 0 0 0 0 0 0 0 0 0 0 0 0 0 0\n",
            " 0 0 1 0 0 0 0 0 0 0 0 0 0 0 0 0 0 0 0 0 0 0 0 0 0 0 0 0 0 0 0 0 0 0 0 0 0\n",
            " 0 0 0 0 0 0 0 0 0 0 0 0 0 0 0 0 0 0 0 0 0 0 0 0 0 0 0 0 0 0 0 0 0 0 0 0 0\n",
            " 0 0 0 0 0 0 0 0 0 0 0 0 0 0 0 0 0 0 0 0]\n",
            "Run:  0 , fold:  4\n",
            "54/54 [==============================] - 7s 86ms/step - loss: 0.2876 - accuracy: 0.9385\n",
            "14/14 [==============================] - 0s 22ms/step\n",
            "Best threshold:  0.101969135435004\n",
            "Best F1 score:  0.3448275862068966\n",
            "[0 0 0 0 0 0 0 0 0 0 0 0 0 0 0 0 0 0 0 0 0 0 0 0 0 0 0 0 0 0 0 0 0 0 0 0 0\n",
            " 0 0 0 0 0 0 0 0 0 0 0 0 0 0 0 0 0 0 0 1 0 0 0 0 0 0 0 0 0 0 0 0 0 0 0 0 0\n",
            " 0 0 0 0 0 0 0 0 0 0 0 0 0 0 0 0 0 0 0 0 0 0 0 0 0 0 0 0 0 0 0 0 1 0 0 0 0\n",
            " 0 0 0 0 0 0 0 1 0 0 0 0 0 0 0 0 0 0 0 0 0 0 0 0 0 0 0 0 0 0 0 0 0 0 0 0 0\n",
            " 0 0 0 0 0 0 0 0 0 0 1 0 0 0 0 0 0 0 0 0 0 0 0 0 0 1 0 0 0 0 0 0 0 0 0 0 0\n",
            " 0 0 0 0 0 0 0 0 0 0 0 0 0 0 0 0 0 0 0 0 0 0 0 1 0 0 0 0 0 0 0 0 0 0 0 0 0\n",
            " 0 0 0 0 0 0 0 0 0 0 0 0 0 0 0 0 0 0 0 0 0 1 1 0 0 0 0 0 0 0 0 0 0 0 0 0 0\n",
            " 0 0 0 0 0 1 0 0 0 0 0 0 0 0 0 0 0 0 0 0 0 0 0 0 0 0 0 0 0 0 0 0 0 0 0 0 0\n",
            " 0 0 0 0 0 0 0 0 0 0 0 0 0 0 0 0 0 0 0 0 0 0 0 0 0 0 0 0 0 0 0 0 0 0 0 0 0\n",
            " 0 0 0 0 0 0 0 0 0 0 0 0 0 0 0 0 0 0 0 0 0 0 0 0 0 0 0 0 0 0 0 0 0 0 0 0 0\n",
            " 0 0 0 0 0 0 0 0 0 0 0 0 0 0 0 0 0 0 0 0 0 0 0 0 0 0 0 0 0 0 0 0 0 0 0 0 0\n",
            " 0 0 0 0 0 0 0 0 0 0 0 0 0 0 0 0 0 0 0 0]\n"
          ]
        }
      ],
      "source": [
        "from sklearn.model_selection import KFold\n",
        "base_dir = 'results'\n",
        "n_loops = 1\n",
        "n_folds = 5\n",
        "n_samples = X.shape[0]\n",
        "for i in range(n_loops):\n",
        "  cv = KFold(n_splits=n_folds, shuffle=True, random_state = i)\n",
        "  for fold, (train_idx, test_idx) in enumerate(cv.split(X,target)):\n",
        "    path_dir = base_dir +'/' + \"URLdatasetX2_1sub5\" + '_run_'+str(i)+'_'+ 'fold_'+str(fold)+'_'\n",
        "    print('Run: ', i, ', fold: ', fold)\n",
        "    X_train = X[train_idx]\n",
        "    X_test = X[test_idx]\n",
        "    y_train = target[train_idx]\n",
        "    y_test = target[test_idx]\n",
        "    model = conv_fully()\n",
        "    model.fit(X_train, y_train)\n",
        "    #y_predict = tf.argmax(model.predict(X_test), axis=-1)\n",
        "    y_pred_score = model.predict(X_test).flatten()\n",
        "\n",
        "\n",
        "    # Chia giá trị từ min đến max thành 20 đoạn\n",
        "    thresholds = np.linspace(y_pred_score.min(), y_pred_score.max(), 20)\n",
        "\n",
        "    best_threshold = 0\n",
        "    best_f1 = 0\n",
        "\n",
        "    # Duyệt qua các threshold để tìm threshold có f1_score tốt nhất\n",
        "    for threshold in thresholds:\n",
        "        y_predict = (y_pred_score > threshold).astype(int)\n",
        "        score = f1_score(y_test, y_predict, pos_label=1, zero_division=0.0)\n",
        "        if score > best_f1:\n",
        "            best_f1 = score\n",
        "            best_threshold = threshold\n",
        "\n",
        "    print(\"Best threshold: \", best_threshold)\n",
        "    print(\"Best F1 score: \", best_f1)\n",
        "    y_predict = (y_pred_score > best_threshold).astype(int)\n",
        "    print(y_predict)\n",
        "\n",
        "    df = pd.DataFrame({'Actual': y_test, 'Predicted': y_predict, 'y_score': y_pred_score})\n",
        "    df.to_csv(path_dir + \"LSTMConvFully_labels.csv\", index=False)\n"
      ]
    },
    {
      "cell_type": "code",
      "execution_count": null,
      "metadata": {
        "colab": {
          "base_uri": "https://localhost:8080/"
        },
        "id": "xLHWxsBNLXV1",
        "outputId": "41610299-cf82-4ad5-93a3-d324eb6f2fdb"
      },
      "outputs": [
        {
          "name": "stdout",
          "output_type": "stream",
          "text": [
            "18/18 [==============================] - 1s 36ms/step\n",
            "F1 score:  0.0\n"
          ]
        }
      ],
      "source": [
        "y_pred = tf.argmax(model.predict(X_test), axis=-1)\n",
        "print(\"F1 score: \", f1_score(y_pred, target_test))\n",
        "save_predictions_to_csv(target_test, y_pred, 'PredictionsSimpleLSTM3.csv')"
      ]
    },
    {
      "cell_type": "code",
      "execution_count": null,
      "metadata": {
        "id": "foJ-Q_EjLXV1"
      },
      "outputs": [],
      "source": [
        "model_name = \"deeplearning_1DConv\"\n",
        "# save_model(DATA_HOME + model_name + \".json\", DATA_HOME + model_name + \".h5\")\n",
        "# model = load_model(DATA_HOME + model_name + \".json\", DATA_HOME + model_name + \".h5\")\n",
        "#print_layers_dims(model)\n",
        "# model.save(DATA_HOME + model_name + \".keras\")\n",
        "# model = keras.models.load_model(DATA_HOME + model_name + \".keras\")"
      ]
    },
    {
      "cell_type": "markdown",
      "metadata": {
        "id": "7p64ZH_CLXV1"
      },
      "source": [
        "## Making a new prediction"
      ]
    },
    {
      "cell_type": "code",
      "execution_count": null,
      "metadata": {
        "id": "_Xr7icY_LXV2"
      },
      "outputs": [],
      "source": [
        "test_url_mal = \"naureen.net/etisalat.ae/index2.php\"\n",
        "test_url_benign = \"sixt.com/php/reservation?language=en_US\"\n",
        "\n",
        "url = test_url_mal"
      ]
    },
    {
      "cell_type": "code",
      "execution_count": null,
      "metadata": {
        "id": "PD9K99KNLXV2"
      },
      "outputs": [],
      "source": [
        "# Step 1: Convert raw URL string in list of lists where characters that are contained in \"printable\" are stored encoded as integer\n",
        "url_int_tokens = [[printable.index(x) + 1 for x in url if x in printable]]\n",
        "\n",
        "# Step 2: Cut URL string at max_len or pad with zeros if shorter\n",
        "max_len=75\n",
        "XY = sequence.pad_sequences(url_int_tokens, maxlen=max_len)"
      ]
    },
    {
      "cell_type": "code",
      "execution_count": null,
      "metadata": {
        "colab": {
          "base_uri": "https://localhost:8080/"
        },
        "id": "L1Q_LS_3LXV2",
        "outputId": "f56bd37b-d8eb-4bd1-bdf4-9369c2987d6b"
      },
      "outputs": [
        {
          "name": "stdout",
          "output_type": "stream",
          "text": [
            "1/1 [==============================] - 0s 23ms/step\n",
            "Test URL: naureen.net/etisalat.ae/index2.php is benign\n"
          ]
        }
      ],
      "source": [
        "target_proba = model.predict(XY, batch_size=1)\n",
        "def print_result(proba):\n",
        "    if proba > 0.5:\n",
        "        return \"malicious\"\n",
        "    else:\n",
        "        return \"benign\"\n",
        "print(\"Test URL:\", url, \"is\", print_result(target_proba[0]))"
      ]
    },
    {
      "cell_type": "code",
      "execution_count": null,
      "metadata": {
        "colab": {
          "base_uri": "https://localhost:8080/",
          "height": 17
        },
        "collapsed": true,
        "id": "14sCndoJLXV2",
        "outputId": "ac77a2d9-aaf2-4b85-b9fb-eeb01cedb5fd"
      },
      "outputs": [
        {
          "data": {
            "application/javascript": [
              "\n",
              "    async function download(id, filename, size) {\n",
              "      if (!google.colab.kernel.accessAllowed) {\n",
              "        return;\n",
              "      }\n",
              "      const div = document.createElement('div');\n",
              "      const label = document.createElement('label');\n",
              "      label.textContent = `Downloading \"${filename}\": `;\n",
              "      div.appendChild(label);\n",
              "      const progress = document.createElement('progress');\n",
              "      progress.max = size;\n",
              "      div.appendChild(progress);\n",
              "      document.body.appendChild(div);\n",
              "\n",
              "      const buffers = [];\n",
              "      let downloaded = 0;\n",
              "\n",
              "      const channel = await google.colab.kernel.comms.open(id);\n",
              "      // Send a message to notify the kernel that we're ready.\n",
              "      channel.send({})\n",
              "\n",
              "      for await (const message of channel.messages) {\n",
              "        // Send a message to notify the kernel that we're ready.\n",
              "        channel.send({})\n",
              "        if (message.buffers) {\n",
              "          for (const buffer of message.buffers) {\n",
              "            buffers.push(buffer);\n",
              "            downloaded += buffer.byteLength;\n",
              "            progress.value = downloaded;\n",
              "          }\n",
              "        }\n",
              "      }\n",
              "      const blob = new Blob(buffers, {type: 'application/binary'});\n",
              "      const a = document.createElement('a');\n",
              "      a.href = window.URL.createObjectURL(blob);\n",
              "      a.download = filename;\n",
              "      div.appendChild(a);\n",
              "      a.click();\n",
              "      div.remove();\n",
              "    }\n",
              "  "
            ],
            "text/plain": [
              "<IPython.core.display.Javascript object>"
            ]
          },
          "metadata": {},
          "output_type": "display_data"
        },
        {
          "data": {
            "application/javascript": [
              "download(\"download_b9825e5c-aab4-4786-84ba-63f3e605669c\", \"LSTMConv.zip\", 3890)"
            ],
            "text/plain": [
              "<IPython.core.display.Javascript object>"
            ]
          },
          "metadata": {},
          "output_type": "display_data"
        }
      ],
      "source": [
        "import shutil\n",
        "\n",
        "# Nén thư mục /content/results thành tệp results.zip\n",
        "shutil.make_archive('/content/LSTMConv', 'zip', '/content/LSTMConv')\n",
        "\n",
        "# Sử dụng hàm download của Google Colab để tải tệp .zip về máy\n",
        "from google.colab import files\n",
        "files.download('/content/LSTMConv.zip')"
      ]
    },
    {
      "cell_type": "code",
      "execution_count": null,
      "metadata": {
        "id": "70MkBBdWqfEz"
      },
      "outputs": [],
      "source": []
    }
  ],
  "metadata": {
    "colab": {
      "provenance": []
    },
    "kernelspec": {
      "display_name": "Python 3.9",
      "language": "python",
      "name": "py39"
    },
    "language_info": {
      "codemirror_mode": {
        "name": "ipython",
        "version": 3
      },
      "file_extension": ".py",
      "mimetype": "text/x-python",
      "name": "python",
      "nbconvert_exporter": "python",
      "pygments_lexer": "ipython3",
      "version": "3.9.19"
    }
  },
  "nbformat": 4,
  "nbformat_minor": 0
}